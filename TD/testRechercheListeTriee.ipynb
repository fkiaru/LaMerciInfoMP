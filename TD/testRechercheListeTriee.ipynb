{
 "cells": [
  {
   "cell_type": "markdown",
   "metadata": {},
   "source": [
    "# Recherche dichotomique dans une liste triée"
   ]
  },
  {
   "cell_type": "markdown",
   "metadata": {},
   "source": [
    "Principe:\n",
    "\n",
    "On utilise un intervalle de recherche défini par les indices $\\texttt{[iA, iB]}$ (indices inclus). A chaque itération, on prend l'indice $\\texttt{iC}$ du milieu  de l'intervalle de recherche et on lit la valeur de l'élément $\\texttt{L[iC]}$ qui correspond :\n",
    "\n",
    "+ soit x est trouvé, on s'arrête en renvoyant True,\n",
    "+ soit x est **supérieure à** la valeur du point milieu. Cela signifie qu'il faut poursuivre la recherche dans la moitié supérieure de la liste triée (c'est-à-dire dans l'intervalle $\\texttt{[iC+1, iB]}$), car les valeurs plus grandes s'y trouvent. On poursuit donc la recherche en actualisant la borne inférieure par l'instruction $\\texttt{iA = iC + 1}$.\n",
    "+ soit x est **inférieure à** la valeur du point milieu. On poursuit la recherche en actualisant la borne supérieure par l'instruction $\\texttt{iB = iC - 1}$ afin que poursuivre la recherche dans l'intervalle $\\texttt{[iA, iC-1]}$\n",
    "\n",
    "L'algorithme se poursuit donc tant que l'intervalle de recherche est au moins de largeur 1."
   ]
  },
  {
   "cell_type": "markdown",
   "metadata": {},
   "source": [
    "**Compléter le code ci-dessous**"
   ]
  },
  {
   "cell_type": "code",
   "execution_count": 8,
   "metadata": {},
   "outputs": [],
   "source": [
    "def rechercheDico(L,x) : # L est supposée triée par ordre croissant\n",
    "    iA, iB = 0, len(L)-1 \n",
    "    while iB >= iA :    # tant que l'intervalle de recherche contient contient au moins un élément\n",
    "        iC = (iA+iB)//2 # indice du point milieu arrondi à la valeur entière\n",
    "        print(iA,iB,iC,L[iC]) # affichage pour le suivi du déroulement de l'algorithme\n",
    "        # 3 possibilités\n",
    "        if L[iC]==x :  # trouvé !\n",
    "            return True\n",
    "        if L[iC] < x :  \n",
    "            iA = iC+1\n",
    "        else :\n",
    "            iB = iC-1  \n",
    "    return False"
   ]
  },
  {
   "cell_type": "code",
   "execution_count": 9,
   "metadata": {},
   "outputs": [
    {
     "name": "stdout",
     "output_type": "stream",
     "text": [
      "Liste =  [24888 18011  -805 ...  8074 16760 24396]\n",
      "Liste =  [-4998 -4993 -4991 ... 24987 24990 24990]\n",
      "Cet élément est dans la liste :  5508\n"
     ]
    }
   ],
   "source": [
    "# code de validation à exécuter\n",
    "import numpy.random as rd\n",
    "a, b, N = -5000, 25000, 5000\n",
    "L = rd.randint(a, b, N)\n",
    "print(\"Liste = \",L)\n",
    "L.sort()\n",
    "print(\"Liste = \",L)\n",
    "print(\"Cet élément est dans la liste : \", L[N//3])"
   ]
  },
  {
   "cell_type": "code",
   "execution_count": 12,
   "metadata": {},
   "outputs": [
    {
     "name": "stdout",
     "output_type": "stream",
     "text": [
      "0 4999 2499 10323\n",
      "0 2498 1249 3005\n",
      "1250 2498 1874 6846\n",
      "1250 1873 1561 4890\n",
      "1250 1560 1405 3984\n",
      "1406 1560 1483 4470\n",
      "1484 1560 1522 4622\n",
      "1523 1560 1541 4759\n",
      "1542 1560 1551 4800\n",
      "1542 1550 1546 4774\n",
      "1547 1550 1548 4788\n",
      "1549 1550 1549 4793\n"
     ]
    },
    {
     "data": {
      "text/plain": [
       "False"
      ]
     },
     "execution_count": 12,
     "metadata": {},
     "output_type": "execute_result"
    }
   ],
   "source": [
    "rechercheDico(L,4789) # à compléter"
   ]
  },
  {
   "cell_type": "code",
   "execution_count": 13,
   "metadata": {},
   "outputs": [
    {
     "name": "stdout",
     "output_type": "stream",
     "text": [
      "[1, 2, 3, 4]\n"
     ]
    }
   ],
   "source": [
    "L1 = [1,2,3]\n",
    "L2 = L1\n",
    "L1 +=[4] # L1.append(4)\n",
    "print(L2)"
   ]
  },
  {
   "cell_type": "code",
   "execution_count": 14,
   "metadata": {},
   "outputs": [
    {
     "name": "stdout",
     "output_type": "stream",
     "text": [
      "[1, 2, 3]\n"
     ]
    }
   ],
   "source": [
    "L1 = [1,2,3]\n",
    "L2 = L1\n",
    "L1 =L1 + [4] # L1.append(4)\n",
    "print(L2)"
   ]
  },
  {
   "cell_type": "code",
   "execution_count": 15,
   "metadata": {},
   "outputs": [
    {
     "name": "stdout",
     "output_type": "stream",
     "text": [
      "[1, 2, 3]\n"
     ]
    }
   ],
   "source": [
    "L1 = [1,2,3]\n",
    "L2 = L1[:]\n",
    "L1 +=[4] # L1.append(4)\n",
    "print(L2)"
   ]
  },
  {
   "cell_type": "code",
   "execution_count": 19,
   "metadata": {},
   "outputs": [],
   "source": [
    "def concat(L):\n",
    "    L=L+[3]"
   ]
  },
  {
   "cell_type": "code",
   "execution_count": 20,
   "metadata": {},
   "outputs": [
    {
     "name": "stdout",
     "output_type": "stream",
     "text": [
      "[0, 1, 2]\n"
     ]
    }
   ],
   "source": [
    "L0 = [0,1,2]\n",
    "concat(L0)\n",
    "print(L0)"
   ]
  },
  {
   "cell_type": "code",
   "execution_count": null,
   "metadata": {},
   "outputs": [],
   "source": []
  },
  {
   "cell_type": "code",
   "execution_count": null,
   "metadata": {},
   "outputs": [],
   "source": []
  }
 ],
 "metadata": {
  "kernelspec": {
   "display_name": "Python 3",
   "language": "python",
   "name": "python3"
  },
  "language_info": {
   "codemirror_mode": {
    "name": "ipython",
    "version": 3
   },
   "file_extension": ".py",
   "mimetype": "text/x-python",
   "name": "python",
   "nbconvert_exporter": "python",
   "pygments_lexer": "ipython3",
   "version": "3.7.6"
  }
 },
 "nbformat": 4,
 "nbformat_minor": 4
}
