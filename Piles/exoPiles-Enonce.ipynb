{
 "cells": [
  {
   "cell_type": "markdown",
   "metadata": {},
   "source": [
    "# Exercice : palindrome\n",
    "Un palindrome est un texte ou un mot dont l'ordre des lettres reste identique qu'on le lise de gauche à droite ou de droite à gauche.\n",
    "\n",
    "Exemples : *radar*,*été*, *erre*, *kayak*, *rotor* sont des palindromes.\n",
    "\n",
    "En utilisant une structure de pile, écrire une fonction ``estPalindrome(s)`` qui renvoie *True* si la chaîne de caractère *s* est un palindrome, *False* sinon.\n",
    "\n",
    "Estimer la complexité de votre algorithme en espace et en temps.\n"
   ]
  },
  {
   "cell_type": "code",
   "execution_count": null,
   "metadata": {},
   "outputs": [],
   "source": [
    "def estPalindrome(s):\n",
    "    '''\n",
    "    entrée: s  = chaîne de caractère\n",
    "               = mot à analyser\n",
    "    sortie: booléen = Vrai si s est un palindrome\n",
    "    '''"
   ]
  },
  {
   "cell_type": "code",
   "execution_count": 3,
   "metadata": {},
   "outputs": [
    {
     "name": "stdout",
     "output_type": "stream",
     "text": [
      "radar \t True\n",
      "été \t True\n",
      "math \t False\n",
      "erre \t True\n",
      "maths \t False\n"
     ]
    }
   ],
   "source": [
    "# Script de validation de la fonction estPalindrome\n",
    "# on utilise des mots avec un nombre de lettres qui est pair et impair\n",
    "\n",
    "listeTest=['radar','été','math','erre','maths']\n",
    "for mot in listeTest:\n",
    "    print(mot,'\\t',estPalindrome(mot))"
   ]
  },
  {
   "cell_type": "markdown",
   "metadata": {},
   "source": [
    "# Exercice : notation polonaise inversée\n",
    "La **notation polonaise inversée**, également appelée * notation post-fixée*, permet d'écrire de façon non ambiguë des formules arithmétiques sans utiliser de parenthèses.\n",
    "\n",
    "Au lieu d'écrire les opérandes autour de l'opérateur (comme $4+5$), on écrit d'abord les opérandes, puis l'opérateur (``[ 4 , 5 , \"+\" ] ``).\n",
    "\n",
    "Par exemple, l'expression $3 \\times ( 4 + 7)$ peut s'écrire:\n",
    "\n",
    " `` [ 3 , 4 , 7 , \"+\" , \"*\" ] ``\n",
    "\n",
    "ou `` [ 4 , 7 , \"+\" , 3 , \"*\" ] ``\n",
    "\n",
    "De même l'expression\n",
    "$$A=((23-4)\\times 4+11/3$$\n",
    "peut s'écrire:\n",
    "\n",
    "``[ 24 , 4 , \"-\" , 4 , \"*\" , 11 , 3 , \"/\" , \"+\" ] ``\n",
    "\n",
    "En utilisant une pile, écrire une fonction ``evalueNPI(expr)`` qui permet d'évaluer une expression en notation polonaise inversée. On utilisera en entrée une liste d'éléments étant :\n",
    "- ou bien des nombres (entiers ou flottants) pour les opérandes,\n",
    "- ou bien des caractères ``\"+\", \"-\", \"*\", \"/\" `` pour les opérateurs.\n",
    "\n"
   ]
  },
  {
   "cell_type": "code",
   "execution_count": null,
   "metadata": {},
   "outputs": [],
   "source": [
    "def evalueNP2(expr) :\n",
    "    '''entrée = expr, expression étant une liste sous la forme opérande, ou opérateur \n",
    "    Sortie = valeur de l expression évaluée, ou erreur sinon'''"
   ]
  },
  {
   "cell_type": "code",
   "execution_count": 6,
   "metadata": {},
   "outputs": [
    {
     "name": "stdout",
     "output_type": "stream",
     "text": [
      "[4, 5, '+'] valeur =  9\n",
      "[24, 4, '-', 4, '*', 11, 3, '/', '+'] valeur =  83.66666666666667\n",
      "[3, 4, 7, '+', '*'] valeur =  33\n",
      "[4, 7, '+', 3, '*'] valeur =  33\n"
     ]
    }
   ],
   "source": [
    "# Validation de la fonction à l'aide de 4 expressions\n",
    "E1=[4,5,'+']\n",
    "E2=[24,4,\"-\",4,\"*\",11,3,\"/\",\"+\"]\n",
    "E3=[3,4,7,\"+\",\"*\"]\n",
    "E4=[4,7,\"+\",3,\"*\"]\n",
    "listExp=[E1,E2,E3,E4]\n",
    "for exp in listExp:\n",
    "    print(exp,'valeur = ',evaluateNPI(exp))"
   ]
  },
  {
   "cell_type": "code",
   "execution_count": null,
   "metadata": {},
   "outputs": [],
   "source": []
  },
  {
   "cell_type": "markdown",
   "metadata": {},
   "source": [
    "# Exercice : mélange de cartes\n",
    "\n",
    "On souhaite simuler un mélange de cartes à l'aide de piles :\n",
    "- on prend le paquet, on le coupe au hasard. On obtient deux paquets, soit un dans chaque main.\n",
    "- on mélange les deux paquets en choisissant au hasard une carte de la main gauche ou une carte de la main droite jusqu'à épuisement des deux paquets.\n",
    "\n",
    "Un paquet de cartes est assimilé à une liste d'entiers parmi  $[\\![ 1, n ]\\!]$.\n"
   ]
  },
  {
   "cell_type": "markdown",
   "metadata": {},
   "source": [
    "**1. Ecrire une fonction  ``coupe(paquet)``** qui admet la pile *paquet* comme paramètre d'entrée, qui retire de cette pile un nombre aléatoire d'éléments de son sommet et renvoie une seconde pile comportant les éléments ayant été retiré.\n",
    "\n",
    "*Exemple* : pour la pile ``paquet = [ 1 , 2 , 3 , 4, 5 , 6 , 7 ]``, on tire au hasard un élément de $[\\![ 1\\, \\, 6 ]\\!]$.\n",
    "\n",
    "Si on obtient 3, alors la fonction renvoie : ``[ 5 , 6 , 7 ] `` (les 3 éléments situés au dessus du paquet) et la pile initiale devient ``[ 1 , 2 , 3 , 4 ] ``"
   ]
  },
  {
   "cell_type": "code",
   "execution_count": 4,
   "metadata": {},
   "outputs": [
    {
     "name": "stdout",
     "output_type": "stream",
     "text": [
      "Help on method randrange in module random:\n",
      "\n",
      "randrange(start, stop=None, step=1, _int=<class 'int'>) method of random.Random instance\n",
      "    Choose a random item from range(start, stop[, step]).\n",
      "    \n",
      "    This fixes the problem with randint() which includes the\n",
      "    endpoint; in Python this is usually not what you want.\n",
      "\n"
     ]
    }
   ],
   "source": [
    "from random import randrange\n",
    "help(randrange)"
   ]
  },
  {
   "cell_type": "code",
   "execution_count": null,
   "metadata": {},
   "outputs": [],
   "source": [
    "def coupe(paquet):\n",
    "    '''Entrée: paquet est une pile d'entiers de n éléments\n",
    "    Sortie : la pile initiale à laquelle on a retiré entre 1 et n-1 éléments\n",
    "    et la pile des éléments retirés, dans le même ordre que la pile initiale'''"
   ]
  },
  {
   "cell_type": "code",
   "execution_count": 8,
   "metadata": {},
   "outputs": [
    {
     "name": "stdout",
     "output_type": "stream",
     "text": [
      "[0, 1, 2, 3, 4, 5, 6, 7, 8]\n",
      "[9, 10, 11]\n"
     ]
    }
   ],
   "source": [
    "# Validation de la fonction coupe\n",
    "paq1=[k for k in range(12)]\n",
    "paq2=coupe(paq1)\n",
    "print(paq1)\n",
    "print(paq2)"
   ]
  },
  {
   "cell_type": "markdown",
   "metadata": {},
   "source": [
    "**2. Ecrire une fonction ``melange(paquet1,paquet2)``** qui prend en entrée peux piles et renvoie la pile mélangée."
   ]
  },
  {
   "cell_type": "code",
   "execution_count": null,
   "metadata": {},
   "outputs": [],
   "source": [
    "def melange(paquet1, paquet2) :\n",
    "    ''' Principe : on initialise une pile VIDE.\n",
    "    ON boucle tant que paquet1 et paquet2 sont non vides, \n",
    "    tirer au hasard un des paquets\n",
    "    empiler la carte du dessus dans la pile résultat.\n",
    "    Dès qu'un des paquets est vide, vide le plein dans le résulat.'''"
   ]
  },
  {
   "cell_type": "code",
   "execution_count": 10,
   "metadata": {},
   "outputs": [
    {
     "name": "stdout",
     "output_type": "stream",
     "text": [
      "[0, 1, 2, 3, 4, 5, 6, 7] [8, 9, 10, 11]\n",
      "[7, 6, 5, 11, 10, 4, 3, 9, 2, 8, 1, 0]\n",
      "[] []\n"
     ]
    }
   ],
   "source": [
    "#Validation du mélange\n",
    "paq1=[k for k in range(12)]\n",
    "paq2=coupe(paq1)\n",
    "print(paq1,paq2)\n",
    "paq3=melange(paq1,paq2)\n",
    "print(paq3)\n",
    "print(paq1,paq2)\n"
   ]
  },
  {
   "cell_type": "markdown",
   "metadata": {},
   "source": [
    "# Exercice : Empiler, dépiler, rempiler, ...\n",
    "##  Renversement d'une pile\n",
    "Ecrire une fonction ``renverse(p)`` qui prend une pile en argument et renvoie une autre pile constituée des mêmes éléments placés dans l'ordre inverse. On s'autorise à vide la pile fournie en argument. Quelle est la complexité en temps et en espace de cette fonction~?"
   ]
  },
  {
   "cell_type": "code",
   "execution_count": null,
   "metadata": {},
   "outputs": [],
   "source": [
    "def renverse(p):"
   ]
  },
  {
   "cell_type": "markdown",
   "metadata": {},
   "source": [
    "## Accès à un élément par son indice\n",
    "Ecrire une fonction ``renvoie(p,n)`` qui lit le n-ième élément d'une pile en comptant depuis son sommet : \n",
    "\n",
    "pour n=0, la fonction renvoie l'élément du haut de la pile, pour n=1, celui immédiatement en dessus, etc...\n",
    "\n",
    "On s'assurera que la pile en sortie contient toujours les mêmes éléments. On prévoira le cas où la pile n'est pas de taille suffisante pour que le n-ième élément existe, dans ce cas, la fonction ne renvoie rien.\n",
    "\n",
    "*Indication* : on pourra utiliser une deuxième pile."
   ]
  },
  {
   "cell_type": "code",
   "execution_count": null,
   "metadata": {},
   "outputs": [],
   "source": [
    "def renvoie1(p,n) :\n",
    "    ''' Principe, on utilise une pile auxiliaire qui sert \n",
    "    à stocker les n valeurs renversées puis on reconstitue toute la pile\n",
    "    en dépilant à noueau la pile auxilaire dans la pile initiale'''"
   ]
  },
  {
   "cell_type": "markdown",
   "metadata": {},
   "source": [
    "## Mise au fond\n",
    "\n",
    "Ecrire une fonction ``top2groud(p)`` qui prend une pile non vide en argument et place l'élément situé à son sommet tout au fond de la pile, en conservant l'odre des autres éléments.\n",
    "\n",
    "Quelle est sa complexité en temps et en espace ?"
   ]
  },
  {
   "cell_type": "code",
   "execution_count": 5,
   "metadata": {},
   "outputs": [],
   "source": [
    "def top2groud(p):\n",
    "    '''Principe : on stocke le 1er élément, on dépile tout, on empile le 1er élément\n",
    "    On réempile tout'''"
   ]
  },
  {
   "cell_type": "markdown",
   "metadata": {},
   "source": [
    "# Projet : labyrinthe parfait"
   ]
  },
  {
   "cell_type": "markdown",
   "metadata": {},
   "source": [
    "On cherche à construire un labyrinthe parfait de dimensions données. Il s'agit d'un labyrinthe où, pour toute paire de points, il existe un et un seul chemin entre ces deux points. Voici un exemple de labyrinthe parfait de dimension $30 \\times 30$."
   ]
  },
  {
   "cell_type": "markdown",
   "metadata": {},
   "source": [
    "![labyrinthe](labyrintheParfait2.png)"
   ]
  },
  {
   "cell_type": "markdown",
   "metadata": {},
   "source": [
    "On considère le script ci-dessous. Voici son descriptif à lire attentivement.\n",
    "\n",
    "On construit une matrice de booléens (n,n), *atteinte* indiquant, pour chaque case, si elle a déjà été atteinte par une chemin (initialement ``False``), lignes (2 et 3).\n",
    "\n",
    "On se donne deyx fonctions ``visiter`` et ``est_atteinte`` permettant respectivement de modifier (lignes 7 à 11) et consulter (lignes 13 à 17) le contenu de la matrice *atteinte*.\n",
    "\n",
    "La fonction ``choix`` réalise l'opération suivante : étant donné une case *c*, (position (x,y)), elle renvoie les positions adjacentes non encore visitées (haut, bas, gauche ou droite). Le résultat est renvoyé sous la forme d'un tableau de 0 à 4 éléments.\n",
    "\n",
    "On notera que cette fonction ``choix`` fait appel à la *fonction locale*, ``ajouter(p)``, qui remplit ajoute la case ``p`` au tableau ``r`` si cette case n'est pas atteinte.\n",
    "\n",
    "La dernière fonction auxilaire est la fonction ``tirage(L)`` qui prend un élément au hasard  le tableau ``L`` fourni en argument et le renvoie. Elle sert à choisir aléatoirement parmi les directions possibles renvoyées par la fonction ``choix`` précédente. Cette fonction utilise la méthode randint() de la bibliothèqe random pour générer aléatoirement un nombre entier en *0* et *n-1* inclus.\n",
    "\n",
    "Enfin, la fonction de construction du labyrinthe ``labyrinthe`` utilise une pile nommé *pile* contenant les emplacements à partir desquels on est susceptible de se déplacer. Initialement, on y place la case (0,0) (en haut à gauche) et on la marque comme visitée.\n",
    "\n",
    "Puis, tant que la pile n'est pas vide, on extrait son sommet ``cellule`` (lignes 40 et 41). On examine alors les déplacements encore possibles (ligne 42) : s'il en existe au moins un, on en choisit un au hasard avec la fonction ``tirage`` (lignes 43 et 44). Cette nouvelle cellule choisie est notée ``suivante``.\n",
    "\n",
    "On **relie alors les cases** ``cellule`` et ``suivante``: c'est la partie que vous avez à compléter en utilisant le tableau image ``image0`` dans la dimension doit être judicieusement choisie...\n",
    "\n",
    "Enfin, les lignes 48 à 50 permettent de noter la case ``suivante`` comme visitée, puis d'empiler successivement ces deux cases dans la pile ``pile``."
   ]
  },
  {
   "cell_type": "code",
   "execution_count": 3,
   "metadata": {},
   "outputs": [
    {
     "data": {
      "image/png": "[encoded data removed]",
      "text/plain": [
       "<Figure size 432x288 with 1 Axes>"
      ]
     },
     "metadata": {
      "needs_background": "light"
     },
     "output_type": "display_data"
    }
   ],
   "source": [
    "import matplotlib.image as mpimg\n",
    "import matplotlib.pyplot as plt\n",
    "import numpy as np\n",
    "#construction d'un labyrinthe parfait\n",
    "n = 35\n",
    "atteinte = [[False] * n for i in range(n)]\n",
    "def visiter(c): # écrit la case c comme atteinte.\n",
    "    (x,y) = c\n",
    "    if x<0 or x>=n or y<0 or y>=n:\n",
    "        return # on sort de la fonction\n",
    "    atteinte[x][y] = True\n",
    "    \n",
    "def est_atteinte(c): # donne l'état (atteinte ou non) de la case c.\n",
    "    (x,y) = c\n",
    "    if x<0 or x>=n or y<0 or y>=n:\n",
    "        return True\n",
    "    return atteinte[x][y]\n",
    "\n",
    "def choix(c):\n",
    "    (x,y)=c\n",
    "    r=[]\n",
    "    def ajouter(p):\n",
    "        if not est_atteinte(p): \n",
    "            r.append(p)\n",
    "    ajouter ((x-1,y))\n",
    "    ajouter ((x+1,y))\n",
    "    ajouter ((x,y-1))\n",
    "    ajouter ((x,y+1))\n",
    "    return r\n",
    "\n",
    "def tirage(L):\n",
    "    n=len(L)\n",
    "    assert n>0\n",
    "    return L[np.random.randint(0,n)]\n",
    "\n",
    "def labyrinthe():\n",
    "    # pile = creer pile # A MODIFIER\n",
    "    # pile =  empile(pile,(0,0))# A MODIFIER\n",
    "    visiter((0,0)) \n",
    "    while not pile# est_vide(pile) : A MODIFIER\n",
    "        cellule# = dépiler(piler)\n",
    "        c = choix(cellule)\n",
    "        if len(c)>0:\n",
    "            suivante=tirage(c)\n",
    "            # relier les cases cellulee et suivante\n",
    "            # A COMPLETER\n",
    "            # ...\n",
    "            visiter(suivante)\n",
    "             # empiler(pile,cellue) A MODIFIER\n",
    "             # empiler(pile,suivante) A MODIFIER\n",
    "image0 = np.zeros((#,#, 3), dtype=np.uint8) # A COMPLETER \n",
    "labyrinthe()\n",
    "plt.imshow(image0)\n",
    "plt.axis('off')\n",
    "mpimg.imsave(\"laby1.png\",image0)"
   ]
  },
  {
   "cell_type": "markdown",
   "metadata": {},
   "source": [
    "**Travail à faire** : on demande de compléter le programme ci-dessus de manière à générer convenablement le labryinthe sous forme d'une image à l'écran et d'un fichier *.png* enregistré sur le disque dur."
   ]
  }
 ],
 "metadata": {
  "kernelspec": {
   "display_name": "Python 3",
   "language": "python",
   "name": "python3"
  },
  "language_info": {
   "codemirror_mode": {
    "name": "ipython",
    "version": 3
   },
   "file_extension": ".py",
   "mimetype": "text/x-python",
   "name": "python",
   "nbconvert_exporter": "python",
   "pygments_lexer": "ipython3",
   "version": "3.7.6"
  }
 },
 "nbformat": 4,
 "nbformat_minor": 4
}
