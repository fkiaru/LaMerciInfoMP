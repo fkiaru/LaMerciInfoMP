{
 "cells": [
  {
   "cell_type": "markdown",
   "metadata": {},
   "source": [
    "# Informatique MP, LaMerci\n",
    "\n",
    "\n",
    "Liens vers les documents:\n",
    "\n",
    "- <a href=\"Rappels1A/DM0correction.ipynb\" target=\"_blank\">Correction du DM0</a>\n",
    "\n",
    "- <a href=\"Rappels1A/IPT_rappels1A-26aout.ipynb\" target=\"_blank\">Poly de révision</a>\n",
    "\n",
    "- <a href=\"Rappels1A/TD_Rappels-Enonce.ipynb\" target=\"_blank\">TD_Rappels-Enonce</a> [<a href=\"Rappels1A/TD_Rappels-Correction.ipynb\" target=\"_blank\">Correction</a>]\n",
    "\n",
    "- <a href=\"Rappels1A/TD/testRechercheListeTriée.ipynb\" target=\"_blank\">Recherche dichotomique</a> [<a href=\"Rappels1A/TD_Rappels-Correction.ipynb\" target=\"_blank\">Correction</a>]\n"
   ]
  },
  {
   "cell_type": "markdown",
   "metadata": {},
   "source": [
    "# Prise en main (rapide) de Jupyter Notebook\n",
    "\n",
    "Un notebook jupyter est divisé en cellules. Voici les deux types de cellules que nous utiliserons:\n",
    "\n",
    "- les cellules **mardown** telle que celle que vous êtes en train de lire: il s'agit de contenu lisible qui n'est pas exécutable\n",
    "Taper une équation $$\\int_{x=0}^{\\infty} exp(-x^2) \\textrm{d}x $$\n",
    "\n",
    "- les cellules de **code** qui contiennent du code Python destiné à être exécuter."
   ]
  },
  {
   "cell_type": "code",
   "execution_count": 3,
   "metadata": {},
   "outputs": [
    {
     "name": "stdout",
     "output_type": "stream",
     "text": [
      "bonjour\n",
      "x+ y =  5\n"
     ]
    }
   ],
   "source": [
    "print('bonjour')\n",
    "x =2\n",
    "y = 3\n",
    "print(\"x+ y = \",x+y)"
   ]
  },
  {
   "cell_type": "markdown",
   "metadata": {},
   "source": [
    "## Titre en markdown\n",
    "\n",
    "edition\n"
   ]
  },
  {
   "cell_type": "code",
   "execution_count": null,
   "metadata": {},
   "outputs": [],
   "source": [
    "# Ceci est une cellule de Code\n",
    "print(\"Bonjour\")                  # affichage d'un texte\n",
    "a = 2 + 2                         # la variable a reçoit le résultat de l'opération d'addition\n",
    "print(\"Le double de a est \", 2*a) # affichage d'une texte et d'une valeur numérique"
   ]
  },
  {
   "cell_type": "markdown",
   "metadata": {},
   "source": [
    "## Validation d'une cellule\n",
    "\n",
    "Pour valider le contenu d'une cellule, il faut l'**activer** (en cliquant dessus) puis appuyer sur ``MAJ + Enter``\n",
    "\n",
    "> Pour s'entrainer : Valider la cellule de code *ci-dessus* **pour exécuter le code Python** qu'elle contient."
   ]
  },
  {
   "cell_type": "markdown",
   "metadata": {},
   "source": [
    "## Modificaiton d'un cellule mardown\n",
    "\n",
    "Pour modifier une cellule de type mardown, il faut double cliquer dessus avec la souris\n",
    "\n",
    "> Pour s'entrainer :\n",
    " ajouter du texte ci-dessous dans cette cellule.\n",
    " \n",
    " double-clic\n",
    "\n",
    "Remarque: les cellules markdown acceptent le format LaTeX pour écrire des équations mathématiques:\n",
    "\n",
    "Les équations dans le texte $x = y^2$, $ f : x \\to \\frac{x^2}{2}$\n",
    "\n",
    "Les équations à la ligne:\n",
    "$$I_\\alpha=\\int_{x=0}^\\infty x^\\alpha \\textrm{d}x$$"
   ]
  },
  {
   "cell_type": "markdown",
   "metadata": {},
   "source": [
    "## Quelques racourcis clavier utiles avec Jupyter Notebook\n",
    "\n",
    "Pour utiliser un raccourci clavier, il faut d'abord appuyer sur la touche ``Escape`` (Echap) afin de sortir du mode édition.\n",
    "\n",
    "La **cellule active** devient alors encadrée en bleu. \n",
    "\n",
    "Une autre possibilité est de cliquer avec la souris afin de sélectionner une autre cellule que la cellule active.\n",
    "\n",
    "- touche **a** : insersion d'un cellule de code ``above`` (au dessus) de la cellule active.\n",
    "\n",
    "\n",
    "- touche **b** : insersion d'un cellule de code ``bellow`` (en dessous) de la cellule active.\n",
    "\n",
    "\n",
    "- touches **dd** : suppression de la cellule active. (Annulation avec la commande Onglet Edit> Undo Delete Cells)\n",
    "\n",
    "\n",
    "- touche **m** : convertir la cellule active en **cellule markdown**\n",
    "\n",
    "\n",
    "- touche **y** : convertir la cellule active en **cellule de code**\n",
    "\n",
    "\n",
    "-  touche **h** : affiche l'ensemble des racourcis clavier de l'environnement Jupyter Notebook\n",
    "\n",
    "> Pour s'entrainer :\n",
    " 1. Insérer une cellule de code *sous* cette cellule. \n",
    " 2. Taper dans cette cellule l'instruction ``2+2``. Puis l'exécuter.\n",
    " 3. Insérer *au-dessus* de cellule. Une cellule markdown. "
   ]
  },
  {
   "cell_type": "markdown",
   "metadata": {},
   "source": [
    "# Complément : installation de Jupyter sous Windows 10\n",
    "\n",
    "Voici un tutoriel détaillé :\n",
    "<a href=\"TutorielInstallationJupyterWindows10.pdf\" target=\"_blank\">TutorielInstallationJupyterWindows10.pdf</a>\n",
    " "
   ]
  },
  {
   "cell_type": "code",
   "execution_count": null,
   "metadata": {},
   "outputs": [],
   "source": []
  }
 ],
 "metadata": {
  "kernelspec": {
   "display_name": "Python 3",
   "language": "python",
   "name": "python3"
  },
  "language_info": {
   "codemirror_mode": {
    "name": "ipython",
    "version": 3
   },
   "file_extension": ".py",
   "mimetype": "text/x-python",
   "name": "python",
   "nbconvert_exporter": "python",
   "pygments_lexer": "ipython3",
   "version": "3.7.6"
  }
 },
 "nbformat": 4,
 "nbformat_minor": 4
}
