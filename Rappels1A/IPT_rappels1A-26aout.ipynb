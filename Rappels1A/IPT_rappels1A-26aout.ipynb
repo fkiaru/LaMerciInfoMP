{
 "cells": [
  {
   "cell_type": "code",
   "execution_count": null,
   "metadata": {},
   "outputs": [],
   "source": []
  },
  {
   "cell_type": "markdown",
   "metadata": {
    "slideshow": {
     "slide_type": "slide"
    }
   },
   "source": [
    "# Variables et objets en Python\n",
    "\n",
    "## Espaces de noms, références, et objets\n",
    "\n"
   ]
  },
  {
   "cell_type": "markdown",
   "metadata": {
    "slideshow": {
     "slide_type": "slide"
    }
   },
   "source": [
    "### Exemple introductif\n",
    "Considérons le script Python suivant"
   ]
  },
  {
   "cell_type": "code",
   "execution_count": 4,
   "metadata": {
    "slideshow": {
     "slide_type": "slide"
    }
   },
   "outputs": [],
   "source": [
    "a = 5 \n",
    "b, c = a, 31\n",
    "d = (a > 4) or (b > 4) and (c < 10)\n",
    "b = c // a\n",
    "c /= a\n",
    "L1 = ['C', 'D']\n",
    "L  = ['A', 'B' , L1]"
   ]
  },
  {
   "cell_type": "markdown",
   "metadata": {},
   "source": [
    "Dresser un tableau contenant la liste des variables Python à la fin de l'exécution du script en précisant pour chaque variable son type et sa valeur."
   ]
  },
  {
   "cell_type": "markdown",
   "metadata": {},
   "source": [
    "| variable | type  | valeur              |\n",
    "|----------|-------|---------------------|\n",
    "| a        | int   | 5                   |\n",
    "| b        | int   | 6                   |\n",
    "| c        | float | 6.2                 |\n",
    "| d        | bool  | True                |\n",
    "| L1       | list  | ``['C', 'D']``           |\n",
    "| L        | list  | ``['A', 'B', ['C', 'D']]`` |"
   ]
  },
  {
   "cell_type": "markdown",
   "metadata": {},
   "source": [
    "La figure ci-dessous donne l'état de la mémoire à la fin de l'exécution du script.\n",
    "\n",
    "![état de la mémoire](img/listeVariableType3.png)"
   ]
  },
  {
   "cell_type": "markdown",
   "metadata": {},
   "source": [
    "### L'espace de noms\n",
    "Durant l'exécution du script, une même variable peut **changer de valeur**  mais aussi **de type**. Pour s'y retrouver, Python distingue donc\n",
    "\n",
    "+ L'espace des objets (=la mémoire RAM), un  **objet** étant une partie la RAM qui stocke l'information de manière structurée,\n",
    "\n",
    "+ L'**espace des noms** de variables, chaque variable étant une **référence** vers un objet.\n",
    "\n",
    "Chaque objet est défini par :\n",
    "\n",
    "le type de donnée qu'il stocke,\n",
    "\n",
    "+ la valeur de l'objet proprement dite (écrite en binaire dans la mémoire),\n",
    "+ le nombre de références à cet objet.\n",
    "\n",
    "Chaque variable (ou référence vers un objet) est définie par:\n",
    "\n",
    "+ le nom utilisé pour la désigner (c'est son identificateur),\n",
    "\n",
    "+ l'adresse mémoire de l'objet qu'elle référencie."
   ]
  },
  {
   "cell_type": "markdown",
   "metadata": {},
   "source": [
    "Ainsi dans l'exemple précédent, la variable ``L1`` a pour identificateur la chaîne de caractères \"L1\". Cette variable désigne un emplacement mémoire qui est un objet de type ``list``.\n",
    "\n",
    "L'objet référencé par la variable ``L1`` :\n",
    "+ est de type ``list``\n",
    "+ a pour valeur ``['C','D']``\n",
    "+ est référencé par les variables ``L1`` et ``L[2]``.\n",
    "\n",
    "**Python libère-t-il la mémoire des objets non utilisés?**\n",
    "\n",
    "> Python conserve en mémoire RAM tout objet qui possède au moins une référence.\n",
    "\n",
    "> Dès qu'un objet cesse d'être référencé, il est supprimé et la mémoire qu'il occupait est libérée."
   ]
  },
  {
   "cell_type": "markdown",
   "metadata": {},
   "source": [
    "Exemple, si à la suite du script précédent, on exécute l'instruction d'affectation suivante :\n",
    "\n",
    "``L1 = 'bonjour'``\n",
    "\n",
    "Python crée alors un nouvel objet de type ``string`` (chaîne de caractères) contenant les caractères *bonjour*. Puis il fait référencer la variable ``L1`` sur cet objet. Notons que l'objet ``list`` vers lequel ``L1`` pointait avant cette affectation est conservé dans la mémoire car il possède encore une référence qui le désigne. \n",
    "\n",
    "Le nouvel état de la mémoire est le suivant:"
   ]
  },
  {
   "cell_type": "markdown",
   "metadata": {},
   "source": [
    "![état mémoire 2](img/listeVariableType2.png)"
   ]
  },
  {
   "cell_type": "markdown",
   "metadata": {},
   "source": [
    "### Espace de noms de fonctions\n",
    "Considérons l'exemple suivant dans lequel la fonction ``isMemberOf`` possède deux arguments."
   ]
  },
  {
   "cell_type": "code",
   "execution_count": 5,
   "metadata": {},
   "outputs": [
    {
     "name": "stdout",
     "output_type": "stream",
     "text": [
      "False\n"
     ]
    }
   ],
   "source": [
    "def isMemberOf(L,x): # renvoie True si la liste L contient l'élément x\n",
    "    n = len(L)          # nombre d'éléments de L\n",
    "    res = False         # res est le booléen qui sera renvoyé, \n",
    "                        # on l'initialise à la valeur False\n",
    "    for k in range(n) : # à chaque itération, k prend les valeurs\n",
    "                        # 0,1,2, .., n-1 => n itérations de la boucle\n",
    "        if L[k] == x:   # on teste si k-ième élément de L\n",
    "            res = True  # s'il correspond, on met res à True\n",
    "    return res          # on renvoie le résultat de la recherche\n",
    "# ---- script pour tester la fonction\n",
    "x , y = 20, 7\n",
    "L1 = [1, 5, 20, 11]\n",
    "L = [3, 4, 20, 7]\n",
    "print(isMemberOf(L1, y))"
   ]
  },
  {
   "cell_type": "markdown",
   "metadata": {},
   "source": [
    "L'état de la mémoire juste après l'initialisation de la variable ``res`` est le suivant:\n",
    "\n",
    "![état de la mémoire, espace de noms de fonction](img/espaceNomFonction2.png)"
   ]
  },
  {
   "cell_type": "markdown",
   "metadata": {},
   "source": [
    "On constate que **la fonction possède son propre espace de noms**:\n",
    "\n",
    "+ Les variables ``x`` et ``L`` dans la fonction n'ont rien de commun avec les variables ``x`` et  ``L`` du script d'appel.\n",
    "\n",
    "+ Les variables ``x`` ,``L``, ``n`` et  ``res`` de la fonction sont appelées *variables locales*."
   ]
  },
  {
   "cell_type": "markdown",
   "metadata": {},
   "source": [
    "Remarque : **utilisation d'un itérateur**.\n",
    "\n",
    "Une variable ``L`` de type ``list`` (ou ``tuple``) est dite *iterable*.\n",
    "\n",
    "Cela signifie que l'on peut parcourir l'ensemble de ses éléments à l'aide d'une boucle ``for`` :\n",
    "\n",
    "`` for el in L : ``\n",
    "\n",
    "La fonction ``isMember`` peut ainsi être réécrite de manière plus compacte:"
   ]
  },
  {
   "cell_type": "code",
   "execution_count": 6,
   "metadata": {},
   "outputs": [],
   "source": [
    "def isMember(L,x): # renvoie True si la liste L contient l'élément x\n",
    "    for el in L:   # la 'el' parcourt toutes les valeurs de L \n",
    "        if el == x:  # l'élément x est-il trouvé ?\n",
    "            return True # l'instruction return termine \n",
    "                        # l'exécution de la fonction\n",
    "    return False   # l'instruction ne sera exécutée \n",
    "                   # que si aucun élément n'a été trouvé"
   ]
  },
  {
   "cell_type": "markdown",
   "metadata": {},
   "source": [
    "### Espace de nom englobant et variables globales\n",
    "Dans une fonction, toutes les variables du script d'appel sont accessibles **en lecture** sauf si elle sont redéfinies en tant que variables locales dans la fonction.\n",
    "\n",
    "Toute fonction peut donc accèder aux variables de l'espace de noms qui l'englobe.\n",
    "Exemple:"
   ]
  },
  {
   "cell_type": "code",
   "execution_count": 7,
   "metadata": {},
   "outputs": [],
   "source": [
    "def getSurfVol(r): # renvoie surface de la sphère et volume de la boule de rayon r\n",
    "    surf = 4*PI*r**2\n",
    "    vol = 4/3*PI*r**3\n",
    "    return surf, vol # renvoie un tuple de deux valeurs\n",
    "PI = 3.14\n",
    "s, v = getSurfVol(5)   # dépaquetage (unpacking) du tuple de return"
   ]
  },
  {
   "cell_type": "markdown",
   "metadata": {},
   "source": [
    "Dans la fonction, ``getSurfVol`` la variable ``r`` **est locale**. La variable ``PI`` est, par contre, définie dans l'epace de noms du script d'appel au moment où la fonction est appelée.\n",
    "\n",
    "La variable ``PI`` est ainsi accessible en lecture au sein de la fonction. L'espace de noms du script d'appel est appelée **espace de noms englobant**."
   ]
  },
  {
   "cell_type": "markdown",
   "metadata": {},
   "source": [
    "**Le mot clé ``global``**\n",
    "\n",
    "+ Pour permettre à une fonction d'écrire dans une variable de l'espace de nom englobant, il faut utiliser le mot clé ``global``.\n",
    "\n",
    "+ La variable est donc accessible en lecture et en écriture.\n",
    "\n",
    "Exemple:"
   ]
  },
  {
   "cell_type": "code",
   "execution_count": 8,
   "metadata": {},
   "outputs": [
    {
     "name": "stdout",
     "output_type": "stream",
     "text": [
      "7\n"
     ]
    }
   ],
   "source": [
    "def fibo(n): # renvoie le n-ième terme de la suite de Fibonacci\n",
    "    global nbAdd # nbAdd doit être définie dans l'espace de \n",
    "                 # noms englobant (ex : celui-ci du script)\n",
    "    if n == 0:\n",
    "        return 0\n",
    "    elif n == 1:\n",
    "        return 1\n",
    "    else:\n",
    "        nbAdd += 1 # ici nAdd est accessible en écriture\n",
    "        return fibo(n - 1) + fibo(n - 2)\n",
    "nbAdd = 0    # nbAdd est définie dans l'espace de noms du script\n",
    "res = fibo(5)# appel de la fonction fibo, nbAdd étant définie\n",
    "print(nbAdd) # nombre total d'additions effectuées pour \n",
    "             # calculer fibo(5)"
   ]
  },
  {
   "cell_type": "markdown",
   "metadata": {},
   "source": [
    "## Listes\n"
   ]
  },
  {
   "cell_type": "markdown",
   "metadata": {},
   "source": [
    "### Copie de liste\n",
    "\n",
    "Exemple 1."
   ]
  },
  {
   "cell_type": "code",
   "execution_count": 9,
   "metadata": {},
   "outputs": [],
   "source": [
    "L1 = ['A', 'B' , 'C']\n",
    "L0 = L1# les listes ne sont pas copiées, \n",
    "       # L0 et L1 désignent le même objet."
   ]
  },
  {
   "cell_type": "markdown",
   "metadata": {},
   "source": [
    "![copieListe1](img/ListeCopie1.png)\n",
    "Après l'exécution de l'instruction ``L0 = L1``, les deux variables L0 et L1 désignent le même objet : la liste ``L1`` n'est pas copiée.\n",
    "\n",
    "Exemple 2. \n",
    "\n",
    "La méthode ``list.copy()``."
   ]
  },
  {
   "cell_type": "code",
   "execution_count": 10,
   "metadata": {},
   "outputs": [],
   "source": [
    "L1 = ['A', 'B', 'C']\n",
    "L0 = L1.copy() # L1.copy() crée un nouvel objet. \n",
    "               # L0 y fait ensuite référence"
   ]
  },
  {
   "cell_type": "markdown",
   "metadata": {},
   "source": [
    "![copieListe1](img/ListeCopie2.png)\n",
    "Avec la méthode ``L1.copy()`` un nouvel objet est créé."
   ]
  },
  {
   "cell_type": "markdown",
   "metadata": {},
   "source": [
    "### Concaténation de listes\n",
    "\n",
    "Concanéter deux listes = mettre les éléments deux listes *bout-à-bout* dans une même liste.\n",
    "\n",
    "Exemple 1.\n",
    "\n",
    "Opérateur ``+=`` pour les listes."
   ]
  },
  {
   "cell_type": "code",
   "execution_count": 11,
   "metadata": {},
   "outputs": [],
   "source": [
    "L1 = ['A', 'B', 'C']\n",
    "L0 = L1  # L0 et L1 désignent le même objet\n",
    "L2 = ['D', 'E', 'F']\n",
    "L1 += L2 # équivalent à L1.extend(L2)"
   ]
  },
  {
   "cell_type": "markdown",
   "metadata": {},
   "source": [
    "Après l'exécution du script, l'état de la mémoire est:\n",
    "\n",
    "![concaténation 2](img/ListeConcatenation2.png)\n",
    "\n",
    "\n",
    "+ Lors de la concaténation ``L1 += L2``, les éléments de ``L2`` sont récopiés puis ajoutés à la fin de ``L1``.\n",
    "\n",
    "+ L'instruction ``L1 += L2`` se fait **en place**. C'est-à-dire que l'objet ``list`` est modifié mais son adresse mémoire reste la même.\n",
    "\n",
    "+ Après la concaténation, les références ``L0`` et ``L1`` désignent donc toujours un même objet.\n",
    "\n",
    "Exemple 2.\n",
    "\n",
    "Opérateur ``+`` entre deux listes."
   ]
  },
  {
   "cell_type": "code",
   "execution_count": 12,
   "metadata": {},
   "outputs": [],
   "source": [
    "L1 = ['A', 'B', 'C']\n",
    "L0 = L1\n",
    "L2 = ['D', 'E', 'F']\n",
    "L1 = L1 + L2 # concaténation de listes, avec l'opétateur '+'\n",
    "             # un nouvel objet contenant L1 + L2 est créé"
   ]
  },
  {
   "cell_type": "markdown",
   "metadata": {},
   "source": [
    "A la fin du script, l'état de la mémoire est :\n",
    "\n",
    "![concatenation1](img/ListeConcatenation1.png)\n",
    "\n",
    "**Attention :** \n",
    "\n",
    "+ Pour exécuter l'instruction ``L1 = L1 + L2``, Python **crée un nouvel objet** contenant les éléments de L1 et les éléments de L2.\n",
    "\n",
    "+ Cet objet est ensuite référencé par la variable ``L1``. \n",
    "\n",
    "+ L'ancien objet que ``L1`` référençait, **n'est pas détruit** car il existe encore une variable qui y fait référence.\n",
    "### Ajout d'un élément en fin de liste\n",
    "\n",
    "Méthode ``.append()``"
   ]
  },
  {
   "cell_type": "code",
   "execution_count": 13,
   "metadata": {},
   "outputs": [
    {
     "name": "stdout",
     "output_type": "stream",
     "text": [
      "['A', 'B', 'C', 27]\n"
     ]
    }
   ],
   "source": [
    "L = ['A', 'B', 'C']\n",
    "x = 27\n",
    "L += [x] # équivalent à L.append(x)\n",
    "print(L)"
   ]
  },
  {
   "cell_type": "markdown",
   "metadata": {},
   "source": [
    "Pour ajouter un élément en fin de liste, l'opération `` L+=[x]`` (ou ``L.append(x)``) réalise :\n",
    "\n",
    "la concaténation de la liste ``L`` avec la liste ``[x]`` ne possédant que l'élément ``x``."
   ]
  },
  {
   "cell_type": "markdown",
   "metadata": {},
   "source": [
    "**Attention** à l'usage de la méthode ``.append()`` !"
   ]
  },
  {
   "cell_type": "code",
   "execution_count": 188,
   "metadata": {},
   "outputs": [
    {
     "name": "stdout",
     "output_type": "stream",
     "text": [
      "['A', 'B', 'C', ['D', 'E', 'F']]\n"
     ]
    }
   ],
   "source": [
    "L1 = ['A', 'B', 'C']\n",
    "L2 = ['D', 'E', 'F']\n",
    "L1.append(L2) # équivalent à L1 += [L2]\n",
    "print(L1)"
   ]
  },
  {
   "cell_type": "markdown",
   "metadata": {},
   "source": [
    "Dans ce cas, ``L1`` désigne une liste de 4 éléments dont le dernier est une liste.\n",
    "\n",
    "Et non pas une liste de 6 éléments (pour cela, il aurait fallu écrire ``L1.extend(L2)``)."
   ]
  },
  {
   "cell_type": "markdown",
   "metadata": {},
   "source": [
    "###  Listes en compréhension\n",
    "\n",
    "Exemple 1."
   ]
  },
  {
   "cell_type": "code",
   "execution_count": 15,
   "metadata": {},
   "outputs": [
    {
     "name": "stdout",
     "output_type": "stream",
     "text": [
      "[21, 23, 25, 27, 29, 31, 33]\n"
     ]
    }
   ],
   "source": [
    "# liste en compréhension, exemple 1\n",
    "L = [2 * k + 1 for k in range(10,17)] # k prend les valeurs 10, 11 ,... , 15 ,16 , soit 17-10 = 7 valeurs distinctes\n",
    "print(L)"
   ]
  },
  {
   "cell_type": "markdown",
   "metadata": {},
   "source": [
    "Exemple 2.\n",
    "\n",
    "Entiers impairs divisibles par 7."
   ]
  },
  {
   "cell_type": "code",
   "execution_count": 16,
   "metadata": {},
   "outputs": [
    {
     "name": "stdout",
     "output_type": "stream",
     "text": [
      "[7, 21, 35, 49, 63, 77, 91]\n"
     ]
    }
   ],
   "source": [
    "# liste en compréhension, exemple 2 \n",
    "L = [2*k+1 for k in range(50) if (2*k+1) % 7 == 0] # attention \n",
    "                        # à la parenthèse avant le modulo \"%\"!\n",
    "print(L) # entiers impairs multiples de 7"
   ]
  },
  {
   "cell_type": "markdown",
   "metadata": {},
   "source": [
    "Rappel : ``a % b`` désigne le reste de la division entière de ``a`` par ``b`` ( a modulo b)."
   ]
  },
  {
   "cell_type": "code",
   "execution_count": 17,
   "metadata": {},
   "outputs": [
    {
     "name": "stdout",
     "output_type": "stream",
     "text": [
      "[[0, 0, 0, 0, 0], [0, 0, 0, 0, 0], [0, 0, 0, 0, 0]]\n"
     ]
    }
   ],
   "source": [
    "# Initialisation d'une liste de listes.\n",
    "n , m = 3 , 5\n",
    "L=[[ 0 for j in range(m) ] for i in range(n) ]\n",
    "print(L) # L est une liste de 3 listes contenant chacune 5 éléments."
   ]
  },
  {
   "cell_type": "markdown",
   "metadata": {},
   "source": [
    "**Note** pour utiliser la liste ``L`` comme une matrice ``L[i][j]`` à $n$ lignes et $m$ colonnes :\n",
    "\n",
    "Il faut construire la liste en écrivant d'abord la boucle sur l'indice de colonne j avant la boucle sur l'indice i."
   ]
  },
  {
   "cell_type": "markdown",
   "metadata": {},
   "source": [
    "### Sciling\n",
    "\n",
    "+ ``L[a:b]`` désigne la sous-liste formée des éléments de ``L`` dont l'indice est compris entre a et b-1.\n",
    "\n",
    "+ ``L[-1]`` désigne le dernier élément, ``L[-2]``, l'avant dernier, etc...\n",
    "\n",
    "+ ``L[a:b:step]``  désigne la liste des éléments dont l'indice est a pour valeurs :\n",
    "\n",
    "> a, a+step, a+2step, a+ 3step, ..., a+k.step. Jusqu' à *a+kstep < b* \n",
    "\n",
    "> Attention : **b n'est jamais atteint!**\n",
    "\n",
    "Exemples de sciling sur des listes."
   ]
  },
  {
   "cell_type": "code",
   "execution_count": 18,
   "metadata": {},
   "outputs": [
    {
     "name": "stdout",
     "output_type": "stream",
     "text": [
      "1:  G\n",
      "2:  F\n",
      "3:  ['C', 'D', 'E', 'F', 'G', 'H']\n",
      "4:  ['A', 'B', 'C']\n",
      "5:  ['A', 'C', 'E']\n",
      "6:  ['H', 'G', 'F', 'E', 'D', 'C', 'B', 'A']\n",
      "7:  ['H', 'F', 'D', 'B']\n",
      "8:  ['A', 'B', 'C', 'D', 'E', 'F', 'G', 'H']\n"
     ]
    }
   ],
   "source": [
    "L=['A','B','C','D','E','F','G','H']\n",
    "print('1: ', L[6])   # affiche le 7ème élément de la liste\n",
    "print('2: ', L[-3])  # avant-avant dernier élément\n",
    "print('3: ', L[2:])  # on retire les 2 premiers éléments\n",
    "print('4: ', L[0:3]) # liste formée des 3 premiers éléments \n",
    "                     # (k = 0, 1 et 2)\n",
    "print('5: ', L[0:6:2]) # liste obtenue en parcourant les éléments \n",
    "                       # de 2 en 2 (L[6] étant exclu)\n",
    "print('6: ', L[-1::-1]) # liste parcourue en sens inverse\n",
    "print('7: ', L[-1::-2]) # liste parcourue en sens inverse de 2 en 2\n",
    "print('8: ', L[:])      # liste de tous les éléments, peut servir à\n",
    "                        # faire une copie L2 = L1[:]\n",
    "                        # mais il vaut mieux écrire L2 = L1.copy()"
   ]
  },
  {
   "cell_type": "markdown",
   "metadata": {},
   "source": [
    "Remarque : ``L2 = L1[ : ]`` est équivalent à ``L2 = L1.copy()``"
   ]
  },
  {
   "cell_type": "markdown",
   "metadata": {},
   "source": [
    "**Sciling avancé :**\n",
    "\n",
    "Cas où le **membre de gauche** est obtenu par un *sciling*. \n",
    "\n",
    "Cela permet permet de manipuler des sous-listes en une seule instruction (qui cache évidemment des opérations élémentaires)"
   ]
  },
  {
   "cell_type": "code",
   "execution_count": 19,
   "metadata": {},
   "outputs": [
    {
     "name": "stdout",
     "output_type": "stream",
     "text": [
      "[13, 12, 11, 11, 12, 13]\n",
      "[13, 12, 11, 11, 12, 13]\n"
     ]
    }
   ],
   "source": [
    "L1 = [1, 2, 3, 11, 12, 13]\n",
    "L2 = L1\n",
    "L1[0:3] = L1[-1:-4:-1] # recopie les 3 derniers éléments \n",
    "    # de L1 et les place dans les 3 premières cases\n",
    "print(L1)\n",
    "print(L2) # L2 est changée car l'opération est faite \"en place\""
   ]
  },
  {
   "cell_type": "markdown",
   "metadata": {},
   "source": [
    "Comparer les deux exemples suivants : \n",
    "\n",
    "+ ``L1[:] = L1[-1::-1]``, l'opération se fait **en place**\n",
    "+ ``L1 = L1[-1::-1]``, un **nouvel objet** est créé et L1 le désigne"
   ]
  },
  {
   "cell_type": "code",
   "execution_count": 20,
   "metadata": {},
   "outputs": [
    {
     "name": "stdout",
     "output_type": "stream",
     "text": [
      "[9, 8, 7, 6, 5, 4, 3, 2, 1, 0]\n",
      "[9, 8, 7, 6, 5, 4, 3, 2, 1, 0]\n"
     ]
    }
   ],
   "source": [
    "# inversion de l'ordre d'une liste, exemple 1\n",
    "L1 = [k for k in range(10)]\n",
    "L2 = L1\n",
    "L1[:] = L1[-1::-1] # la sous-liste de tous les éléments de L1\n",
    "# devient la sous-liste des éléments dans l'ordre inverse\n",
    "print(L1)\n",
    "print(L2) # L2 est modifiée : l'opération a lieu \"en place\""
   ]
  },
  {
   "cell_type": "code",
   "execution_count": 21,
   "metadata": {},
   "outputs": [
    {
     "name": "stdout",
     "output_type": "stream",
     "text": [
      "[9, 8, 7, 6, 5, 4, 3, 2, 1, 0]\n",
      "[0, 1, 2, 3, 4, 5, 6, 7, 8, 9]\n"
     ]
    }
   ],
   "source": [
    "# inversion de l'ordre d'une liste, exemple 2\n",
    "L1 = [k for k in range(10)]\n",
    "L2 = L1\n",
    "L1 = L1[-1::-1] # la sous-liste de tous les éléments de L1\n",
    "# devient la sous-liste des éléments dans l'ordre inverse\n",
    "print(L1)\n",
    "print(L2) # L2 n'est modifiée  !!"
   ]
  },
  {
   "cell_type": "code",
   "execution_count": 22,
   "metadata": {},
   "outputs": [
    {
     "name": "stdout",
     "output_type": "stream",
     "text": [
      "[2 4 6 1 3 5]\n"
     ]
    }
   ],
   "source": [
    "import numpy as np\n",
    "A=np.array([1,2,3,4,5,6])\n",
    "A[:]= A[[1,3,5]+[0,2,4]] # réorganisation des valeurs d'indices paires et impairs\n",
    "print(A)"
   ]
  },
  {
   "cell_type": "code",
   "execution_count": 23,
   "metadata": {},
   "outputs": [
    {
     "name": "stdout",
     "output_type": "stream",
     "text": [
      "[1, 1, 2, 2, 3, 3, 4, 4]\n",
      "[1, 1, 2, 2, 3, 3, 4, 4]\n"
     ]
    }
   ],
   "source": [
    "# Dernier exemple : indexation par un sciling\n",
    "L1 = ['A', 1, 'B', 2, 'C', 3, 'D', 4]\n",
    "L2 = L1\n",
    "L1[0::2] = L1[1::2] # les termes d'indice impairs sont \n",
    "                    # mis dans les termes d'indice pairs\n",
    "print(L1)\n",
    "print(L2) # L'opération sur L1 s'effectue 'en place'"
   ]
  },
  {
   "cell_type": "markdown",
   "metadata": {},
   "source": [
    "### Fonctions sur une liste\n",
    "\n",
    "Exemple 1.\n",
    "Mettre à zéro les éléments inférieurs à une valeur *seuil*."
   ]
  },
  {
   "cell_type": "code",
   "execution_count": 24,
   "metadata": {},
   "outputs": [
    {
     "name": "stdout",
     "output_type": "stream",
     "text": [
      "[0, 5, 0, 7, 0, 8]\n"
     ]
    }
   ],
   "source": [
    "def seuil(L, x): # L est une liste d'entiers, x est un entier\n",
    "                # la fonction seuil met à zéro tous les éléments de L qui sont inférieurs à x                \n",
    "    n=len(L)\n",
    "    for k in range(n):\n",
    "        if L[k] < x:\n",
    "            L[k] =0  # mise à zéro du k-ième élément de L\n",
    "L0 = [2, 5, 3, 7, 1, 8]\n",
    "seuil(L0, 5)\n",
    "print(L0)"
   ]
  },
  {
   "cell_type": "markdown",
   "metadata": {},
   "source": [
    "**Remarques :**\n",
    "\n",
    "+ L'instruction ``L[k] = 0`` met à zéro la k-ième valeur de la liste ``L``, sans qu'une nouvelle liste soit recréée. \n",
    "\n",
    "+ La k-ième valeur de la liste est modifiée mais il n'y a pas création d'un nouvel objet liste.\n",
    "\n",
    "+ Dans la fonction ``seuil``, ``L`` est une variable locale qui fait référence au même objet que ``L0``. \n",
    "\n",
    "Donc, en modifiant l'objet référencé par ``L``, on modifie l'objet référencé par ``L0``. Il est donc inutile de mettre un **return** en fin de fonction."
   ]
  },
  {
   "cell_type": "markdown",
   "metadata": {},
   "source": [
    "Exemple 2.\n",
    "\n",
    "Retourner le minimum d'une liste de nombres."
   ]
  },
  {
   "cell_type": "code",
   "execution_count": 25,
   "metadata": {},
   "outputs": [],
   "source": [
    "def getMin(L): # renvoie le minimum d'une liste de nombres\n",
    "    res = L[0] # on initialise avec la valeur du 1er élément\n",
    "    for el in L[1:]: # sous liste créée en retirant le premier élément\n",
    "        if (el < res): # el est un candidat pour être le minimum\n",
    "            res = el\n",
    "    return res # toute la liste a été parcourue"
   ]
  },
  {
   "cell_type": "code",
   "execution_count": 26,
   "metadata": {},
   "outputs": [
    {
     "name": "stdout",
     "output_type": "stream",
     "text": [
      "1.2\n"
     ]
    }
   ],
   "source": [
    "L0 = [2, 4, 2.1, 1.2, 54., 8, 1.4, 2.01]\n",
    "print(getMin(L0))"
   ]
  },
  {
   "cell_type": "markdown",
   "metadata": {},
   "source": [
    "Exemple 3.\n",
    "\n",
    "Retourner le minimum d'une liste et son indice."
   ]
  },
  {
   "cell_type": "code",
   "execution_count": 27,
   "metadata": {},
   "outputs": [
    {
     "name": "stdout",
     "output_type": "stream",
     "text": [
      "Le minimum de L0 vaut \t\t 1.2\n",
      "L'indice du minimum de L0 vaut \t 3\n"
     ]
    }
   ],
   "source": [
    "def getMin2(L): # renvoie le tuple (min(L), iMin) de la liste L\n",
    "    iRes = 0   # indice du minimum initialisé à zéro\n",
    "    res = L[0] # valeur du minimum initialisé à la valeur du 1er élément    \n",
    "    n = len(L) # nombre d'éléments de L\n",
    "    for k in range(1,n): # on parcourt les éléments à partir du 2ème \n",
    "                         # c'est-à-dire celui dont l'indice vaut 1\n",
    "        if L[k] < res:\n",
    "            iRes = k   # mise à jour de l'indice\n",
    "            res = L[k] # mise à jour du résultat\n",
    "    return (res,iRes) # rq : les parenthèses sont optionnelles\n",
    "L0 = [2, 4, 2.1, 1.2, 54., 8, 1.4, 2.01]\n",
    "minimum,indice = getMin2(L0)\n",
    "print('Le minimum de L0 vaut \\t\\t', minimum); # \\t = caractère de tabulation\n",
    "print(\"L'indice du minimum de L0 vaut \\t\", indice)"
   ]
  },
  {
   "cell_type": "markdown",
   "metadata": {},
   "source": [
    "Exemple 4.\n",
    "\n",
    "Retourner la valeur du minimum d'une liste d'entiers et la liste des indices de ces minima dans le cas où il y a plusieurs minima."
   ]
  },
  {
   "cell_type": "code",
   "execution_count": 28,
   "metadata": {},
   "outputs": [
    {
     "name": "stdout",
     "output_type": "stream",
     "text": [
      "(2, [0, 4, 7, 9, 14, 15])\n"
     ]
    }
   ],
   "source": [
    "def getMin3(L):\n",
    "    res = L[0]  # initialisation du minimum avec le premier élément\n",
    "    Lmin = [0]  # liste des minima, initialisée\n",
    "                # à la liste de l'indice du premier élément\n",
    "    n = len(L)\n",
    "    for k in range(1,n) : # boucle sur tous éléments à partir du 2ème\n",
    "        # 2 cas possibles :\n",
    "        if L[k] < res :   # cas (1) : on trouve une valeur inférieure à res\n",
    "            Lmin = [k]    # on réinitialise la liste des indices en mettant celui trouvé\n",
    "            res = L[k]    # on actualise la valeur du minimum\n",
    "        if L[k] == res :  # cas (2) : on trouve une valeur égale à res\n",
    "            Lmin.append(k) # on ajoute l'indice de ce min particulier\n",
    "    return (res,Lmin)\n",
    "L0=[2, 4, 3, 5, 2, 6, 4, 2, 7, 2, 8, 4, 3, 4, 2, 2, 5]\n",
    "print(getMin3(L0)) # affiche (valeur du min, \n",
    "                   # Liste des indices des minima)"
   ]
  },
  {
   "cell_type": "markdown",
   "metadata": {},
   "source": [
    "**Remarques :**\n",
    "\n",
    "> La boucle ``for el in L[1:] : `` ne permet pas de conserver la valeur de l'indice des éléments ``el`` lorsque l'on parcourt la liste.\n",
    "\n",
    "> C'est pourquoi nous utilisons une boucle sur la variable ``k`` qui décrit les indices des éléments de la liste (k = 1, 2, ..., n-1).\n",
    "## La *class* ``string``\n",
    "\n",
    "Chaîne de caractères"
   ]
  },
  {
   "cell_type": "code",
   "execution_count": 29,
   "metadata": {},
   "outputs": [],
   "source": [
    "s = 'bonjour.png'"
   ]
  },
  {
   "cell_type": "code",
   "execution_count": 30,
   "metadata": {},
   "outputs": [
    {
     "data": {
      "text/plain": [
       "'.png'"
      ]
     },
     "execution_count": 30,
     "metadata": {},
     "output_type": "execute_result"
    }
   ],
   "source": [
    "s[-4:] # comme pour une liste : sélection des 4 derniers caractères de la chaîne"
   ]
  },
  {
   "cell_type": "code",
   "execution_count": 31,
   "metadata": {},
   "outputs": [
    {
     "data": {
      "text/plain": [
       "('0', 'A')"
      ]
     },
     "execution_count": 31,
     "metadata": {},
     "output_type": "execute_result"
    }
   ],
   "source": [
    "chr(48),chr(65) # le code ASCII 48 est celui du caractère zéro, le 65 de la lettre A"
   ]
  },
  {
   "cell_type": "code",
   "execution_count": 32,
   "metadata": {},
   "outputs": [
    {
     "data": {
      "text/plain": [
       "97"
      ]
     },
     "execution_count": 32,
     "metadata": {},
     "output_type": "execute_result"
    }
   ],
   "source": [
    "ord('a') # le 'a' minuscule "
   ]
  },
  {
   "cell_type": "markdown",
   "metadata": {},
   "source": [
    "Une chaîne de caractères est *iterable*."
   ]
  },
  {
   "cell_type": "code",
   "execution_count": 33,
   "metadata": {},
   "outputs": [
    {
     "name": "stdout",
     "output_type": "stream",
     "text": [
      "C\n",
      "e\n",
      "c\n",
      "i\n"
     ]
    }
   ],
   "source": [
    "chaine = 'Ceci est une chaine de caractères.'\n",
    "for car in chaine[0:4]: # on se limite aux 4 premiers caratères\n",
    "    print(car)"
   ]
  },
  {
   "cell_type": "markdown",
   "metadata": {},
   "source": [
    "La méthode ``.split()`` pour une chaîne de caractères (c'est-à-dire pour un objet de type *string*)"
   ]
  },
  {
   "cell_type": "code",
   "execution_count": 34,
   "metadata": {},
   "outputs": [
    {
     "name": "stdout",
     "output_type": "stream",
     "text": [
      "Help on built-in function split:\n",
      "\n",
      "split(sep=None, maxsplit=-1) method of builtins.str instance\n",
      "    Return a list of the words in the string, using sep as the delimiter string.\n",
      "    \n",
      "    sep\n",
      "      The delimiter according which to split the string.\n",
      "      None (the default value) means split according to any whitespace,\n",
      "      and discard empty strings from the result.\n",
      "    maxsplit\n",
      "      Maximum number of splits to do.\n",
      "      -1 (the default value) means no limit.\n",
      "\n"
     ]
    }
   ],
   "source": [
    "help (chaine.split) # appel de l'aide sur la méthode split"
   ]
  },
  {
   "cell_type": "code",
   "execution_count": 35,
   "metadata": {},
   "outputs": [
    {
     "data": {
      "text/plain": [
       "['Ceci', 'est', 'une', 'chaine', 'de', 'caractères.']"
      ]
     },
     "execution_count": 35,
     "metadata": {},
     "output_type": "execute_result"
    }
   ],
   "source": [
    "chaine.split(' ') # découpage de la chaine en séparant par les espaces."
   ]
  },
  {
   "cell_type": "markdown",
   "metadata": {},
   "source": [
    "*Remarque :* le caractère ``\\n`` sert à indiquer un saut de ligne."
   ]
  },
  {
   "cell_type": "code",
   "execution_count": 36,
   "metadata": {},
   "outputs": [
    {
     "data": {
      "text/plain": [
       "'Ceci est un\\npetit texte qui\\nest écrit sur\\nplusieurs lignes différentes.'"
      ]
     },
     "execution_count": 36,
     "metadata": {},
     "output_type": "execute_result"
    }
   ],
   "source": [
    "chaine2 = '''Ceci est un\n",
    "petit texte qui\n",
    "est écrit sur\n",
    "plusieurs lignes différentes.'''\n",
    "chaine2"
   ]
  },
  {
   "cell_type": "code",
   "execution_count": 37,
   "metadata": {},
   "outputs": [
    {
     "name": "stdout",
     "output_type": "stream",
     "text": [
      "Ceci est un\n",
      "petit texte qui\n",
      "est écrit sur\n",
      "plusieurs lignes différentes.\n"
     ]
    }
   ],
   "source": [
    "print(chaine2)"
   ]
  },
  {
   "cell_type": "markdown",
   "metadata": {},
   "source": [
    "\n",
    "# Numpy : tableaux et fonctions mathématiques\n",
    "\n",
    "La bibliothèque offre la possibilité de manier des vecteurs et des matrices avec une syntaxe particulièrement puissance.\n",
    "\n",
    "## Fonctions usuelles\n"
   ]
  },
  {
   "cell_type": "code",
   "execution_count": 38,
   "metadata": {},
   "outputs": [
    {
     "data": {
      "text/plain": [
       "0.5000000000000001"
      ]
     },
     "execution_count": 38,
     "metadata": {},
     "output_type": "execute_result"
    }
   ],
   "source": [
    "import numpy as np\n",
    "np.cos(np.pi / 3)"
   ]
  },
  {
   "cell_type": "code",
   "execution_count": 39,
   "metadata": {},
   "outputs": [
    {
     "data": {
      "text/plain": [
       "(-1+1.2246467991473532e-16j)"
      ]
     },
     "execution_count": 39,
     "metadata": {},
     "output_type": "execute_result"
    }
   ],
   "source": [
    "np.exp(1j * np.pi)"
   ]
  },
  {
   "cell_type": "markdown",
   "metadata": {},
   "source": [
    "$e^{i \\pi}=-1$, noter l'erreur due à la précision du codage des nombres en mémoire."
   ]
  },
  {
   "cell_type": "code",
   "execution_count": 40,
   "metadata": {},
   "outputs": [
    {
     "data": {
      "text/plain": [
       "(0.7071067811865476+0.7071067811865475j)"
      ]
     },
     "execution_count": 40,
     "metadata": {},
     "output_type": "execute_result"
    }
   ],
   "source": [
    "np.sqrt(1j)"
   ]
  },
  {
   "cell_type": "markdown",
   "metadata": {},
   "source": [
    "Python donne un sens à la racine carrée d'un complexe : la racine carrée du complexe \"$i$\" en Python vaut  \n",
    "$z=e^{i\\pi/4}=\\frac{1}{\\sqrt{2}}\\left(1 + i \\right)$ et vérifie $z^2=i$."
   ]
  },
  {
   "cell_type": "markdown",
   "metadata": {},
   "source": [
    "## Vecteur colonne = tableau 1D à *n* éléments"
   ]
  },
  {
   "cell_type": "code",
   "execution_count": 41,
   "metadata": {},
   "outputs": [
    {
     "name": "stdout",
     "output_type": "stream",
     "text": [
      "[1 2 3 4 5]\n",
      "[1. 1. 1. 1. 1.]\n",
      "[0.06409455 0.49364375 0.17040521]\n"
     ]
    }
   ],
   "source": [
    "V1 = np.array([1, 2, 3, 4, 5]) # initialisation du vecteur à partir d'une liste\n",
    "print(V1)\n",
    "V2 = np.ones(5)        # méthode .ones()\n",
    "print(V2)\n",
    "V3 = np.random.rand(3) # méthode .random.rand()\n",
    "print(V3) # vecteur de 3 réels alératoires tirés dans [0,1] uniformément"
   ]
  },
  {
   "cell_type": "code",
   "execution_count": 42,
   "metadata": {},
   "outputs": [
    {
     "data": {
      "text/plain": [
       "array([4, 2, 1, 3, 3, 2, 3, 4, 3, 2, 2, 1, 4, 4, 2])"
      ]
     },
     "execution_count": 42,
     "metadata": {},
     "output_type": "execute_result"
    }
   ],
   "source": [
    "np.random.randint(1,5,15) # 15 valeurs entières comprises entre 1 et 4"
   ]
  },
  {
   "cell_type": "markdown",
   "metadata": {},
   "source": [
    "Attention la méthode ``numpy.random.randint(a,b)`` fournit des nombres entiers entiers $n$ tels que $$a\\leq n <b$$"
   ]
  },
  {
   "cell_type": "markdown",
   "metadata": {},
   "source": [
    "## Matrice = tableau 2D de *n* x *m* éléments"
   ]
  },
  {
   "cell_type": "code",
   "execution_count": 43,
   "metadata": {},
   "outputs": [
    {
     "name": "stdout",
     "output_type": "stream",
     "text": [
      "[[1 2 3]\n",
      " [4 5 6]]\n",
      "<class 'numpy.ndarray'>\n"
     ]
    }
   ],
   "source": [
    "M = np.array([[1, 2, 3],[4, 5, 6]]) # 2 lignes, 3 colonnes\n",
    "print(M)\n",
    "print(type(M)) # class nadarray"
   ]
  },
  {
   "cell_type": "code",
   "execution_count": 44,
   "metadata": {},
   "outputs": [
    {
     "data": {
      "text/plain": [
       "(2, 3)"
      ]
     },
     "execution_count": 44,
     "metadata": {},
     "output_type": "execute_result"
    }
   ],
   "source": [
    "M.shape # longueur des dimensions"
   ]
  },
  {
   "cell_type": "code",
   "execution_count": 45,
   "metadata": {},
   "outputs": [
    {
     "name": "stdout",
     "output_type": "stream",
     "text": [
      "[1, 2, 3, 4, 5, 6]\n"
     ]
    }
   ],
   "source": [
    "#accès aux éléments \n",
    "L = [] # liste auxiliaire pour stocker les éléments linéaires\n",
    "for i in range(2):\n",
    "    for j in range(3):\n",
    "        L.append((M[i, j])) #i: indice de ligne, j : indice de colonne\n",
    "print(L)"
   ]
  },
  {
   "cell_type": "markdown",
   "metadata": {},
   "source": [
    "Création d'une matrice $M \\in \\mathscr{M}_{n,p}(\\mathbb{R})$, dont le terme général $M_{i,j}$ donné."
   ]
  },
  {
   "cell_type": "code",
   "execution_count": 46,
   "metadata": {},
   "outputs": [
    {
     "data": {
      "text/plain": [
       "array([[ 0,  1,  4,  9],\n",
       "       [ 1,  2,  5, 10],\n",
       "       [ 2,  3,  6, 11]])"
      ]
     },
     "execution_count": 46,
     "metadata": {},
     "output_type": "execute_result"
    }
   ],
   "source": [
    "M =  np.array([[j**2 + i  for j in range(4) ] for i in range(3) ])\n",
    "M"
   ]
  },
  {
   "cell_type": "markdown",
   "metadata": {},
   "source": [
    "**Attention :**\n",
    "+ à l'ordre des boucles  ``for`` dans les listes en compréhension,\n",
    "+ aux décalages d'indices l'indice de ligne commence à $i=1$ pour la matrice, mais à ``i=0`` pour Python."
   ]
  },
  {
   "cell_type": "code",
   "execution_count": 47,
   "metadata": {},
   "outputs": [
    {
     "name": "stdout",
     "output_type": "stream",
     "text": [
      "[[0. 0. 0. 0. 0.]\n",
      " [0. 0. 0. 0. 0.]\n",
      " [0. 0. 0. 0. 0.]\n",
      " [0. 0. 0. 0. 0.]]\n"
     ]
    }
   ],
   "source": [
    "M = np.zeros([4, 5]) # génère une matrice nulle\n",
    "print(M) # matrice 4x5 (4 lignes, 5 colonnes)"
   ]
  },
  {
   "cell_type": "code",
   "execution_count": 48,
   "metadata": {},
   "outputs": [
    {
     "data": {
      "text/plain": [
       "array([[0.40446488, 0.01114828, 0.91496428],\n",
       "       [0.29639531, 0.3183609 , 0.40483571]])"
      ]
     },
     "execution_count": 48,
     "metadata": {},
     "output_type": "execute_result"
    }
   ],
   "source": [
    "M = np.random.rand(2,3) # attention pas de crochets (!)\n",
    "M # matrice 2 x 3"
   ]
  },
  {
   "cell_type": "markdown",
   "metadata": {},
   "source": [
    "Exemple : stocker les éléments d'un matrice ``M[i,j]`` dans une liste de listes ``L[i][j]``"
   ]
  },
  {
   "cell_type": "code",
   "execution_count": 49,
   "metadata": {},
   "outputs": [
    {
     "name": "stdout",
     "output_type": "stream",
     "text": [
      "[[0.40446488212588894, 0.011148282221702832, 0.9149642842562511], [0.29639530974231065, 0.3183608974537544, 0.40483570584575557]]\n"
     ]
    }
   ],
   "source": [
    "n,m=M.shape # détermination de la taille de matrice\n",
    "L=[[0 for j in range(m) ] for i in range(n)] # attention à l'ordre des indices!\n",
    "for i in range(n):\n",
    "    for j in range(m):\n",
    "        L[i][j]=M[i,j] # noter la différence de syntaxe\n",
    "print(L)"
   ]
  },
  {
   "cell_type": "markdown",
   "metadata": {},
   "source": [
    "**Remarque** : L est une liste de listes."
   ]
  },
  {
   "cell_type": "markdown",
   "metadata": {},
   "source": [
    "## Avantage des ndarrays sur les listes pour les opérations matricielles ou vectoriels"
   ]
  },
  {
   "cell_type": "code",
   "execution_count": 50,
   "metadata": {},
   "outputs": [
    {
     "data": {
      "text/plain": [
       "array([5, 7, 9])"
      ]
     },
     "execution_count": 50,
     "metadata": {},
     "output_type": "execute_result"
    }
   ],
   "source": [
    "M1, M2 = np.array([1, 2, 3]), np.array([4, 5, 6])\n",
    "M1 + M2 # opération terme à terme"
   ]
  },
  {
   "cell_type": "code",
   "execution_count": 51,
   "metadata": {},
   "outputs": [
    {
     "name": "stdout",
     "output_type": "stream",
     "text": [
      "[2 4 6]\n"
     ]
    }
   ],
   "source": [
    "M1 *= 2 # multiplication de tous les termes par 2\n",
    "print(M1)"
   ]
  },
  {
   "cell_type": "code",
   "execution_count": 52,
   "metadata": {},
   "outputs": [
    {
     "data": {
      "text/plain": [
       "array([  7.3890561 ,  54.59815003, 403.42879349])"
      ]
     },
     "execution_count": 52,
     "metadata": {},
     "output_type": "execute_result"
    }
   ],
   "source": [
    "np.exp(M1) # exponentielle de chaque terme"
   ]
  },
  {
   "cell_type": "code",
   "execution_count": 53,
   "metadata": {},
   "outputs": [
    {
     "data": {
      "text/plain": [
       "8.774964387392123"
      ]
     },
     "execution_count": 53,
     "metadata": {},
     "output_type": "execute_result"
    }
   ],
   "source": [
    "np.linalg.norm(M2) # norme 2 "
   ]
  },
  {
   "cell_type": "code",
   "execution_count": 54,
   "metadata": {},
   "outputs": [
    {
     "data": {
      "text/plain": [
       "8.774964387392123"
      ]
     },
     "execution_count": 54,
     "metadata": {},
     "output_type": "execute_result"
    }
   ],
   "source": [
    "np.sqrt(4**2 + 5**2 + 6**2)"
   ]
  },
  {
   "cell_type": "markdown",
   "metadata": {},
   "source": [
    "Remarque : la biliothèse **numpy.linalg** possède toutes les méthodes d'algèbres linéaires de base (produit scalaires, vectoriel, matriciels, inversion de matrice, vecteurs et valeurs propres, normes, déterminant, décomposition de matrices, ... Son étude n'est pas au programme et vous devez généralement proposer les algorithmes sans son aide!"
   ]
  },
  {
   "cell_type": "code",
   "execution_count": 55,
   "metadata": {},
   "outputs": [
    {
     "data": {
      "text/plain": [
       "[[0.40446488212588894, 0.011148282221702832, 0.9149642842562511],\n",
       " [0.29639530974231065, 0.3183608974537544, 0.40483570584575557]]"
      ]
     },
     "execution_count": 55,
     "metadata": {},
     "output_type": "execute_result"
    }
   ],
   "source": [
    "L = M.tolist() # matrice en list\n",
    "L"
   ]
  },
  {
   "cell_type": "code",
   "execution_count": 56,
   "metadata": {},
   "outputs": [
    {
     "data": {
      "text/plain": [
       "[[0.40446488212588894, 0.011148282221702832, 0.9149642842562511],\n",
       " [0.29639530974231065, 0.3183608974537544, 0.40483570584575557],\n",
       " [0.40446488212588894, 0.011148282221702832, 0.9149642842562511],\n",
       " [0.29639530974231065, 0.3183608974537544, 0.40483570584575557]]"
      ]
     },
     "execution_count": 56,
     "metadata": {},
     "output_type": "execute_result"
    }
   ],
   "source": [
    "L + L # ATTENTION l'opérateur '+' pour une liste est une concaténation"
   ]
  },
  {
   "cell_type": "markdown",
   "metadata": {},
   "source": [
    "Accès aux éléments d'un tableau ``ndarray`` : sciling et *sciling avancés*"
   ]
  },
  {
   "cell_type": "code",
   "execution_count": 57,
   "metadata": {},
   "outputs": [
    {
     "name": "stdout",
     "output_type": "stream",
     "text": [
      "M = \n",
      " [[ 1  2  3  4  5]\n",
      " [ 6  7  8  9 10]\n",
      " [11 12 13 14 15]\n",
      " [16 17 18 19 20]]\n",
      "M[2,:] =   [11 12 13 14 15]\n",
      "M[:,0] =   [ 1  6 11 16]\n"
     ]
    }
   ],
   "source": [
    "M = np.array([[1+i*5+j for j in range(5)] for i in range(4)])\n",
    "print('M = \\n',M)\n",
    "print('M[2,:] =  ', M[2,:]) # ligne d'indice 2    = 3ème ligne\n",
    "print('M[:,0] =  ', M[:,0]) # colonne d'indice 0  = 1ère colonne"
   ]
  },
  {
   "cell_type": "markdown",
   "metadata": {},
   "source": [
    "**Combinaison linéaire** de deux lignes d'une matrice.\n",
    "\n",
    "L'opération\n",
    "\n",
    "$$\\textrm{(ligne k)} \\leftarrow  \\textrm{(ligne k)} -\\alpha\\, \\textrm{(ligne j)}$$\n",
    "s'écrit:"
   ]
  },
  {
   "cell_type": "code",
   "execution_count": null,
   "metadata": {},
   "outputs": [],
   "source": [
    "M[k, :] -= alpha * M[j, :]"
   ]
  },
  {
   "cell_type": "markdown",
   "metadata": {},
   "source": [
    "Accès aux éléments d'un tableau Numpy en **utilisant d'une liste d'indices :**  \n",
    "\n",
    "Ce qui suit est **spécifique aux ``ndarray``** et n'est pas possible avec des  objets de type ``list``."
   ]
  },
  {
   "cell_type": "code",
   "execution_count": 100,
   "metadata": {},
   "outputs": [
    {
     "data": {
      "text/plain": [
       "array([[ 1,  2,  3,  4,  5],\n",
       "       [11, 12, 13, 14, 15]])"
      ]
     },
     "execution_count": 100,
     "metadata": {},
     "output_type": "execute_result"
    }
   ],
   "source": [
    "M[[0,2],:] # sous- matrice formée des lignes d'indices 0 et 2\n",
    "           # c'est-à-dire de la 1ère et de la 3ème ligne    "
   ]
  },
  {
   "cell_type": "code",
   "execution_count": 101,
   "metadata": {},
   "outputs": [
    {
     "data": {
      "text/plain": [
       "array([[11, 12, 13, 14, 15],\n",
       "       [ 1,  2,  3,  4,  5]])"
      ]
     },
     "execution_count": 101,
     "metadata": {},
     "output_type": "execute_result"
    }
   ],
   "source": [
    "M[[2,0],:] # sous-matrice formée de la 3ème et de la 1ère ligne"
   ]
  },
  {
   "cell_type": "markdown",
   "metadata": {},
   "source": [
    "**Permutation de 2 lignes** : valable **uniquement** pour des tableaux Numpy. (impossible pour les listes)"
   ]
  },
  {
   "cell_type": "code",
   "execution_count": 102,
   "metadata": {},
   "outputs": [],
   "source": [
    "i, j = 0, 3 # indice de la 1ère et de la 4ème ligne\n",
    "M[[i,j],:] = M[[j,i],:] # Permutation de la ligne d'indice i et de la ligne d'indice j"
   ]
  },
  {
   "cell_type": "markdown",
   "metadata": {},
   "source": [
    "> L'opération précédente est faite **en place**.\n",
    "\n",
    "**Attention :** ``M[i,:], M[j,:] = M[j,:], M[i,:] `` est **faux** car une des deux lignes écrase les données de l'autre."
   ]
  },
  {
   "cell_type": "markdown",
   "metadata": {},
   "source": [
    "Exemple 2.\n",
    "\n",
    "**Produit matriciel**\n",
    "\n",
    "+ Ecrire une fonction ``prod(A,B)`` qui reçoit en argument deux matrices et renvoie le produit $A \\times B$ (au sens du produit matriciel usuel). \n",
    "\n",
    "+ Les objets A et B **doivent rester inchangés** après l'opération : le produit doit donc correspondre à un nouvel objet ``ndarray``.\n",
    "\n",
    "+ Donner la complexité dans le cas où $A\\in\\mathcal{M}_{n,p}(\\mathscr{R})$ et $B\\in\\mathcal{M}_{p,q}(\\mathscr{R})$."
   ]
  },
  {
   "cell_type": "markdown",
   "metadata": {},
   "source": [
    "Solution : \n",
    "\n",
    "> Le produit n'existe que si le nombre de colonnes de la 1ère matrice et égal au nombre de lignes de la seconde.\n",
    "\n",
    "> Le terme général de la matrice produit $M=A\\times B$ est donné\n",
    "par:\n",
    "\n",
    "$$M_{i,j}=\\sum_{k=1}^{p} a_{ik} b_{kj}$$\n",
    "\n",
    "L'algorithme est le suivant:\n",
    "+ d'abord vérifier la compatibilité des dimensions\n",
    "+ créer une matrice résultat initialisée à zéro (nouvel objet)\n",
    "+ faire l'opération sur chacun des termes de la matrice résultat"
   ]
  },
  {
   "cell_type": "code",
   "execution_count": 103,
   "metadata": {},
   "outputs": [],
   "source": [
    "def prod(A,B):\n",
    "    n, p = A.shape# A est de dimension n,p\n",
    "    p2, q = B.shape # B est de dimension p2,q\n",
    "    if (p != p2):\n",
    "        print('Dimensions incorrectes')\n",
    "        return np.array([[]]) # matrice vide\n",
    "    M = np.zeros([n,q])       # n lignes, q colonnes\n",
    "    for i in range(n):        # i : indice de lignes\n",
    "        for j in range(q):    # j : indicie de colonnes\n",
    "            # calcul de la somme sur k\n",
    "            somme = 0  # initialisation de la somme\n",
    "            for k in range(p):\n",
    "                somme += A[i, k] * B[k, j]\n",
    "            M[i, j] = somme\n",
    "    return M            "
   ]
  },
  {
   "cell_type": "code",
   "execution_count": 104,
   "metadata": {},
   "outputs": [
    {
     "data": {
      "text/plain": [
       "array([[ 27.00,  33.00],\n",
       "       [ 60.00,  75.00]])"
      ]
     },
     "execution_count": 104,
     "metadata": {},
     "output_type": "execute_result"
    }
   ],
   "source": [
    "# essai sur un exemple\n",
    "M1 = np.array([[1, 2, 3], [4, 5, 6]])\n",
    "M2 = np.array([[1, 2], [4, 5], [6, 7]])\n",
    "prod(M1, M2)"
   ]
  },
  {
   "cell_type": "code",
   "execution_count": 105,
   "metadata": {},
   "outputs": [
    {
     "data": {
      "text/plain": [
       "array([[27, 33],\n",
       "       [60, 75]])"
      ]
     },
     "execution_count": 105,
     "metadata": {},
     "output_type": "execute_result"
    }
   ],
   "source": [
    "np.matmul(M1, M2) # avec la biliothèque Numpy"
   ]
  },
  {
   "cell_type": "markdown",
   "metadata": {},
   "source": [
    "Complexité : \n",
    "\n",
    "> L'algorithme comporte deux boucles ``for`` de $n$ et $q$ répétitions pour calculer chaque terme de la matrice produit. De plus, pour chacun des termers  de la matrice produit, on effectue $p$ multiplications et sommes.\n",
    "\n",
    "> La complexité est donc de l'ordre de $n\\times q\\times p$. Dans le cas de matrice carrées, elle est en $\\mathcal{O}(n^3)$. C'est donc un algorithme coûteux."
   ]
  },
  {
   "cell_type": "markdown",
   "metadata": {},
   "source": [
    "**Exemple 3**. Ecrétage des termes d'une matrice.\n",
    "\n",
    "Ecrire une fonction Python ``ecrete(M,vMin,vMax)`` qui reçoit une matrice et deux nombres et **modifie la matrice M** de manière à ce que ses termes soient modifiés comme suit:\n",
    "+ les termes compris entre vMin et vMax sont inchangés.\n",
    "+ les termes supérieurs à vMax sont mis égaux à vMax.\n",
    "+ les inférieurs à vMin sont mis égaux à vMin."
   ]
  },
  {
   "cell_type": "code",
   "execution_count": 106,
   "metadata": {},
   "outputs": [],
   "source": [
    "def ecrete(M,vMin, vMax): # ecretage de la matrice M\n",
    "    n, p = M.shape\n",
    "    for i in range(n) : # parcourt les lignes\n",
    "        for j in range(p) : # parcourt les colonnes\n",
    "            val = M[i,j] # lecture du terme de matrice\n",
    "            if val > vMax:\n",
    "                M[i, j] = vMax\n",
    "            if val < vMin:\n",
    "                M[i, j] = vMin\n",
    "# NOTE : l'opération est faite 'en place', il n'y a pas de RETURN"
   ]
  },
  {
   "cell_type": "code",
   "execution_count": 107,
   "metadata": {},
   "outputs": [
    {
     "data": {
      "text/plain": [
       "array([[ 6,  8, -5, 10, -3],\n",
       "       [ 9, -2,  4,  5, -4],\n",
       "       [ 3,  3, 10,  7, -6],\n",
       "       [-4, -3, -5, -3, -4],\n",
       "       [ 2,  1, 10,  2,  2]])"
      ]
     },
     "execution_count": 107,
     "metadata": {},
     "output_type": "execute_result"
    }
   ],
   "source": [
    "#validation\n",
    "M = np.random.randint(-10, 11, [5, 5])\n",
    "M"
   ]
  },
  {
   "cell_type": "code",
   "execution_count": 108,
   "metadata": {},
   "outputs": [
    {
     "name": "stdout",
     "output_type": "stream",
     "text": [
      "[[5 5 0 5 0]\n",
      " [5 0 4 5 0]\n",
      " [3 3 5 5 0]\n",
      " [0 0 0 0 0]\n",
      " [2 1 5 2 2]]\n"
     ]
    }
   ],
   "source": [
    "ecrete(M, 0, 5) # cette fonction ne renvoie rien mais modifie M\n",
    "print(M)"
   ]
  },
  {
   "cell_type": "markdown",
   "metadata": {},
   "source": [
    "**Exemple 4** : extraction des parties triangulaires inférieure, supérieure et de la diagonale d'une matrice carrée.\n",
    "\n",
    "Ecrire une fonction ``splitLUD(M)`` qui, reçoit en argument une matrice carrée M, et renvoie le *tuple* (L,U,D) constitué des trois matrices:\n",
    "\n",
    "+ L partie triangulaire inférieure, les termes au dessus de la diagonale sont nuls.\n",
    "+ U partie triangulaire supérieure, les termes en dessous de la diagonale sont nuls.\n",
    "+ D partie diagonale = terme de la diagonale, les autres termes étant mis à zéro.\n",
    "\n",
    "Remarque : les matrices $L$, $U$, $D$ et $M$ vérifient le relation $L+U-D=M$."
   ]
  },
  {
   "cell_type": "code",
   "execution_count": 109,
   "metadata": {},
   "outputs": [],
   "source": [
    "def splitLUD(M):\n",
    "    n,p=M.shape\n",
    "    if n!=p: # on choisit de vérifier que la matrice est carrée, mais ce n'est pas demandé\n",
    "        print('Matrice non carré')\n",
    "        return ([],[],[]) # n tuple de 3 listes vides \n",
    "    L=np.zeros([n,n]) # création d'une matrice n x n initialisée à zéro\n",
    "    U=np.zeros([n,n]) # attention à bien récréer de nouveaux objets avec la méthode np.zeros \n",
    "    D=np.zeros([n,n]) # \n",
    "    for i in range(n) :       # indice de ligne\n",
    "        for j in range(n) :   # indice de colonne\n",
    "            # attention à la logique des tests!\n",
    "            if (i==j): # diagonale\n",
    "                D[i,j]=M[i,j]\n",
    "            if (i>=j): # i >=j => on est dans le triangle INFERIEUR\n",
    "                L[i,j]=M[i,j]\n",
    "            if (i<=j): # i >=j => on est dans le triangle SUPERIEUR\n",
    "                U[i,j]=M[i,j]\n",
    "    return (L,U,D) # mise en tuple pour renvoyer les résultats    "
   ]
  },
  {
   "cell_type": "code",
   "execution_count": 110,
   "metadata": {},
   "outputs": [
    {
     "name": "stdout",
     "output_type": "stream",
     "text": [
      "[[ 1.00  0.00  0.00  0.00  0.00]\n",
      " [ 2.00  7.00  0.00  0.00  0.00]\n",
      " [ 3.00  8.00  13.00  0.00  0.00]\n",
      " [ 4.00  9.00  14.00  19.00  0.00]\n",
      " [ 5.00  10.00  15.00  20.00  25.00]]\n",
      "[[ 1.00  6.00  11.00  16.00  21.00]\n",
      " [ 0.00  7.00  12.00  17.00  22.00]\n",
      " [ 0.00  0.00  13.00  18.00  23.00]\n",
      " [ 0.00  0.00  0.00  19.00  24.00]\n",
      " [ 0.00  0.00  0.00  0.00  25.00]]\n",
      "[[ 1.00  0.00  0.00  0.00  0.00]\n",
      " [ 0.00  7.00  0.00  0.00  0.00]\n",
      " [ 0.00  0.00  13.00  0.00  0.00]\n",
      " [ 0.00  0.00  0.00  19.00  0.00]\n",
      " [ 0.00  0.00  0.00  0.00  25.00]]\n"
     ]
    }
   ],
   "source": [
    "# Validation avec une matrice 5 x 5 de valeurs entières\n",
    "M=np.array([[ 1+i+5*j for j in range(5)] for i in range(5)]) # list en compréhension\n",
    "(l,u,d)=splitLUD(M)\n",
    "print(l)\n",
    "print(u)\n",
    "print(d)"
   ]
  },
  {
   "cell_type": "code",
   "execution_count": 111,
   "metadata": {},
   "outputs": [
    {
     "data": {
      "text/plain": [
       "array([[ 0.00,  0.00,  0.00,  0.00,  0.00],\n",
       "       [ 0.00,  0.00,  0.00,  0.00,  0.00],\n",
       "       [ 0.00,  0.00,  0.00,  0.00,  0.00],\n",
       "       [ 0.00,  0.00,  0.00,  0.00,  0.00],\n",
       "       [ 0.00,  0.00,  0.00,  0.00,  0.00]])"
      ]
     },
     "execution_count": 111,
     "metadata": {},
     "output_type": "execute_result"
    }
   ],
   "source": [
    "l + u - d - M # On vérifie numériquement M = l+u-d"
   ]
  },
  {
   "cell_type": "markdown",
   "metadata": {},
   "source": [
    "Autre méthode en utilisant des listes d'indices (**difficile**)"
   ]
  },
  {
   "cell_type": "code",
   "execution_count": 112,
   "metadata": {},
   "outputs": [],
   "source": [
    "# création de deux listes d'indices, iLow et jLOw, telles que \n",
    "# M[iLow[k],jLow[k]] désigne un élément de M situé sous la diagonale principale\n",
    "iLow = [ i for i in range(5) for j in range(5) if i>j] # indices i\n",
    "jLow = [ j for i in range(5) for j in range(5) if i>j] # indices j"
   ]
  },
  {
   "cell_type": "code",
   "execution_count": 113,
   "metadata": {},
   "outputs": [
    {
     "data": {
      "text/plain": [
       "array([[ 1,  6, 11, 16, 21],\n",
       "       [ 0,  7, 12, 17, 22],\n",
       "       [ 0,  0, 13, 18, 23],\n",
       "       [ 0,  0,  0, 19, 24],\n",
       "       [ 0,  0,  0,  0, 25]])"
      ]
     },
     "execution_count": 113,
     "metadata": {},
     "output_type": "execute_result"
    }
   ],
   "source": [
    "M[iLow,jLow] = 0 # mise à zéro de tous les termes situés sous la diagonale\n",
    "M"
   ]
  },
  {
   "cell_type": "markdown",
   "metadata": {},
   "source": [
    "**Synthèse  : Tableau vs Liste de listes**\n",
    " \n",
    " | Tableau | Liste de listes|\n",
    " | :- |  :- |\n",
    "  | éléments du même type| éléments de type quelconque |\n",
    " | nombre d'éléments fixé| ajout possible (concaténation)|\n",
    "| $\\verb|+|$ : ajouter des éléments | $\\verb|+|$ : concaténer |\n",
    "| $\\verb|*|$ : multiplier | $\\verb|*|$ : répéter |\n",
    "| $\\verb|==|$ : comparaison terme à terme | $\\verb|==|$ : comparaison globale |\n",
    "| $\\verb|tab[i,j]|$ | $\\verb|L[i][j]|$ |\n",
    "| $\\verb|n,m = tab.shape|$ | $\\verb|n = len(L)|$ ; $\\verb|m = len(L[0])|$ |\n",
    "\n"
   ]
  },
  {
   "cell_type": "markdown",
   "metadata": {},
   "source": [
    "## Codage des nombres réels en mémoire.\n",
    "\n",
    "Remarque : les valeurs étant de type ``float`` la relation d'égalité n'a AUCUN SENS!\n",
    "\n",
    "Rappel : \n",
    "\n",
    "En informatique, les nombres 'réels' sont codés de manière approchée et on ne représente qu'un sous-ensemble fini de $\\mathbb{R}$.\n",
    "\n",
    "En Python, le type ``float`` est un flottant en double précision c'est-à-dire codé sur 64 bits selon la norme IEE 754 : le signe est codé sur un bit, l'exposant est codé sur 11 bits, la mantisse sur les 52 bits restant.\n",
    "\n",
    "> La précision relative du codage est de $2^{-52}\\sim 2\\,10 ^{-16}$. C'est la précision du *zéro* pour la machine. C'est l'ordre de grandeur du rapport entre le mètre et l'année lumière.\n"
   ]
  },
  {
   "cell_type": "code",
   "execution_count": 114,
   "metadata": {},
   "outputs": [
    {
     "data": {
      "text/plain": [
       "2.220446049250313e-16"
      ]
     },
     "execution_count": 114,
     "metadata": {},
     "output_type": "execute_result"
    }
   ],
   "source": [
    "2**(-52)"
   ]
  },
  {
   "cell_type": "markdown",
   "metadata": {},
   "source": [
    "\n",
    "> Le plus petit nombre codable est $\\sim10^{-308}$, le plus grand est $10^{+308}$.\n",
    "\n",
    "**Ne pas confondre : précision relative et étendue de la représentation**\n",
    "\n",
    "Exemple : coder le nombre $x=10^{-200}$ en machine avec une précision relative de $10^{-16}$, signifique que si on ajoute $10^{-215}$ à $x$, le codage de $x$ change. En revanche, si on ajoute ajoute $10^{-217}$ à ce nombre $x$, sa valeur demeure inchangée pour la machine ( = le codage n'est pas suffisamment précis représenter une si faible variation relative de $x$).\n",
    "\n",
    "Idem ajouter $10^{100}$ à $10^{117}$ revient à ajouter zéro: le nombre reste $10^{117}$ car $10^{100}$ est insignifiant devant $10^{117}$ pour la représentation approchée des nombres en machine."
   ]
  },
  {
   "cell_type": "code",
   "execution_count": 115,
   "metadata": {},
   "outputs": [
    {
     "data": {
      "text/plain": [
       "1.000000000000001e-200"
      ]
     },
     "execution_count": 115,
     "metadata": {},
     "output_type": "execute_result"
    }
   ],
   "source": [
    "1e-200+1e-215"
   ]
  },
  {
   "cell_type": "code",
   "execution_count": 116,
   "metadata": {},
   "outputs": [
    {
     "data": {
      "text/plain": [
       "1e-200"
      ]
     },
     "execution_count": 116,
     "metadata": {},
     "output_type": "execute_result"
    }
   ],
   "source": [
    "1e-200+1e-217"
   ]
  },
  {
   "cell_type": "markdown",
   "metadata": {},
   "source": [
    "Conclusion : pas de tests d'égalité avec les ``float``."
   ]
  },
  {
   "cell_type": "code",
   "execution_count": 117,
   "metadata": {},
   "outputs": [
    {
     "data": {
      "text/plain": [
       "False"
      ]
     },
     "execution_count": 117,
     "metadata": {},
     "output_type": "execute_result"
    }
   ],
   "source": [
    "x = np.sqrt(5)\n",
    "x**2-5 == 0 # Le résultat peut être aléatoire : il peut donner False ou True selon l'implémentation machine."
   ]
  },
  {
   "cell_type": "markdown",
   "metadata": {},
   "source": [
    "# Matplotlib.pyplot\n",
    "\n",
    "Bibliothèque très utile pour représenter des données, des fonctions numériques ou des images en général."
   ]
  },
  {
   "cell_type": "code",
   "execution_count": 17,
   "metadata": {},
   "outputs": [],
   "source": [
    "import matplotlib.pyplot as plt # alias des fonctions graphiques\n",
    "# LA COMMANDE CI-DESSOUS EST SPECIFIQUE POUR REALISER CE DOCUMENT : NE PAS EN TENIR COMPTE ---\n",
    "%matplotlib inline \n",
    "plt.rcParams[\"figure.figsize\"] = (4, 3) # COMMANDE SPECIFIQUE POUR REALISER CE DOCUMENT : NE PAS EN TENIR COMPTE"
   ]
  },
  {
   "cell_type": "markdown",
   "metadata": {},
   "source": [
    "La fonction la plus utile est la fonction ``plt.plot(xi,yi)``\n",
    "qui trace la liste de points P de coordonnées xi,yi."
   ]
  },
  {
   "cell_type": "code",
   "execution_count": 119,
   "metadata": {},
   "outputs": [
    {
     "data": {
      "image/png": "[encoded data removed]",
      "text/plain": [
       "<Figure size 288x216 with 1 Axes>"
      ]
     },
     "metadata": {
      "needs_background": "light"
     },
     "output_type": "display_data"
    }
   ],
   "source": [
    "plt.plot([0, 1, 1, 0, 0], [1, 1, 0, 0, 1], '-*r', linewidth=3) # un carré rouge\n",
    "plt.axis('equal') # repère orthonormé\n",
    "plt.show()"
   ]
  },
  {
   "cell_type": "markdown",
   "metadata": {},
   "source": [
    "L'option ``'-*r'`` précise la couleur ``'r'`` = rouge, ``'-'`` = les points sont reliés par un trait continu et chaque point est repéré par le symbole ``*``."
   ]
  },
  {
   "cell_type": "markdown",
   "metadata": {},
   "source": [
    "**Exemple 1**. \n",
    "\n",
    "Ecrire un script pour tracer, en bleu, la courbe représentation de la fonction :\n",
    "\n",
    "$f : x \\to x^2sin(1/x^2)\\quad$ sur l'intervalle $\\quad I=[-\\pi/8  \\quad\\pi/8]$.\n",
    "\n",
    "Tracer sur le même graphe, en rouge, les courbes représentatives des fonctions $\\quad g : x\\to x^2\\quad$ et $\\quad -g$."
   ]
  },
  {
   "cell_type": "code",
   "execution_count": 120,
   "metadata": {},
   "outputs": [
    {
     "data": {
      "image/png": "[encoded data removed]",
      "text/plain": [
       "<Figure size 288x216 with 1 Axes>"
      ]
     },
     "metadata": {
      "needs_background": "light"
     },
     "output_type": "display_data"
    }
   ],
   "source": [
    "N=1000 # nb de points d'échantillonnage pour le tracé de f\n",
    "xi=np.linspace(-np.pi/8,np.pi/8,N) # vecteur des valeurs d'abscisses\n",
    "fi=xi**2*np.sin(1/xi**2) # vecteur de valeurs yi=f(xi)\n",
    "plt.plot(xi,fi,'b',linewidth=1) # en bleu\n",
    "plt.plot(xi,xi**2,'r')          # fonction g\n",
    "plt.plot(xi,-xi**2,'r')         # fonction -g\n",
    "plt.show()"
   ]
  },
  {
   "cell_type": "markdown",
   "metadata": {},
   "source": [
    "**Exemple 2**.\n",
    "\n",
    "Tracé de la courbe paramètrique de Lissajous.\n",
    "$$\\left\\{ \\begin{array}{ccl} x(t) &= & a \\sin(t) \\\\\n",
    "y(t) & = & b\\sin(nt+\\varphi) \\end{array} \\right.$$\n",
    "\n",
    "Ecrire une fonction ``traceLissajous(n,phi)`` qui trace la courbe paramètrique pour $t$ variant dans l'intervalle $[0 \\quad 100\\pi]$, pour $a=b=1$."
   ]
  },
  {
   "cell_type": "code",
   "execution_count": 121,
   "metadata": {},
   "outputs": [],
   "source": [
    "def traceLissajous(n,phi):\n",
    "    ti=np.linspace(0,100*np.pi,int(2e3)) # 2000 points de calcul\n",
    "    xi=np.sin(ti)\n",
    "    yi=np.sin(n*ti+phi)\n",
    "    plt.plot(xi,yi,'k')\n",
    "    plt.axis('equal')\n",
    "    plt.show()"
   ]
  },
  {
   "cell_type": "code",
   "execution_count": 122,
   "metadata": {
    "scrolled": true
   },
   "outputs": [
    {
     "data": {
      "image/png": "[encoded data removed]",
      "text/plain": [
       "<Figure size 288x216 with 1 Axes>"
      ]
     },
     "metadata": {
      "needs_background": "light"
     },
     "output_type": "display_data"
    }
   ],
   "source": [
    "traceLissajous(8/5,np.pi/6) # n=8/5 et phi=pi/6"
   ]
  },
  {
   "cell_type": "markdown",
   "metadata": {},
   "source": [
    "**Exemple 4 : dérivée numérique.**\n",
    "\n",
    "On peut approximer le nombre dérivée de $f$ en $x_0$ par une différence finie~:\n",
    "\n",
    "$$ \\left.\\frac{\\mathrm{d} f}{\\mathrm{d} x}\\right|_{x=x_0} \\approx\n",
    "\\frac{f(x_0+\\varepsilon)-f(x_0)}{\\varepsilon}$$\n",
    "\n",
    "où (encore mieux!) à l'aide d'un schéma centré d'ordre 2~:\n",
    "$$ \\left.\\frac{\\mathrm{d} f}{\\mathrm{d} x}\\right|_{x=x_0} \\approx\n",
    "\\frac{f(x_0+\\varepsilon)-f(x_0-\\varepsilon)}{2\\varepsilon}$$\n",
    "\n",
    "> Ecrire une fonction ``traceDf(f,I=[0,1],epsi=1e-5)`` qui trace la courbe représentative de la fonction numérique ``f`` **passée comme argument**, sur l'intervalle ``[a, b ]``, en utilisant une estimation numérique de la dérivée selon un shéma centré de paramètre $\\varepsilon$. Le tracé de la dérivée sera fait en rouge.\n",
    "\n",
    "Soit la fonction $f : x \\to x^3 -(x+2)^2$, $\\quad$ tracer sa courbe sur l'intervalle $\\quad I=[-2 , +\\frac{5}{2}]$ ainsi que celle de sa dérivée.\n"
   ]
  },
  {
   "cell_type": "code",
   "execution_count": 123,
   "metadata": {},
   "outputs": [],
   "source": [
    "def traceDf(f,I=[0,1],epsi=1e-5): # trace la courbe représentative de la fonction f sur [a,b]\n",
    "    a,b=I                     # unpack des bornes [a,b] de l'intervalle\n",
    "    N = 1000                  # nb de points discrétisant l'intervalle [a,b]     \n",
    "    xi = np.linspace(a,b,1000)# N points équirépartis\n",
    "    listDF = np.zeros(N)      # initialisation du vecteur des valeurs de la dérivée\n",
    "    for k in range(N) :       # pour chaque point de la courbe\n",
    "        x0 = xi[k]            # abcisse du point\n",
    "        derivee = (f(x0 + epsi) - f(x0 - epsi)) / (2*epsi)# 2 appels à la fonction f pour estimer la dérivée en x0\n",
    "        listDF[k] = derivee\n",
    "    plt.plot(xi,listDF, '-r') # tracé de la courbe en rouge\n",
    "    plt.show()    "
   ]
  },
  {
   "cell_type": "code",
   "execution_count": 124,
   "metadata": {},
   "outputs": [
    {
     "data": {
      "image/png": "[encoded data removed]",
      "text/plain": [
       "<Figure size 288x216 with 1 Axes>"
      ]
     },
     "metadata": {
      "needs_background": "light"
     },
     "output_type": "display_data"
    }
   ],
   "source": [
    "# validation avec la fonction\n",
    "f= lambda x:x**3-(x+2)**2# utilisation du mot clé lambda => écriture compacte\n",
    "xi=np.linspace(-2,2.5,100)\n",
    "plt.plot(xi,f(xi))  # tracé de f\n",
    "plt.grid(True)      # utilisation d'une grille\n",
    "traceDf(f,[-2,2.5]) # tracé de la dérivée"
   ]
  },
  {
   "cell_type": "markdown",
   "metadata": {},
   "source": [
    "## arange, linspace de la bibliothèque Numpy\n",
    "\n",
    "Ces fonctions servent à générer une liste continue de valeurs uniformément réparties sur un intervalle mais qui sont **différentes** :\n",
    "\n",
    "- np.arange(a,b,dx) : génère la suite de valeurs : a, a+dx, a+2dx, a+3dx, ... a+k.dx <b. La valeur b n'est jamais atteinte.\n",
    "\n",
    "- np.linspace(a,b,N) : génère une suite de N valeurs équiréparties entre a et b."
   ]
  },
  {
   "cell_type": "code",
   "execution_count": 125,
   "metadata": {},
   "outputs": [
    {
     "data": {
      "text/plain": [
       "array([ 0.00,  0.10,  0.20,  0.30,  0.40,  0.50,  0.60,  0.70,  0.80,\n",
       "        0.90])"
      ]
     },
     "execution_count": 125,
     "metadata": {},
     "output_type": "execute_result"
    }
   ],
   "source": [
    "np.arange(0,1,0.1) # entre 0 et 1 avec un pas de 0.1 : la valeur 1 n'est pas atteinte."
   ]
  },
  {
   "cell_type": "code",
   "execution_count": 126,
   "metadata": {},
   "outputs": [
    {
     "data": {
      "text/plain": [
       "array([ 0.00,  0.11,  0.22,  0.33,  0.44,  0.56,  0.67,  0.78,  0.89,\n",
       "        1.00])"
      ]
     },
     "execution_count": 126,
     "metadata": {},
     "output_type": "execute_result"
    }
   ],
   "source": [
    "np.linspace(0,1,10) # 10 valeurs entre 0 et 1 inclus : le pas est (b-a)/(N-1)"
   ]
  },
  {
   "cell_type": "markdown",
   "metadata": {},
   "source": [
    "**Attention :** ne pas confondre le nombre de *piquets* et le nombre *d'intervalles*!\n",
    "\n",
    "Ex: écrire une fonction myLinspace(a,b,N) qui fournit un ``ndarray`` de N valeurs équiréparties sur l'intervalle $[a  \\quad b]$"
   ]
  },
  {
   "cell_type": "code",
   "execution_count": 127,
   "metadata": {},
   "outputs": [
    {
     "data": {
      "text/plain": [
       "array([ 0.00,  0.11,  0.22,  0.33,  0.44,  0.56,  0.67,  0.78,  0.89,\n",
       "        1.00])"
      ]
     },
     "execution_count": 127,
     "metadata": {},
     "output_type": "execute_result"
    }
   ],
   "source": [
    "# méthode 1 : en partant d'un ndarray initialisé avec np.zeros\n",
    "def myLinspace(a,b,N):\n",
    "    res=np.zeros(N) # mise à zéros du vecteur résultat\n",
    "    dx=(b-a)/(N-1)\n",
    "    for k in range(N): # k varie de 0 à N-1 dans cette boucle\n",
    "        res[k]=a+k*dx # on vérifie que pour k=0, res=a et pour k = N-1, res=a+(N-1).dx vaut bien b\n",
    "    return res\n",
    "myLinspace(0,1,10)"
   ]
  },
  {
   "cell_type": "code",
   "execution_count": 128,
   "metadata": {},
   "outputs": [
    {
     "data": {
      "text/plain": [
       "array([ 0.00,  0.11,  0.22,  0.33,  0.44,  0.56,  0.67,  0.78,  0.89,\n",
       "        1.00])"
      ]
     },
     "execution_count": 128,
     "metadata": {},
     "output_type": "execute_result"
    }
   ],
   "source": [
    "# méthode 2  : en passant par une liste vide, en utilisant la méthode append(),\n",
    "#              puis en convertissant la liste en ndarray\n",
    "def myLinspace(a,b,N):\n",
    "    L=[] # liste vide\n",
    "    dx=(b-a)/(N-1) # écart entre deux valeurs\n",
    "    for k in range (N):\n",
    "        L.append(a+k*dx)\n",
    "    return np.array(L) # conversion de la liste de nombre en ndarray\n",
    "myLinspace(0,1,10)    "
   ]
  },
  {
   "cell_type": "markdown",
   "metadata": {},
   "source": [
    "# Algorithmique\n",
    "\n",
    "[**algorithme**] = (n.m. du nom du mathématicien perse, Al-Khwârizmî, XIXe) suite finie et non ambiguë d'opérations permettant de résoudre une classe de problèmes.\n",
    "\n",
    "## Complexité\n",
    "\n",
    "> Dans la conception d'un algorithme, la notion de *complexité algorithmique* est essentielle. Il existe des classes de problèmes pour lesquels des algorithmes simples existent mais sont inutilisables en pratique dès que le nombre d'éléments à traiter est trop grand.\n",
    "\n",
    "> L'augmentation de la performance des machines (en augmentant la vitesse d'exécution, ou la quantité mémoire, d'un facteur 10, 100 1000 ou plus encore) ne change rien à cette réalité. Toutefois, les *ordinateurs quantiques* autorisent la mise en oeuvre d'**algorithmes quantiques**  permettant de résoudre des problèmes qui semblent inacessibles aux machines traditionnelles (cf [algorithme de Shor](https://fr.wikipedia.org/wiki/Algorithme_de_Shor)). Pour l'heure les performances des machines quantiques sont encore très limitées mais des frameworks (cf [qiskit](https://qiskit.org/) par exemple pour une implémentation en Python) sont proposés par les fabricants.\n",
    "\n",
    "> La mise au point des ordinateurs quantiques remet en cause le fonctionnement actuel de la **sécurité informatique** qui répose précisément sur la notion de complexité algorithmique.\n",
    "\n",
    "**Rappels : complexité algorithmique**\n",
    "\n",
    "> La complexité d'un algorithme quantifie la quantité de ressources (temps ou espace) nécessaire à son exécution.\n",
    "\n",
    "Conformément au programme, le calcul de la complexité temporelle se limite :\n",
    "\n",
    "+ au **pire des cas** (cas le plus défavorable, par exemple quand l'élément recherché dans une liste est le denier que l'on teste,\n",
    "+ au **meilleur des cas** (cas le plus favorable, par exemple quand l'élément recherché dans une liste est le premier que l'on teste ou lorsque l'on souhaite triée une liste qui l'est déjà).\n",
    "\n",
    "> La complexité est définie **relativement à la taille** $n$ **de l'entrée** considérée (nombre d'éléments de la liste à traiter, nombre d'éléments dans le tableau, dimension de la matrice donnée en entrée, etc...).\n",
    "\n",
    "La complexité en temps est généralement quantifiée de 3 manières :\n",
    "\n",
    "+ en comptant précisément le nombre $C(n)$ d'opérations effectuées. Chaque opération élémentaire possède un coût de 1, il faut dénombrer **précisément** toutes les opérations effectuées. Il n'est pas toujours clair de savoir quelles opérations sont à considérer (addition, multiplication, division, comparaison, appel à une fonction, etc...). Généralement, ce choix est précisé dans le contexte.\n",
    "+ en se limitant aux termes dominants au développement limité du nombre d'opérations pour les grandeurs valeurs de $n$. On se limite au **comportement asymptotique**. Par exemple, pour $C(n)=n(n-1)/2 +3$, on retient $C(n)\\sim_{n\\to \\infty} n^2/2$.\n",
    "\n",
    "+ en ne gardant que l'**ordre de grandeur** de la complexité dans le pire des cas. On utilise la notation $\\mathcal{O}$ (grand \"O\"), $f(n)=\\mathcal{O}(g(n)) \\Leftrightarrow \\exists M>0\\, \\vert \\forall n>M, \\, f(n)\\le M g(n)$. Ainsi, dire qu'un algorithme est d'ordre $n$, implique que son coût d'exécution n'est pas plus que doublé lorsque l'on double la taille de l'objet à traiter.\n",
    "\n",
    "\n",
    "Voici un tableau qui donne les temps d'exécution en fonction des complexités (on suppose que la machinque effectue $10^9$ opérations par seconde).\n",
    "\n",
    "|  $\\quad$ Ordre de grandeur $\\quad$    | Complexité    | Durée pour $n=10^2$ | Durée pour $n=10^6$ |\n",
    "|:-|:-|:-: |:-: | \n",
    "|$\\mathcal{O}(\\log(n))$      | logarithmique    | $5$ ns |$13$ ns |\n",
    "| $\\mathcal{O}(n)$           | linéaire               |$100$ ns | $1$ ms |\n",
    "|  $\\mathcal{O}(n\\log(n))$   | quasi-linéaire         |$500$ ns | $14$ ms |\n",
    "|  $\\mathcal{O}(n^2)$        | quadratique             |$10$ $\\mu$s |$17$ min |\n",
    "|  $\\mathcal{O}(n^3)$ ($k\\ge 2$) | polynomiale         |$1$ ms | $32$ a |\n",
    "|  $\\mathcal{O}(k^n)$ ($k>1$)    |  exponentielle  |$4\\,10^{13}$ a| |\n",
    "\n",
    "On constate toute l'importance de connaître l'**ordre de grandeur de la complexité temporelle** d'un algorithme lorsque l'on souhaite le mettre en oeuvre de manière concrète.\n",
    "\n",
    "## Preuves d'algorithmes\n",
    "\n",
    "Pour chacun des exemples d'algorithme suivants, on demande de :\n",
    "\n",
    "- prouver sa **terminaison**, c'est-à-dire prouver qu'il n'effectue pas une boucle infinie (ou une récurrence infinie),\n",
    "- prouver sa **correction**, c'est-à-dire qu'il effectue l'opération pour lequel il est conçu,\n",
    "- estimer sa **complexité** temporelle, c'est-à-dire indiquer comment le temps d'exécution varie en fonction de la taille $n$ de la donnée d'entrée $\\mathcal{O}(\\log(n))$, $\\mathcal{O}(n\\log(n))$, $\\mathcal{O}(n)$, $\\mathcal{O}(n^2)$, $\\mathcal{O}(n^3)$, $\\mathcal{O}(a^n)$, ... En justifiant la réponse.\n"
   ]
  },
  {
   "cell_type": "markdown",
   "metadata": {},
   "source": [
    "**Note : tous les algorithmes suivants sont à connaître**"
   ]
  },
  {
   "cell_type": "markdown",
   "metadata": {},
   "source": [
    "### Algorithme de somme\n",
    "\n"
   ]
  },
  {
   "cell_type": "code",
   "execution_count": 129,
   "metadata": {},
   "outputs": [],
   "source": [
    "def somme(L): # somme les éléments d'une liste de nombres\n",
    "    res=0\n",
    "    for i in range(len(L)):\n",
    "        res+=L[i] # invariant de boucle ici : res(i) = sum(k=0,i,L[k])\n",
    "    return res    "
   ]
  },
  {
   "cell_type": "markdown",
   "metadata": {},
   "source": [
    "**Terminaison** : l'algorithme ci-dessus se termine car il s'agit d'une boucle ``for``.\n",
    "\n",
    "**Correction** : \n",
    "\n",
    "> On note $\\verb|res|_i$ la valeur de la variable $res$ à la fin de l'itération d'indice $i$. On définit alors l'invariant de boucle suivant $\\quad \\verb|res|_i=\\sum_{k=0}^{i} L[i]$. (L'*invariant de boucle* est cette égalité dont on va montrer qu'elle est vraie au début et après chaque passage dans la boucle). \n",
    "\n",
    "> On constate que : (1) $res=0$ lorsque que $i$ est nul. (2) à chaque itération, si l'expression de $\\verb|res|_i$ est vraie à l'itération $i-1$, on voit qu'elle est également vraie à l'itération suivante : $i$ $$ \\verb|res|_i=i+\\verb|res|_{i-1}$$ \n",
    "\n",
    "> En sortie de boucle, l'indice de boucle $i$ a atteint sa valeur finale $i=n-1$, et la variable $res$ vaut donc \n",
    "$$\\verb|res|=\\verb|res|_{n-1}=\\sum_{k=0}^{n-1} L[k]. \\quad \\textrm{Ce qui prouve la correction.}$$\n",
    "\n",
    "**Complexité** : pour sommer une liste de $n$ éléments, on fait exactement $n$ additions. La complexité est ainsi linéaire."
   ]
  },
  {
   "cell_type": "markdown",
   "metadata": {},
   "source": [
    "### Recherche d'un élément nul dans une liste en utilisant une boucle *while*"
   ]
  },
  {
   "cell_type": "code",
   "execution_count": 130,
   "metadata": {},
   "outputs": [],
   "source": [
    "def contientZero(L):\n",
    "    res=False\n",
    "    i=0\n",
    "    n=len(L) # nombre d'élements de la liste L\n",
    "    while (i<n) and not res:\n",
    "        if L[i]==0 : # le i-ème élément est-il nul?\n",
    "            res=True\n",
    "        else:\n",
    "            i+=1 # on passe au suivant\n",
    "        # invariant de boucle ici \n",
    "    return res"
   ]
  },
  {
   "cell_type": "markdown",
   "metadata": {},
   "source": [
    "**Terminaison** : \n",
    "\n",
    "> la boucle ``while`` se termine si $res$ passe à True **ou** si $i$ devient supérieur ou égal à $n$. Supposons que $res$ ne passe jamais à False, dans ce cas, $i$ est un entier qui aumgnente de 1 à chque itération, donc finira par dépasser $n$. Donc la boucle s'arrête. Si par contre, $res$ passe à True, alors la boucle s'arrête. Dans tous les cas, le programme sortira de la boucle ``while``.\n",
    "\n",
    "**Correction** : \n",
    "\n",
    "L'invariant de boucle est:\n",
    "$$ \\mathscr{P}(i) \\quad : \\quad (\\forall k \\,\\, 0\\leq k < i, \\, L[k]\\ne0\\, \\textrm{ ET } \\, \\verb|res|  == \\textrm{False} ) \\quad \\textrm{ OU } \\quad ( \\verb|L[i]== 0| \\, \\textrm{ ET }  \\,\\verb|res| == \\textrm{True} )$$\n",
    "\n",
    "A la fin de la première itération,  et soit $\\verb|L[i]|$ est nul, $i=0$ et $\\verb|res|$ est True, soit $\\verb|L[i]|$ est non nul, $i=1$ et $\\verb|res|$ est False. Donc $\\mathscr{P}(i=0)$ est vraie.\n",
    "\n",
    "Supposons que $\\mathscr{P}(i-1)$ vraie, montrons qu'elle reste vrai à l'itération suivante. Si $\\verb|L[i]|$ est nul alors $\\verb|res|$ devient True donc $\\mathscr{P}(i)$ est vraie. Si $\\verb|L[i]|$ est non nul, $i$ augmente de 1 et $\\verb|res|$ reste faux. Donc  $\\mathscr{P}(i)$ est encore vraie. Donc $\\mathscr{P}(i)$ est un invariant de boucle.\n",
    "\n",
    "Au sortir de la boucle : soit $\\verb|res|$ est vraie et donc $\\verb|L[i]|$ est nul, soit $\\verb|res|$ est faux, la condition de sortie de boucle est réalisée car $i<n$ est faux. Donc $i=n$ donc, l'invariant de boucle $\\mathscr{P}(i=n)$ est le suivant :\n",
    "$$\\forall k \\,\\, 0\\leq k < i, \\, L[k]\\ne0$$\n",
    "Ce qui prouve la correction : lorsque la fonction renvoie True, c'est bien que l'indice $i$ telle que L[i] est nulle est trouvé. Lorsque la fonction renvoie faux, c'est qu'aucun des éléments d'indice $\\texttt{k=0, 1, 2, .. , n-1}$ n'est nul.\n",
    "\n",
    "Remarque : exprimer le bon invariant de boucle est souvent la partie la plus délicate (il peut vous être donné). La démonstration de la correction de l'algorithme demande beaucoup de logique.\n",
    "\n",
    "**Complexité** : dans le pire des cas, *n* itérations. Dans le meilleure des cas une seule itérations."
   ]
  },
  {
   "cell_type": "markdown",
   "metadata": {},
   "source": [
    "### Suite de syracuse\n",
    "\n",
    "Voici une fonction, très simple, dont **on ne sait pas prouver la terminaison** lorsque son argument ``n`` est un entier naturel."
   ]
  },
  {
   "cell_type": "code",
   "execution_count": 131,
   "metadata": {},
   "outputs": [],
   "source": [
    "def syracuse(n):\n",
    "    while (n%2==0):\n",
    "        n//=2\n",
    "    L.append(n)# pour voir l'évolution des appels à la fonction\n",
    "    if n==1 :\n",
    "        return 1\n",
    "    else:\n",
    "        return syracuse(3*n+1)"
   ]
  },
  {
   "cell_type": "code",
   "execution_count": 132,
   "metadata": {},
   "outputs": [
    {
     "name": "stdout",
     "output_type": "stream",
     "text": [
      "[31, 47, 71, 107, 161, 121, 91, 137, 103, 155, 233, 175, 263, 395, 593, 445, 167, 251, 377, 283, 425, 319, 479, 719, 1079, 1619, 2429, 911, 1367, 2051, 3077, 577, 433, 325, 61, 23, 35, 53, 5, 1]\n"
     ]
    }
   ],
   "source": [
    "L=[] # variable \"globale\"\n",
    "syracuse(31)\n",
    "print(L)"
   ]
  },
  {
   "cell_type": "markdown",
   "metadata": {},
   "source": [
    "### Recherche du minimum dans une liste."
   ]
  },
  {
   "cell_type": "code",
   "execution_count": 133,
   "metadata": {},
   "outputs": [],
   "source": [
    "def getMin(L): # L est une liste de nombres dont on souhaite trouver le minimum.\n",
    "    res=L[0] # premier élément\n",
    "    for i in range(1,n) : # on teste tous les éléments d'indice i = 2, 3, .. n-1\n",
    "        if L[i]<res:\n",
    "            res=L[i] # mise à jour du min\n",
    "        # invariant res(i) = min {L[0],L[1], ..., L[i]} \n",
    "    return res"
   ]
  },
  {
   "cell_type": "markdown",
   "metadata": {},
   "source": [
    "**Terminaison** : une boucle *for* se termine toujours.\n",
    "\n",
    "**Correction** : \n",
    "\n",
    "+ L'invariant est $\\verb|res|_i=\\min\\left\\{\\verb|L[0]|, \\verb|L[1]|, \\verb|L[2]|, ..., \\verb|L[i]| \\right\\}$. Il est vrai à la fin de la première itération pour $i=0$. Il est héréditaire.\n",
    "\n",
    "+ En sortant de la boucle, $i=n-1$ et donc $\\verb|res|$ est bien de le minimum des $n$ éléments d'indice $i=0, 1,2, \\ldots, n-1$.\n",
    "\n",
    "**Complexité** : dans tous les cas, la boucle effectue $n$ itérations."
   ]
  },
  {
   "cell_type": "markdown",
   "metadata": {},
   "source": [
    "### Indice du minimum dans une liste"
   ]
  },
  {
   "cell_type": "code",
   "execution_count": 134,
   "metadata": {},
   "outputs": [],
   "source": [
    "def getMinIndex(L): # L est une liste de n éléments\n",
    "    res=0 # ici res est initialisé à l'indice du premier élément\n",
    "    for i in range(1,len(L)): # on teste tous les éléments suivants\n",
    "        if L[i]<L[res]:\n",
    "            res=i # mise à jour de l'indice\n",
    "    # invariant ici\n",
    "    return res    "
   ]
  },
  {
   "cell_type": "code",
   "execution_count": 135,
   "metadata": {},
   "outputs": [
    {
     "data": {
      "text/plain": [
       "4"
      ]
     },
     "execution_count": 135,
     "metadata": {},
     "output_type": "execute_result"
    }
   ],
   "source": [
    "getMinIndex([1,4,3,6,-1,3,3]) # l'élément minimal (-1) a pour indice 4 (c'est le 5ième de la liste)"
   ]
  },
  {
   "cell_type": "markdown",
   "metadata": {},
   "source": [
    "Remarque : s'il y a deux éléments minimum, la fonction renvoie le plus petit des deux indices.\n",
    "\n",
    "Question : que se passerait-il si on remplaçait l'opérateur ``<`` par l'opérateur ``<=``?"
   ]
  },
  {
   "cell_type": "markdown",
   "metadata": {},
   "source": [
    "Preuve de terminaison, correction : à adapter de l'exemple précédent."
   ]
  },
  {
   "cell_type": "markdown",
   "metadata": {},
   "source": [
    "### Algorithme de tri par sélection\n",
    "\n",
    "Principe : on souhaite trier par ordre croissant une liste de $n$ éléments.\n",
    "\n",
    "- On trie progressivement les éléments de la liste en sélectionnant le plus petit parmi ceux qui n'ont pas encore été triés. \n",
    "\n",
    "- On procède par itération : les éléments déjà triés sont rangés (par ordre croissant) parmi les $k$ premiers de la liste. \n",
    "\n",
    "- Les éléments qui n'ont pas encore été triés restent à leur place en fin de liste.\n",
    "\n",
    "L'algorithme en français est donc le suivant:\n",
    "\n",
    "    L'indice k parcourt les indices de tous les éléments SAUF DU DERNIER.\n",
    "       # Ici, la liste des k-1 premiers éléments est supposée triée.\n",
    "       Rechercher l'indice i du minimum parmi les éléments  \n",
    "       restants n-k+1 éléments restants.\n",
    "       Permuter le k-ième élément avec le i-ème pour \n",
    "       que le k-ième corresponde au minimum des restants.\n",
    "En quittant la boucle, les $n-1$ premiers éléments sont à leur place. Donc le $n$-ième l'est également.\n",
    "\n",
    "Pour ce tri, on réutilise l'algorithme du recherche de l'indice du minimum dans une liste (exemple précédent). "
   ]
  },
  {
   "cell_type": "code",
   "execution_count": 136,
   "metadata": {},
   "outputs": [],
   "source": [
    "def triSelection(L):\n",
    "    n=len(L)\n",
    "    nbComp=0\n",
    "    for k in range(n-1): # inutile de trier le denier élément : k s'arrête à n-2, c-à-d au n-1-ième -élément.\n",
    "        # recherche du minimum dans la sous-liste L[k:], c'est-à-dire pour les indices k, k+1, k+2, ..., n\n",
    "        iMin=k # initialisation de l'indice du min\n",
    "        for i in range(k+1,n): # l'indice i prend les valeurs k+1, k+2, ..., n-1\n",
    "            nbComp+=1\n",
    "            if L[i]<L[iMin]:\n",
    "                iMin=i # mise à jour de l'indice du mini\n",
    "        L[iMin],L[k]=L[k],L[iMin] # permutation des éléments d'indice iMin et k\n",
    "    return nbComp"
   ]
  },
  {
   "cell_type": "code",
   "execution_count": 137,
   "metadata": {},
   "outputs": [
    {
     "name": "stdout",
     "output_type": "stream",
     "text": [
      "[1, 1, 2, 3, 3, 4, 5, 5, 6, 9, 10, 13, 41] 78 78.5\n"
     ]
    }
   ],
   "source": [
    "L=[1,4,2,6,3,5,3,9,1,10,41,13,5]\n",
    "n=len(L)\n",
    "nb=triSelection(L)\n",
    "print(L,nb,(n**2-n+1)/2)"
   ]
  },
  {
   "cell_type": "markdown",
   "metadata": {},
   "source": [
    "Remarques :\n",
    "\n",
    "+ le tri s'effectue *en place*, l'instruction RETURN n'est pas nécessaire, la liste L est modifiée car aucun nouvel objet ``list`` n'est créé.\n",
    "+ la dernière instruction aurait pu être écrite : ``L[k],L[iMin]=L[iMin],L[k]``, c'est parfaitement équivalent.\n"
   ]
  },
  {
   "cell_type": "markdown",
   "metadata": {},
   "source": [
    "**Terminaison** : évident car deux boucles for.\n",
    "\n",
    "**Correction** : \n",
    "\n",
    "> Pour établir la correction de l'algorithme, on suppose que l'algorithme *de la recherche de l'indice du minimum dans une liste* a été été prouvé (cf exemple précédent). On suppose ainsi qu'à l'issue de la seconde boucle *for*, celle d'indice $i$, $\\verb|iMin|$ est bien l'indice du minimum de la sous-liste des éléments d'indices k, k+1, k+2, ..., n-1.\n",
    "\n",
    "> Dans la suite on ne raisonne donc plus que sur la première boucle *for*, celle d'indice $k$.\n",
    "\n",
    "> L'invariant est $\\mathscr{P}(k)$, \"à la fin de l'itération k de la première boucle *for*, les k premiers éléments de la liste sont à leur place\".\n",
    "\n",
    "> Première itération, $k=0$ : cette proposition $\\mathscr{P}(k=0)$ est vraie à la fin de la première itération. En effet, ``L[iMin]`` est le minimum de la liste, il est placé en premier.\n",
    "\n",
    "> Soit $\\mathscr{P}(k-1)$ vraie. Les $k-1$ premiers éléments sont triés. On cherche le k-ième parmi les éléments restants. Celui qui possède cette valeur minimale est placé à la position $k$. Donc $\\mathscr{P}(k)$ devient vraie à la fin de l'itération $k$.\n",
    "\n",
    "> A la sortie de la boucle, $k$ vaut $n-2$. Donc les $n-1$ premiers éléments sont triés, à leur place. Donc le dernier l'est nécessaire. Ce qui prouve l'algorithme."
   ]
  },
  {
   "cell_type": "markdown",
   "metadata": {},
   "source": [
    "**Complexité** : évaluons le nombre de comparaisons ``<`` effectuées.\n",
    "\n",
    "- On sait que pour ``range(a,b)``, l'indice prend les valeurs a, a+1, a+2, ..., b-1, il y donc b-a valeurs d'indices distinctes (\"Piquet $\\neq$ Intervalle !\")\n",
    "- ``range(n-1)`` : dans la première boucle for, l'indice $k$ prend les valeurs $0$, $1$, $2$, ..., $n-2$ (et non pas $n-1$!)\n",
    "- ``range(k+1,n)``, il y a donc n-(k+1) valeurs distinctes pour la seconde boucle *for* imbriquée.\n",
    "\n",
    "On est donc ramenère au calcul de la somme suivante:\n",
    "$$C(n) \\, = \\, \\sum_{k=0}^{n-2} \\, \\sum_{i=k+1}^{n-1} \\,1$$ \n",
    "Il s'agit d'une sommation imbriquée, on commence donc par la somme intérieure:\n",
    "$$\\sum_{i=k+1}^{n-1} 1 = n-(k+1) \\quad \\textrm{car elle comporte } \\, n-(k+1) \\textrm{ termes}. $$\n",
    "\n",
    "Il reste donc\n",
    "$$C(n) \\, = \\, \\sum_{k=0}^{n-2} \\,  n-(k+1)$$ \n",
    "\n",
    "Soit $$C(n) \\, = \\, \\sum_{k=0}^{n-2} \\,  n-(k+1) \\,= \\, \\sum_{k=0}^{n-2} (n-1) -\\sum_{k=0}^{n-2} k $$ \n",
    "Soit\n",
    "$$C(n)=(n-1)^2 - \\frac{1}{2}(n-2)\\times(n-1)=\\frac{n(n-1)}{2}$$\n",
    "\n",
    "Ainsi,\n",
    "$$C(n)\\sim_{n\\to \\infty} \\frac{n^2}{2}$$\n",
    "\n",
    "La complexité est donc quadratique."
   ]
  },
  {
   "cell_type": "markdown",
   "metadata": {},
   "source": [
    "Exemple 6 : renvoyer une liste d'indices.\n",
    "\n",
    "Soit ``L`` une listes de nombres.\n",
    "\n",
    "Rechercher les indices d'une liste dont les valeurs sont inférieures à une valeur choisir comme seul seuil.\n",
    "\n",
    "La fonction ``getIndexInf(L,t)`` renvoie la liste $\\texttt{iList}$ des indices de ``L`` vérifiant :\n",
    "\n",
    "$$ \\texttt{iList}= \\{k\\, | \\, L[k] < \\texttt{t} \\} \\quad \\textrm{, t = threshold }$$\n",
    "\n",
    "Ex: pour $\\verb|L = [0.2 , 0.5 , 0.3 , 0.8 , 0.1 , 0.9, 0.5, 0.4 ]|$, et le seuil   "
   ]
  },
  {
   "cell_type": "code",
   "execution_count": 138,
   "metadata": {},
   "outputs": [],
   "source": [
    "def getIndexInt(L,t):\n",
    "    iList=[] # on part d'une liste vide\n",
    "    for k in range(len(L)) :\n",
    "        if L[k]<t : \n",
    "            iList.append(k) # méthode .append()\n",
    "    return iList"
   ]
  },
  {
   "cell_type": "code",
   "execution_count": 139,
   "metadata": {},
   "outputs": [
    {
     "data": {
      "text/plain": [
       "[0, 2, 4]"
      ]
     },
     "execution_count": 139,
     "metadata": {},
     "output_type": "execute_result"
    }
   ],
   "source": [
    "L = [0.2 , 0.5 , 0.3 , 0.8 , 0.1 , 0.9, 0.5, 0.4 ]\n",
    "getIndexInt(L,0.4)"
   ]
  },
  {
   "cell_type": "markdown",
   "metadata": {},
   "source": [
    "### Recherche dichotomique dans une liste triée \n",
    "\n",
    "Il s'agit d'un *test d'appartenance* d'un élément à un ensemble.\n",
    "\n",
    "> Soit L une liste supposée triée :\n",
    "\n",
    "> La fonction ``rechercheDico(L,x)`` effectue la recherche de l'élément ``x`` dans la liste ``L`` supposée triée. Elle renvoie True si ``L`` contient x et False sinon.\n",
    "\n",
    "Principe:\n",
    "\n",
    "On utilise un intervalle de recherche défini par les indices $\\texttt{[iA, iB]}$ (indices inclus). A chaque itération, on prend l'indice $\\texttt{iC}$ du milieu  de l'intervalle de recherche et on lit la valeur de l'élément $\\texttt{L[iC]}$ qui correspond :\n",
    "\n",
    "+ soit x est trouvé, on s'arrête en renvoyant True,\n",
    "+ soit x est **supérieure à** la valeur du point milieu. Cela signifie qu'il faut poursuivre la recherche dans la moitié supérieure de la liste triée (c'est-à-dire dans l'intervalle $\\texttt{[iC+1, iB]}$), car les valeurs plus grandes s'y trouvent. On poursuit donc la recherche en actualisant la borne inférieure par l'instruction $\\texttt{iA = iC + 1}$.\n",
    "+ soit x est **inférieure à** la valeur du point milieu. On poursuit la recherche en actualisant la borne supérieure par l'instruction $\\texttt{iB = iC - 1}$ afin que poursuivre la recherche dans l'intervalle $\\texttt{[iA, iC-1]}$\n",
    "\n",
    "L'algorithme se poursuit donc tant que l'intervalle de recherche est au moins de largeur 1."
   ]
  },
  {
   "cell_type": "code",
   "execution_count": 217,
   "metadata": {},
   "outputs": [],
   "source": [
    "def rechercheDico(L,x) : # L est supposée triée par ordre croissant\n",
    "    iA, iB = 0, len(L)-1 # iA : indice min, iB : indice max.\n",
    "    while iB  >= iA :    # tant que l'intervalle de recherche contient contient au moins un élément\n",
    "        iC = (iA+iB)//2  # indice du point milieu arrondi à la valeur entière\n",
    "        print(iA,iB,iC,L[iC])\n",
    "        # 3 possibilités\n",
    "        if L[iC] == x :  # trouvé !\n",
    "            return True  # l'exécution s'arrête ici\n",
    "        if L[iC] < x :   # la valeur L[iC] est petite, il faut poursuivre la recherche \"à droite\"\n",
    "            iA = iC + 1  # on augmente donc la borne inf de l'intervalle de recherche\n",
    "        else :\n",
    "            iB = iC - 1  # dans l'autre cas, il faut poursuivre la recherche \"à gauche\"\n",
    "    return False"
   ]
  },
  {
   "cell_type": "code",
   "execution_count": 239,
   "metadata": {},
   "outputs": [
    {
     "name": "stdout",
     "output_type": "stream",
     "text": [
      "0 13 6 34\n",
      "0 6 3 10\n",
      "0 3 1 5\n"
     ]
    },
    {
     "data": {
      "text/plain": [
       "True"
      ]
     },
     "execution_count": 239,
     "metadata": {},
     "output_type": "execute_result"
    }
   ],
   "source": [
    "L = [2, 5, 6, 10 ,11, 25, 100, 120, 123, 340, 430,440]\n",
    "rechercheDico(L,5)"
   ]
  },
  {
   "cell_type": "markdown",
   "metadata": {},
   "source": [
    "### Un exemple pour bien terminer\n",
    "Le script suivant se termine-t-il?"
   ]
  },
  {
   "cell_type": "code",
   "execution_count": null,
   "metadata": {},
   "outputs": [],
   "source": [
    "i=0. # i est de type float, ce n'est n'est pas l'entier nul\n",
    "while i !=1. :\n",
    "    i+=0.1"
   ]
  },
  {
   "cell_type": "markdown",
   "metadata": {},
   "source": [
    "> A cause de la représentation approchée des flottants, **le test d'égalité** est indécidable. Cette boucle qui devrait s'arrêter ne s'arrête jamais.\n",
    "\n",
    "> Avec les nombres réels, les algorithmes **ne doivent comporter aucun test d'égalité.** car ces nombres ne sont pas codés de manière exacte."
   ]
  },
  {
   "cell_type": "markdown",
   "metadata": {},
   "source": [
    "\n",
    "# Fichiers\n",
    "\n",
    "Un fichier *texte* est un fichier dans lequel les données sont écrites de manière lisible par un humain. Un tel fichier peut être ouvert avec un éditeur de texte brut (ex: notepad).\n",
    "\n",
    "Il est généralement constitué :\n",
    "\n",
    "+ de lignes de texte, délimité un caractère de fin de ligne (``'\\n'`` par exemple);\n",
    "+ chaque ligne est un ensemble de caractères (chiffres, lettres, symboles) sont codés selon un code standard (ASCII ou ASCII étendu).\n",
    "+ les lignes peuvent être des suites de chiffres séparées par des espaces et codant une suite de nombres :\n",
    "\n",
    "``1.2354E-03 1.8578E-03 2.4352E-03 `` \n",
    "\n",
    "En pratique, cette suite de caractères doit être décodée pour être convertie en valeurs numériques (``float`` ou ``int`` par exemple) et manipulées en tant que variables.\n",
    "\n",
    "En pratique nous avons besoin de savoir :\n",
    "+  lire les données dans un fichier texte\n",
    "+  écrire les données dans un fichier texte\n",
    "\n"
   ]
  },
  {
   "cell_type": "markdown",
   "metadata": {},
   "source": [
    "## Lecture dans un fichier texte\n",
    "\n",
    "Principe :\n",
    "\n",
    "+ ouverture du fichier ``f=open(nomFichier,mode)`` (mode = 'r' 'readOnly', 'w' = 'readWrite', 'a' = 'append')\n",
    "+ lecture des lignes les unes après les autres : **f est iterable**,  ``for line in f:``\n",
    "+ fermeture du fichier : méthode ``.close()``."
   ]
  },
  {
   "cell_type": "code",
   "execution_count": 143,
   "metadata": {},
   "outputs": [
    {
     "ename": "FileNotFoundError",
     "evalue": "[Errno 2] No such file or directory: 'fichierExistant.txt'",
     "output_type": "error",
     "traceback": [
      "\u001b[1;31m---------------------------------------------------------------------------\u001b[0m",
      "\u001b[1;31mFileNotFoundError\u001b[0m                         Traceback (most recent call last)",
      "\u001b[1;32m<ipython-input-143-124fd9858cb4>\u001b[0m in \u001b[0;36m<module>\u001b[1;34m\u001b[0m\n\u001b[0;32m      1\u001b[0m \u001b[0mnf\u001b[0m\u001b[1;33m=\u001b[0m\u001b[1;34m'fichierExistant.txt'\u001b[0m\u001b[1;33m\u001b[0m\u001b[1;33m\u001b[0m\u001b[0m\n\u001b[1;32m----> 2\u001b[1;33m \u001b[0mf\u001b[0m\u001b[1;33m=\u001b[0m\u001b[0mopen\u001b[0m\u001b[1;33m(\u001b[0m\u001b[0mnf\u001b[0m\u001b[1;33m,\u001b[0m\u001b[1;34m'r'\u001b[0m\u001b[1;33m)\u001b[0m  \u001b[1;31m# 'r' = ouverture en lecture seule\u001b[0m\u001b[1;33m\u001b[0m\u001b[1;33m\u001b[0m\u001b[0m\n\u001b[0m\u001b[0;32m      3\u001b[0m \u001b[1;32mfor\u001b[0m \u001b[0mline\u001b[0m \u001b[1;32min\u001b[0m \u001b[0mf\u001b[0m\u001b[1;33m:\u001b[0m\u001b[1;33m\u001b[0m\u001b[1;33m\u001b[0m\u001b[0m\n\u001b[0;32m      4\u001b[0m     \u001b[0mprint\u001b[0m\u001b[1;33m(\u001b[0m\u001b[0mline\u001b[0m\u001b[1;33m)\u001b[0m \u001b[1;31m# line est de type str (class string)\u001b[0m\u001b[1;33m\u001b[0m\u001b[1;33m\u001b[0m\u001b[0m\n\u001b[0;32m      5\u001b[0m \u001b[0mf\u001b[0m\u001b[1;33m.\u001b[0m\u001b[0mclose\u001b[0m\u001b[1;33m(\u001b[0m\u001b[1;33m)\u001b[0m       \u001b[1;31m# à ne pas oublier !\u001b[0m\u001b[1;33m\u001b[0m\u001b[1;33m\u001b[0m\u001b[0m\n",
      "\u001b[1;31mFileNotFoundError\u001b[0m: [Errno 2] No such file or directory: 'fichierExistant.txt'"
     ]
    }
   ],
   "source": [
    "nf='fichierExistant.txt'\n",
    "f=open(nf,'r')  # 'r' = ouverture en lecture seule\n",
    "for line in f:\n",
    "    print(line) # line est de type str (class string)\n",
    "f.close()       # à ne pas oublier !"
   ]
  },
  {
   "cell_type": "markdown",
   "metadata": {},
   "source": [
    "## Ecriture dans un fichier texte\n",
    "\n",
    "Principe :\n",
    "\n",
    "+ ouverture du fichier ``f=open(nomFichier,'w')`` ('a' = 'append' = ajouter à la suite)\n",
    "+ écriture des lignes l'un après l'autre : f.write(line2Write) # line2Write est de type ``str``\n",
    "+ fermeture du fichier : méthode ``.close()``.\n",
    "\n",
    "Note : la méthode ``.write(s)`` n'admet pour argument que des données de type ``string``. Il est donc nécessaire de faire \"soi-même\" le travail de formatage des données, en ajoutant les caractères de séparation (``' '``, ``'\\n'``, ``'\\t'``, selon les cas).\n",
    "\n",
    "Pour cela une technique possible est d'initialiser une chaîne vide puis à y concaténer les différentes chaînes à ajouter."
   ]
  },
  {
   "cell_type": "markdown",
   "metadata": {},
   "source": [
    "Remarque : par défaut la conversion d'un ``float`` en ``str`` se fait avec la précision maximale"
   ]
  },
  {
   "cell_type": "code",
   "execution_count": null,
   "metadata": {},
   "outputs": [],
   "source": [
    "x=np.pi*1e-12\n",
    "str(x) # str convertit un nombre (int, float, bool) en string"
   ]
  },
  {
   "cell_type": "markdown",
   "metadata": {},
   "source": [
    "On peut limiter la précision des nombres pour limiter la taille des fichiers sur le disques en supprimant les chiffres non significatifs."
   ]
  },
  {
   "cell_type": "code",
   "execution_count": 144,
   "metadata": {},
   "outputs": [
    {
     "name": "stdout",
     "output_type": "stream",
     "text": [
      "2.23607e+00\n"
     ]
    }
   ],
   "source": [
    "print(f'{x:.5e}') # pour se limiter à 5 chiffres après la virgule"
   ]
  },
  {
   "cell_type": "markdown",
   "metadata": {},
   "source": [
    "Exemple : \n",
    "\n",
    "Ecriture des éléments d'un matrice Numpy n x m dans un fichier sous un format de type tableau. Les colonnes sont séparées par le caractère espace ``' '``, les lignes étant séparées par le caractère saut de ligne ``'\\n'``."
   ]
  },
  {
   "cell_type": "code",
   "execution_count": 7,
   "metadata": {},
   "outputs": [
    {
     "name": "stdout",
     "output_type": "stream",
     "text": [
      "0 9.80708e-01 7.36359e-01 6.26657e-01 4.47407e-01\n",
      "\n",
      "1 8.26815e-02 1.86396e-01 9.97144e-01 7.22546e-01\n",
      "\n",
      "2 4.70784e-01 5.32645e-01 2.95174e-01 9.93684e-01\n",
      "\n",
      "3 5.86258e-01 7.55634e-01 2.73882e-01 2.84320e-02\n",
      "\n",
      "4 6.98171e-01 6.41796e-01 3.74479e-01 9.74810e-01\n",
      "\n"
     ]
    }
   ],
   "source": [
    "import numpy as np\n",
    "A = np.random.rand(5,4) # matrice de 5 lignes et 4 colonnes\n",
    "nf = 'fichierA.txt'\n",
    "fA = open(nf,'w') # ouverture du fichier en écriture\n",
    "n, m = A.shape#\n",
    "for i in range(n) : # boucle sur les lignes\n",
    "    Line = ''   # création de la ligne par la méthode .append() \n",
    "    for j in range(m-1) : # on traite le dernier caractère à part\n",
    "        Line += f'{A[i,j]:.5e}'+' '\n",
    "    Line += f'{A[i,m-1]:.5e}' + '\\n' # dernier caractère à part\n",
    "    print(i,Line)\n",
    "    fA.write(Line)\n",
    "fA.close()"
   ]
  },
  {
   "cell_type": "markdown",
   "metadata": {},
   "source": [
    "Voici ce que l'on obtient en ouvrant le fichier **fichierA.txt** avec Bloc-notes :\n",
    "\n",
    "![blocNoteA](img/blocNoteFichierA.png)"
   ]
  },
  {
   "cell_type": "markdown",
   "metadata": {},
   "source": [
    "## Fonctions utiles pour la manipulation de fichiers texte\n",
    "\n",
    "Lorsque l'on manipule des fichiers texte, il faut bien distinguer :\n",
    "+ les éléments qui sont des caractères, ou des chaînes de caractères\n",
    "+ les données qui sont représentées par ces caractères (généralement des nombres entiers, ou flottants).\n",
    "\n",
    "Voici quelques fonctions (méthodes) il faut penser à utiliser lorsque l'on lit ou écrit sur des fichiers texte.\n",
    "\n",
    "| Méthode | Syntaxe | Rôle|\n",
    "|:-|:-|:-|\n",
    "| + | s1+s2  ou s1+=s2 | concatène deux objets de classe str |\n",
    "| .split() | s.split(sep) | découpe la chaîne s selon le caractère *sep* et renvoie une liste de sous-chaînes |\n",
    "| str() | str(2.32)='2.32' | convertit le nombre X (float ou int) en chaîne de caractères|\n",
    "| f'{X:.4e}' | ex : 3.1416E-02 | convertit le nombre en chaîne avec un nombre de chiffres après la virgule (4 ici) |\n",
    "| int(s) | ex : int('-34')=-34 | convertit la chaîne s en nombre entier |\n",
    "| float(s) | float('-34')=-34. | convertit la chaîne s en flottant |\n"
   ]
  },
  {
   "cell_type": "markdown",
   "metadata": {},
   "source": [
    "# Fichiers image avec matplotlib.mpimg\n",
    "\n"
   ]
  },
  {
   "cell_type": "code",
   "execution_count": 146,
   "metadata": {},
   "outputs": [],
   "source": [
    "import numpy as np # pour les ndarray\n",
    "import matplotlib.image as mpimg # pour ouvrir et sauver les fichiers images\n",
    "import matplotlib.pyplot as plt  # pour afficher les images"
   ]
  },
  {
   "cell_type": "markdown",
   "metadata": {},
   "source": [
    "La librairie Numpy permet de manipuler les images comme des tableaux (ndarray) dont les cases représentent des couleurs. Il peut s'agit :\n",
    "\n",
    "+ de tableau 2D ex: $\\verb|tab[i,j]|$ où $i=0..n-1$, et $j=0..m-1$. Dans ce cas l'image est en nuance de gris (0 = noir, le blanc valant soit 255 (unit8) soit 1. (float)). \n",
    "\n",
    "+ de tableau 3D ex $\\verb|tab[i,j,k]|$ où $i$ est l'indice de ligne, $j$ est l'indice de colonne et $k$ est l'indice de **canal**. Une image comportement généralement 4 canaux : Red, Green, Blue, Alpha. (Le quatrième canal est l'opacité : s'il vaut zéro, le pixel est transparent).\n",
    "\n",
    "**Attention**, avec cette bibliothèque les images sont vues comme des matrices :\n",
    "\n",
    "+  le premier indice est celui des lignes, il **représente donc l'axe des y**,\n",
    "+  le second indice est celui des lignes, il **représente donc l'axe des x**.\n",
    "\n",
    "``tab[iLigne,jColonne]=image[iY,iX]``\n",
    "\n",
    "\n"
   ]
  },
  {
   "cell_type": "markdown",
   "metadata": {},
   "source": [
    "Voici les cinq méthodes les plus utiles :\n",
    "\n",
    "+ mpimg.imread(nf) : ouvre le fichier image *nf* et le convertit en ``ndarray``\n",
    "+ mpimg.imsave(nf,tab) : enregistre le tableau *tab* ( de type ndarray) en tant qu'image dans le fichier de nom *nf* (rq nf est un string : 'image.png').\n",
    "+ plt.imshow(tab) : affichage le ndarray en tant qu'image\n",
    "\n",
    "+ plt.axis('off') : supprime l'affiche des axes (abscisses et ordonnées) d'une figure matplotlib\n",
    "\n",
    "+ plt.set_cmap('gray') : utilise la palette des nuances de gris pour les images à un seul canal.\n",
    "\n"
   ]
  },
  {
   "cell_type": "markdown",
   "metadata": {},
   "source": [
    "Exemple 1. chargement d'un image depuis le disque"
   ]
  },
  {
   "cell_type": "code",
   "execution_count": 147,
   "metadata": {},
   "outputs": [
    {
     "data": {
      "text/plain": [
       "(256, 321, 4)"
      ]
     },
     "execution_count": 147,
     "metadata": {},
     "output_type": "execute_result"
    },
    {
     "data": {
      "image/png": "[encoded data removed]",
      "text/plain": [
       "<Figure size 288x216 with 1 Axes>"
      ]
     },
     "metadata": {
      "needs_background": "light"
     },
     "output_type": "display_data"
    }
   ],
   "source": [
    "fileName='img/laChambre.png'# nom du fichier\n",
    "im1=mpimg.imread(fileName)  # imread : convertit le fichier image en ndarray\n",
    "plt.imshow(im1)             # affiche d'un ndarray en tant qu'image\n",
    "plt.axis('off')             # retirer les axes et leur graduations\n",
    "im1.shape     # image à 4 canaux      "
   ]
  },
  {
   "cell_type": "code",
   "execution_count": 148,
   "metadata": {},
   "outputs": [
    {
     "data": {
      "text/plain": [
       "(256, 321)"
      ]
     },
     "execution_count": 148,
     "metadata": {},
     "output_type": "execute_result"
    },
    {
     "data": {
      "image/png": "[encoded data removed]",
      "text/plain": [
       "<Figure size 288x216 with 1 Axes>"
      ]
     },
     "metadata": {
      "needs_background": "light"
     },
     "output_type": "display_data"
    }
   ],
   "source": [
    "# Extraction d'un canal de couleur\n",
    "im2=im1[:,:,0]       # sélection de la composante k=0, i.e. Rouge \n",
    "plt.imshow(im2)\n",
    "plt.set_cmap('gray') # palette de couleur : gray =  nuance de gris\n",
    "im2.shape            # image = tableau 2D"
   ]
  },
  {
   "cell_type": "markdown",
   "metadata": {},
   "source": [
    "Remarque : cette image est vue comme un tableau de **256** lignes et **321** colonnes."
   ]
  },
  {
   "cell_type": "code",
   "execution_count": 149,
   "metadata": {},
   "outputs": [
    {
     "name": "stdout",
     "output_type": "stream",
     "text": [
      "float32\n",
      "0.0 0.8509804\n"
     ]
    }
   ],
   "source": [
    "print(im2.dtype) # .dtype renvoie le format de codage de la nuance de couleur\n",
    "print(np.min(im2),np.max(im2)) # les valeurs de l'image sont comprise"
   ]
  },
  {
   "cell_type": "markdown",
   "metadata": {},
   "source": [
    "Les pixels de cette image sont codés par des nombres flottants (float32) compris entre 0. (noir) et 1. (blanc)"
   ]
  },
  {
   "cell_type": "markdown",
   "metadata": {},
   "source": [
    "Exemple 2.\n",
    "\n",
    "Calcul de la luminance d'une image selon la relation :\n",
    "\n",
    "$$L = (C_{max} + C_{min})/2 \\quad \\textrm{où} \\quad C_{max}=\\max(r,g,b) \\, \\textrm{et} \\,\n",
    "C_{min}=\\min(r,g,b)$$"
   ]
  },
  {
   "cell_type": "code",
   "execution_count": 150,
   "metadata": {},
   "outputs": [],
   "source": [
    "def getLuminance(imageIn) : # convertit RGB --> 1 seul canal\n",
    "    n,m,k = imageIn.shape # l'image doit être un tableau 3D de type ndarray !\n",
    "    imageOut = np.zeros([n,m]) # création d'une image résultat (n x m)\n",
    "    for i in range(n): # lignes\n",
    "        for j in range(m):\n",
    "            r = imageIn[i,j,0] # canal R du pixel (i,j)\n",
    "            g = imageIn[i,j,1] # canal R du pixel (i,j)\n",
    "            b = imageIn[i,j,2] # canal R du pixel (i,j)\n",
    "            cmin = np.min([r,g,b]) # np.min() => renvoie la valeur min\n",
    "            cmax = np.max([r,g,b]) # np.max() => renvoie la valeur max\n",
    "            imageOut[i,j]=(cmin+cmax)/2\n",
    "    return imageOut"
   ]
  },
  {
   "cell_type": "code",
   "execution_count": 151,
   "metadata": {},
   "outputs": [
    {
     "data": {
      "text/plain": [
       "(256, 321, 4)"
      ]
     },
     "execution_count": 151,
     "metadata": {},
     "output_type": "execute_result"
    }
   ],
   "source": [
    "im1.shape # les 4 canaux de l'image sont R, G, B, Alpha"
   ]
  },
  {
   "cell_type": "code",
   "execution_count": 152,
   "metadata": {
    "scrolled": true
   },
   "outputs": [
    {
     "data": {
      "text/plain": [
       "<matplotlib.image.AxesImage at 0x1fb300baf08>"
      ]
     },
     "execution_count": 152,
     "metadata": {},
     "output_type": "execute_result"
    },
    {
     "data": {
      "image/png": "[encoded data removed]",
      "text/plain": [
       "<Figure size 288x216 with 1 Axes>"
      ]
     },
     "metadata": {
      "needs_background": "light"
     },
     "output_type": "display_data"
    }
   ],
   "source": [
    "im3 = getLuminance(im1) # \n",
    "plt.imshow(im3) # affiche l'image en nuance de gris"
   ]
  },
  {
   "cell_type": "markdown",
   "metadata": {},
   "source": [
    "Exemple 3.\n",
    "\n",
    "Modification d'une image.\n",
    "\n",
    "La fonction ``drawDisk(img,P0,ray,coul)`` dessine d'un disque de centre *P0(y,x)* et de rayon *ray* et de couleur *coul* sur l'image img."
   ]
  },
  {
   "cell_type": "code",
   "execution_count": 153,
   "metadata": {},
   "outputs": [],
   "source": [
    "def drawDisk(img,P0=[100,200],ray=50,coul=0.1): # tracé d'un disque\n",
    "    n,m=img.shape # tableau 2D\n",
    "    X0,Y0=P0 # coordonnées du centre\n",
    "    for i in range(n):\n",
    "        for j in range(m):\n",
    "            dist2=(i-X0)**2+(j-Y0)**2 # carré de la distance\n",
    "            if dist2<ray**2: # le point M(i,j) est intérieur au disque\n",
    "                img[i,j]=coul # on affecte sa couleur    "
   ]
  },
  {
   "cell_type": "markdown",
   "metadata": {},
   "source": [
    "Ajout d'un disque sur l'image im2"
   ]
  },
  {
   "cell_type": "code",
   "execution_count": 154,
   "metadata": {},
   "outputs": [
    {
     "data": {
      "image/png": "[encoded data removed]",
      "text/plain": [
       "<Figure size 288x216 with 1 Axes>"
      ]
     },
     "metadata": {
      "needs_background": "light"
     },
     "output_type": "display_data"
    }
   ],
   "source": [
    "drawDisk(im2,P0=[125,150],coul=0.75) # gris clair au centre de l'image\n",
    "plt.imshow(im2)\n",
    "plt.show()"
   ]
  },
  {
   "cell_type": "markdown",
   "metadata": {
    "slideshow": {
     "slide_type": "slide"
    }
   },
   "source": [
    "# Numpy au service de l'ingénierie numérique\n",
    "\n",
    "Dans cette partie on donne illustre l'utilisation de la bibliothèque Numpy pour répondre à des problèmes très courants de l'ingénierie ou la recherche en général. Pour mettre en oeuvre de ces **méthodes numériques**, nous avons besoin d'importer la bibliothèque Numpy et Matplotlib.pyplot"
   ]
  },
  {
   "cell_type": "code",
   "execution_count": 155,
   "metadata": {},
   "outputs": [],
   "source": [
    "import numpy as np\n",
    "import matplotlib.pyplot as plt"
   ]
  },
  {
   "cell_type": "markdown",
   "metadata": {},
   "source": [
    "## Recherche des zéros d'une fonction\n",
    "\n",
    "**Problématique :**\n",
    "\n",
    "Soit $f$ une fonction numérique ($\\mathbb{R} \\to \\mathbb{R}$) **continue** et **strictement monotone** sur l'intervalle $I=[ a \\quad b ]$ et telle que $f(a)$ et $f(b)$ soient non nuls et de signes opposés, c'est-à-dire tels que :\n",
    "\n",
    "$$f(a)\\times f(b) <0$$\n",
    "\n",
    "alors l'équation\n",
    "$$f(x)=0 $$ admet une unique solution sur l'intervalle $I=[ a, b ]$.\n",
    "\n",
    "> La valeur de $x$ est appelée *le zéro de f* sur $[ a \\quad b ]$.\n",
    "\n",
    "**Résolution approchée :**\n",
    "\n",
    "> Nous allons décrire 3 algorithmes itératifs permettant d'obtenir, de la solution $x$, un encadrement *aussi précis que l'on veut*, c'est-à-dire une valeur approchée de la solution.\n",
    "\n",
    "> Chaque algorithme construit ainsi une suite finie de réels $x_0$, $x_1$, $x_2$, ..., $x_k$ qui tend vers $x$.\n",
    "\n",
    "> En pratique, la **précision du zéro** est limitée par la représentation des réels en tant qu'objet ``float`` et les arrondis lors des calculs successifs. Généralement, l'erreur relative sur la valeur du zéro est ainsi, au mieux, de l'ordre de $10^{-15}$ à $10^{-16}$.\n",
    "\n",
    "\n",
    "\n",
    "\n",
    "**Ne pas confondre :**\n",
    "\n",
    "+ la valeur approchée du zéro, c'est-à-dire sa valeur $x_k$ lors la k-ième itération avec k \"grand\",\n",
    "+ avec la valeur $f(x_k)$ que prend la fonction en ce point (que l'on souhaiterait nulle, mais qui ne l'est pas rigoureusement).\n",
    "\n",
    "Selon les cas, la précision de la méthode sera quantifiée par\n",
    "+ ou bien la distance entre $x_k$ et $x$, on s'impose dans ce cas que $|x_k-x|<\\varepsilon_x$\n",
    "+ ou bien par la valeur que prend la fonction $f$ au point $x_k$, on s'impose dans ce cas que $|f(x_k)|<\\epsilon_f$.\n",
    "\n",
    "> Le premier critère, en $\\varepsilon_x$, est défini dans l'espace des $x$, c'est-à-dire l'*espace de départ*.\n",
    "\n",
    "> Le second critère, en $\\varepsilon_f$, est défini dans l'espace des $f(x)$, c'est-à-dire l'*espace des images*.\n",
    "\n",
    "> Exemple physique : $x$ peut être une position (en mètres), $f(x)$ un effort mécanique (en Newton).\n",
    "\n",
    "\n",
    "### Dichotomie\n",
    "\n",
    "Principe : \n",
    "\n",
    "+ On découpe successivement l'intervalle $[a \\quad b ]$ de recherche en deux. \n",
    "+ On regarde le signe de $f$ au point milieu puis on poursuit la recherche :\n",
    "  + ou bien dans $[a \\quad m]$  \n",
    "  + ou bien dans $[m \\quad b]$.\n",
    "+ On s'arrête lorsque la largeur de l'intervalle de recherche est inférieure à une précision $\\epsilon_x$ donnée."
   ]
  },
  {
   "cell_type": "code",
   "execution_count": 156,
   "metadata": {},
   "outputs": [],
   "source": [
    "def getZeroDicho(f,a,b,epsilonx=1e-8):\n",
    "    while abs(b-a) > epsilonx :\n",
    "        m=(a+b)/2                # point milieu\n",
    "        if f(m)*f(a) < 0 : # f(m) et f(a) sont-ils de signes opposés?\n",
    "            b=m  # dans ce cas, on poursuit dans l'intervalle [a m]\n",
    "        else:\n",
    "            a=m  # dans ce cas, on poursuit la recherche dans [m b]\n",
    "    return (a+b)/2  # ne pas oublier de retourner le résultat "
   ]
  },
  {
   "cell_type": "markdown",
   "metadata": {},
   "source": [
    "Exemple, avec la fonction $f_1 : x \\to f_1(x)=x^3/6-x+1/2$ dont on cherche le zéro sur $[1 \\quad 3 ]$."
   ]
  },
  {
   "cell_type": "code",
   "execution_count": 157,
   "metadata": {},
   "outputs": [
    {
     "data": {
      "image/png": "[encoded data removed]",
      "text/plain": [
       "<Figure size 288x216 with 1 Axes>"
      ]
     },
     "metadata": {
      "needs_background": "light"
     },
     "output_type": "display_data"
    },
    {
     "name": "stdout",
     "output_type": "stream",
     "text": [
      "Le zéro de la fonction est :  2.1451026909053326  à 1e-8 près\n"
     ]
    }
   ],
   "source": [
    "def f1(x):\n",
    "    return x**3/6-x+1/2 # définition de la fonction\n",
    "xi=np.linspace(1,3,1000) # pour tracer la fonction\n",
    "plt.plot(xi,f1(xi),'-k')\n",
    "x0=getZeroDicho(f1,1,3)   # appel de la fonction de recherche dichotomique \n",
    "plt.plot(x0,f1(x0),'or')    # 'o' = cercle, 'r' = rouge\n",
    "plt.plot([1,3],[0,0],'--r') #\n",
    "yl0=plt.ylim() # récupère les limites [ymin, ymax] de l'axe y\n",
    "plt.plot([x0,x0],yl0,'--r') #\n",
    "plt.show()\n",
    "print('Le zéro de la fonction est : ',x0, ' à 1e-8 près')"
   ]
  },
  {
   "cell_type": "markdown",
   "metadata": {},
   "source": [
    "**Remarque :**\n",
    "\n",
    "> A chaque itération, on divise par deux la largeur de l'intervalle de recherche.\n",
    "\n",
    "> Le nombre $n$ d'itérations pour obtenir un encadrement de $x_0$ à $\\varepsilon_x$ près en partant d'un intervalle de largeur initiale $(b-a)$ est donc de l'ordre de:\n",
    "$$\\frac{b-a}{2^n} \\sim \\varepsilon_x$$\n",
    "Soit $$n\\sim \\log_2\\left(\\frac{b-a}{\\varepsilon_x}\\right)$$\n",
    "\n",
    "> Dans notre exemple, $b-a = 3-1=2$ et $\\varepsilon_x = 10^{-8}$, donc $n \\sim \\log_2(2/10^{-8})=\\ln(2/10^{-8})/\\ln(2)\\approx 27,57$\n",
    "\n",
    "La méthode converge donc en 28 itérations environ."
   ]
  },
  {
   "cell_type": "markdown",
   "metadata": {},
   "source": [
    "### Méthode de la sécante\n",
    "\n",
    "![methodeSecante](img/Methode_de_la_secante.png)\n",
    "\n",
    "Principe :\n",
    "\n",
    "+ A partir d'un intervalle de recherche $[a \\quad b ]$, on détermine le *zéro* de $f$ sur cet intervalle en supposant que la fonction y est linéaire. \n",
    "+ Ce zéro est noté $c$, c'est l'abscisse de intersection du segment bleu avec l'axe des abscisses sur la figure précédente. \n",
    "+ La méthode se poursuit itérativement sur l'intervalle $[c \\quad b]$.\n",
    "\n",
    "\n"
   ]
  },
  {
   "cell_type": "markdown",
   "metadata": {},
   "source": [
    "### Méthode de Newton\n",
    "\n",
    "**Remarque :** la méthode de Newton permet la recherche du zéro d'une fonction $f : x\\to f(x)$ mais **suppose que l'on ait accès aux valeurs numériques de sa dérivée** : $$\\frac{\\mathrm{d} f}{\\mathrm{d} x} \\quad \\textrm{doit être connue numériquement}$$\n",
    "\n",
    "![methodeNewton](img/Newton_iteration.png)"
   ]
  },
  {
   "cell_type": "markdown",
   "metadata": {},
   "source": [
    "Principe : \n",
    "\n",
    "Soit $x_n$ une valeur approchée du zéro de $f$ à l'itération $n$:\n",
    "\n",
    "+ on approxime la fonction $f$ à une fonction linéaire en utilisant la valeur de $f(x_n)$ et de sa dérivée au point $x_n$, $\\left.\\frac{\\mathrm{d} f}{\\mathrm{d} x}\\right|_{x_n}$\n",
    "+ on calcule ensuite l'abscisse du point d'intersection de l'axe des abscisses avec cette approximation linéaire (c'est-à-dire avec la tangente à la courbe au point $x_n$, en rouge sur la figure précédente).\n",
    "+ le point d'intersection $x_{n+1}$ est la valeur approchée à l'itération $n+1$.\n",
    "\n",
    "On en déduit l'expression de $x_{n+1}$ en fonction de $x_n$ et des prises par $f$ et sa dérivée au point $x_n$:\n",
    "$$x_{n+1}=x_n-\\frac{f(x_n)}{\\frac{\\mathrm{d} f}{\\mathrm{d} x}(x_n)}$$\n",
    "\n",
    "**Condition d'arrêt :**\n",
    "\n",
    "En général, la convergence de la méthode n'est pas garantie. Voici les critères d'arrêt possibles :\n",
    "\n",
    "+ $|x_{n+1}-x_{n}|<\\varepsilon_x$, l'écart entre deux termes successifs est suffisamment faible, c'est la plus commune.\n",
    "+ $|x_{n+1}-x_{n}|/|x_{n+1}|<\\varepsilon_x$, l'écart relatif entre deux termes successifs est suffisamment faible.\n",
    "+ $|f(x_{n+1}|<\\varepsilon_f$, la valeur de $f$ est suffisamment proche de zéro.\n",
    "+ $n>n_{\\textrm{MAX}}$, le nombre d'itérations dépasse une valeur limite (c'est le cas où la méthode ne converge pas)."
   ]
  },
  {
   "cell_type": "code",
   "execution_count": 158,
   "metadata": {},
   "outputs": [],
   "source": [
    "def getZeroNewton(f,df,x0,epsilonx=1e-8,nMax=100): # la fonction f et sa dérivée df sont fournies en argument\n",
    "    n=0 # nombre d'itérations\n",
    "    x1=x0-f(x0)/df(x0)\n",
    "    while (abs(x1-x0)>epsilonx) and (n<nMax) : # ATTENTION à la condition d'arrêt !\n",
    "        x0=x1 # on décale le point n -> n+1\n",
    "        n+=1  # comptage des iterations pour la condition d'arret relative à nMax\n",
    "        x1=x0-f(x0)/df(x0)\n",
    "    return (x1,n) # renvoie la valeur approchée du zéro et le nombre d'itérations"
   ]
  },
  {
   "cell_type": "markdown",
   "metadata": {},
   "source": [
    "Exemple : pour la fonction $f_1 : x \\to f_1(x)=x^3/6-x+1/2$ de dérivée $df_1 : x \\to x^2/3 -1$"
   ]
  },
  {
   "cell_type": "code",
   "execution_count": 159,
   "metadata": {},
   "outputs": [
    {
     "name": "stdout",
     "output_type": "stream",
     "text": [
      "(2.1451026912004223, 5)\n"
     ]
    }
   ],
   "source": [
    "f1 = lambda x:x**3/6-x+0.5 # mot clé \"lambda\" = compact pour définir les fonctions\n",
    "df1 = lambda x:x**2/2-1    # fonction dérivée\n",
    "print(getZeroNewton(f1,df1,3)) # x0=3"
   ]
  },
  {
   "cell_type": "markdown",
   "metadata": {},
   "source": [
    "La méthode converge en seulement 5 itérations (contre 28 pour la méthode de dichotomie).\n",
    "Au niveau des performances, de manière générale : \n",
    "\n",
    "        DICHOTOMIE < SECANTE < NEWTON\n",
    "        \n",
    "Attention, dans certains cas, si le point de départ est mal choisi la méthode ne converge pas."
   ]
  },
  {
   "cell_type": "code",
   "execution_count": 160,
   "metadata": {},
   "outputs": [
    {
     "name": "stdout",
     "output_type": "stream",
     "text": [
      " Pour x0 = 0.5, la méthode converge en  5  itérations\n",
      " Pour x0 = 1. , la méthode converge en  8  itérations\n",
      " Pour x0 = 3., au bout de n =  100  itérations, la méthode renvoie  9.498636739889094e+24\n"
     ]
    },
    {
     "data": {
      "image/png": "[encoded data removed]",
      "text/plain": [
       "<Figure size 288x216 with 1 Axes>"
      ]
     },
     "metadata": {
      "needs_background": "light"
     },
     "output_type": "display_data"
    }
   ],
   "source": [
    "f2  = lambda x:x+np.cos(x)\n",
    "df2 = lambda x:1-np.sin(x)\n",
    "xi  = np.linspace(-5,5,1000)\n",
    "plt.plot(xi,f2(xi),'-k') #\n",
    "plt.grid(True)\n",
    "xA,nA=getZeroNewton(f2,df2,.5,1e-12) # on part de 1\n",
    "plt.plot(xA,f2(xA),'or') # affiche du zero\n",
    "print(' Pour x0 = 0.5, la méthode converge en ', nA,' itérations')\n",
    "xB,nB=getZeroNewton(f2,df2,1.,1e-12) # on part de 1\n",
    "print(' Pour x0 = 1. , la méthode converge en ', nB,' itérations')\n",
    "xC,nC=getZeroNewton(f2,df2,3.,1e-12) # on part de 1\n",
    "print(' Pour x0 = 3., au bout de n = ',nC,' itérations, la méthode renvoie ',xC)"
   ]
  },
  {
   "cell_type": "markdown",
   "metadata": {},
   "source": [
    "**Remarque 1:**\n",
    "\n",
    "> Si la dérivée n'est pas connue, on peut l'estimer numérique par un schéma de différences finies (voir précédemment).\n",
    "\n",
    "**Remarque 2:**\n",
    "\n",
    "> On peut adapter la méthode de Newton au recherche du minimum d'une fonction suffisamment régulière car chercher le minimum d'une fonction $f$ revient à chercher l'annulation de sa dérivée. En effet, \n",
    "\n",
    "> si $x_0$ est un minimum de $f$, alors $g=\\frac{\\mathrm{d} f}{\\mathrm{d} x}$ est nul en $x_0$. Cela revient à appliquer la méthode de Newton à la fonction $g$.\n",
    "\n",
    "**Remarque 3:**\n",
    "\n",
    "> La méthode de Newton possède de nombreuses généralisations dans le cas où $f$ est un champ scalaire en dimension $n$ (*i.e*, une fonction de $\\mathbb{R^n} \\to \\mathbb{R}$), mais leur étude est hors programme."
   ]
  },
  {
   "cell_type": "markdown",
   "metadata": {},
   "source": [
    "## Intégration d'une fonction numérique\n",
    "\n",
    "**Principe :**\n",
    "\n",
    "> Soit $f$ une fonction numérique ($\\mathbb{R^n} \\to \\mathbb{R}$), intégrable sur l'intervalle $[a \\quad b]$ dont on souhaite calculer l'intégrale $\\textrm{I(f,[a,b])}=\\int_{x=a}^{x=b}\\, f(x) \\,\\mathrm{d}x$.\n",
    "\n",
    "> On réalise une subdivision équirépartie de l'intervalle en $n+1$ points équidistants :\n",
    "$$\\forall k \\in [\\![0 , n ]\\!], \\quad x_k=a+k\\frac{(b-a)}{n}$$\n",
    "\n",
    "Avec cette subdivision, il y a $n+1$ points et $n$ intervalles $[\\![x_k , x_{k+1} ]\\!]$, $k=0,1,\\ldots,n-1$. (piquets $\\ne$ intervalles!).\n",
    "\n",
    "> La quantité $h=\\frac{(b-a)}{n}$ est appelée le **pas d'intégration**.\n",
    "\n",
    "L'idée est d'approximer le calcul d'intégrale par une somme finie de $n$ termes.\n",
    "\n",
    "**Méthodes :**\n",
    "\n",
    "Voici les trois principales méthodes à connaître.\n",
    "\n",
    "Méthode des rectangles à gauche :\n",
    "$$R_g(n) = \\frac{b-a}{n} \\sum_{k=0}^{n-1} f(x_k)$$\n",
    "Méthode des rectangles à droite :\n",
    "$$R_d(n) = \\frac{b-a}{n} \\sum_{k=1}^{n} f(x_k)$$\n",
    "Méthode des trapèzes :\n",
    "$$T(n)= \\frac{b-a}{n} \\left (\\sum_{k=1}^{n-1} f(x_k)+\\frac{f(a)+f(b)}{2}\\right)$$\n",
    "\n",
    "**Remarques :**\n",
    "\n",
    "+ Ces trois méthodes possèdent le **même ordre de complexité** ($n$ ou $n+1$ sommes).\n",
    "\n",
    "+ Lorsque le pas d'espace est divisée par dix, c'est-à-dire lorsque le raffinement est 10 fois plus fin (et donc le temps d'exécution 10 fois plus grand), l'erreur commise est \n",
    "\n",
    " + 10 fois plus faible pour la méthode des rectangles,\n",
    " \n",
    "  + 100 fois plus faible pour la méthode des trapèzes.\n",
    " \n",
    "+ La méthode des trapèzes est donc plus performante (on dit qu'elle est d'**ordre 2**)."
   ]
  },
  {
   "cell_type": "code",
   "execution_count": 161,
   "metadata": {},
   "outputs": [],
   "source": [
    "def intTrapeze(f,a=0,b=1,n=100): # renvoie l'intégrale de f sur [a,b] au sens des trapèzes\n",
    "    h  =(b-a)/n # pas d'espace\n",
    "    res=0       # somme initialisée à zéro\n",
    "    for k in range(1,n) : # k varie de 1 à n-1 inclus\n",
    "        xk = a+k*h # abscisse du k-ième point\n",
    "        res += f(xk) # ajout d'un terme de la somme\n",
    "    res += (f(a)+f(b))/2 # premier et dernier terme comptent pour 1/2\n",
    "    return res*h   # on multiplie la somme par le pas d'espace"
   ]
  },
  {
   "cell_type": "markdown",
   "metadata": {},
   "source": [
    "Exemple du calcul de l'intégrale\n",
    "$$\\int_0^1 \\, \\frac{4}{1+x^2} \\, \\textrm{d} x = 4\\left[\\arctan(x)\\right]_{x=0}^{x=1} = \\pi$$"
   ]
  },
  {
   "cell_type": "code",
   "execution_count": 162,
   "metadata": {},
   "outputs": [
    {
     "name": "stdout",
     "output_type": "stream",
     "text": [
      "3.141575986923129\n",
      "3.141592486923124\n",
      "3.141592653589793\n"
     ]
    }
   ],
   "source": [
    "g = lambda x:4/(1+x**2) # fonction à intégrer\n",
    "I1=intTrapeze(g,a=0,b=1,n=100) # 101 points intermédiaires\n",
    "I2=intTrapeze(g,a=0,b=1,n=1000) # 10001 points intermédiaires\n",
    "print(I1)    # 4 premiers chiffres après la virgule sont OK\n",
    "print(I2)    # 6 premiers chiffres après la virgule sont OK\n",
    "print(np.pi)"
   ]
  },
  {
   "cell_type": "markdown",
   "metadata": {},
   "source": [
    "On vérifie bien qu'avec $10$ fois plus de points, la méthodes des trapèzes est $10^2=100$ fois plus précise. C'est une méthode **d'ordre 2**."
   ]
  },
  {
   "cell_type": "markdown",
   "metadata": {},
   "source": [
    "Remarque : voici une version beaucoup plus performante qui utilise la possibilité de calcul vectoriel permise par Numpy : ``np.sum()`` somme de tous les termes d'un tableau ``nbarray``. La complexité algorithmique est la même mais le fait d'éviter l'usage d'une boucle ``for`` rend l'exécution beaucoup efficace en Python."
   ]
  },
  {
   "cell_type": "code",
   "execution_count": 163,
   "metadata": {},
   "outputs": [],
   "source": [
    "def intTrapezeNumpy(f,a=0,b=1,n=100): # renvoie l'intégrale de f sur [a,b] au sens des trapèzes\n",
    "    xi=np.linspace(a,b,n+1) # subdivision avec n+1 points, a et b inclus\n",
    "    h=(b-a)/n # largeur d'un intervalle entre les n+1 points\n",
    "    res=np.sum(f(xi))  # on fait la somme sur TOUS les points\n",
    "    res-=(f(a)+f(b))/2 # on retire le premier et le dernier terme\n",
    "    return res*h       #  sans oublier de multiplier par le pas"
   ]
  },
  {
   "cell_type": "code",
   "execution_count": 164,
   "metadata": {},
   "outputs": [
    {
     "data": {
      "text/plain": [
       "3.141592486923127"
      ]
     },
     "execution_count": 164,
     "metadata": {},
     "output_type": "execute_result"
    }
   ],
   "source": [
    "I3=intTrapezeNumpy(g,a=0,b=1,n=1000)\n",
    "I3 # le résultat est identique à celui obtenu précédemment (à 1e-15 près)"
   ]
  },
  {
   "cell_type": "markdown",
   "metadata": {},
   "source": [
    "Comparaison des performances en temps d'exécution :\n",
    "\n",
    "+ pour mesurer le temps écoulé, on utilise la méthode ``.perf_counter()`` de la bibliothèque ``time``\n",
    "+ elle renvoie une date absolue (en secondes)\n",
    "+ la différence entre deux dates successives donne la durée écoulée."
   ]
  },
  {
   "cell_type": "code",
   "execution_count": 165,
   "metadata": {},
   "outputs": [
    {
     "name": "stdout",
     "output_type": "stream",
     "text": [
      "Durée d'éxécution sans Numpy :  1.0793246999996882  secondes\n",
      "Durée d'éxécution avec Numpy :  0.020550600000206032  seconde\n",
      "Rapport des durées :  52.52034977026789\n"
     ]
    }
   ],
   "source": [
    "import time\n",
    "t0 = time.perf_counter() # date initiale\n",
    "for j in range(300):\n",
    "    I=intTrapeze(g,a=0,b=1,n=int(1e4))\n",
    "t1 = time.perf_counter() # date intermédiaire\n",
    "print(\"Durée d'éxécution sans Numpy : \", t1-t0,' secondes')\n",
    "for j in range(300):     \n",
    "    I=intTrapezeNumpy(g,a=0,b=1,n=int(1e4))\n",
    "t2 = time.perf_counter() # date finale\n",
    "print(\"Durée d'éxécution avec Numpy : \", t2-t1,' seconde')\n",
    "print('Rapport des durées : ',(t1-t0)/(t2-t1))"
   ]
  },
  {
   "cell_type": "markdown",
   "metadata": {},
   "source": [
    "Dans cet exemple, l'usage de la syntaxe Numpy rend le calcul environ **50 fois** plus rapide."
   ]
  },
  {
   "cell_type": "markdown",
   "metadata": {},
   "source": [
    "## Algorithme du pivot de gauss\n",
    "\n"
   ]
  },
  {
   "cell_type": "markdown",
   "metadata": {},
   "source": [
    "**Problématique :**\n",
    "\n",
    "Soit $A$ une matrice carrée inversible de $\\mathscr{M}_{n,n}(\\mathbb{R})$, $b$ un vecteur second membre de $\\mathscr{M}_{n,1}(\\mathbb{R})$ (vecteur colonne). \n",
    "\n",
    "On cherche à résoudre le système linéaire \n",
    "\n",
    "$$A x = b$$\n",
    "où l'inconnue est le vecteur $x$ de $\\mathscr{M}_{n,1}(\\mathbb{R})$.\n",
    "\n",
    "**Deux étapes :**\n",
    "\n",
    "> (1) On va d'abord transformer le système $Ax=B$ en un système équivalent \n",
    "$$Tx = b'$$\n",
    "> où la matrice $T$ est une matrice triangulaire supérieure inversible. Cette étape est appelée la réduction de Gauss-Jordan.\n",
    "\n",
    "> (2) On résout ensuite le système $Tx=b'$ en commençant par la dernière ligne puis en remontant par substitutions successives.\n",
    "\n",
    "\n",
    "**Opérations élémentaires sur les lignes :**\n",
    "\n",
    "Voici les trois types d'*opérations élémentaires* sur la matrice $A$ :\n",
    "\n",
    "+ ``L[i,:]*=coef`` : multiplication d'une ligne par un scalaire non nul,\n",
    "\n",
    "+ ``L[i,:]+=coef*L[j,:]`` : ajout du multiple d'une ligne à une autre,\n",
    "\n",
    "+ ``L[i,:],L[j,:] =  L[j,:],L[i,:]`` : échange des lignes $i$ et $j$,\n",
    "\n",
    "> Les **mêmes opérations** doivent être effectuées conjointement sur la matrice $b$ constituant le second membre.\n",
    "\n",
    "**Etape (1) = algorithme du pivot**\n",
    "\n",
    "Voici le principe de l'algorithme, vu en 1ère année, qui conduit permet de se ramener à un système triangulaire supérieur :\n",
    "\n",
    "![pivotGauss](img/pivotMethode3.png)\n"
   ]
  },
  {
   "cell_type": "markdown",
   "metadata": {},
   "source": [
    "+ On procède de manière itérative sur les colonnes de $A$.\n",
    "\n",
    "+ Pour la $j$-ième itération, on cherche dans la $j$-ième colonne le premier terme non nul en dessous de $A_{jj}$ (ou on prend celui de plus grand module).\n",
    "\n",
    "+ C'est lui qui sert de pivot, il se situe sur la ligne $k$.\n",
    "\n",
    "+ On permute la ligne $k$ et la ligne $j$ de manière à ramener le pivot \"en haut\".\n",
    "\n",
    "+ Pour toutes les lignes $k>j$, on annule le terme de la $j$-ième colonne.\n",
    "\n",
    "+ On recommence pour la colonne suivante.\n",
    "\n",
    "Note : bien penser à effectuer sur la matrice $b$ *les mêmes opérations élémentaires* que sur la matrice $A$."
   ]
  },
  {
   "cell_type": "markdown",
   "metadata": {},
   "source": [
    "Voici ci-après, l'implémentation avec des matrices Numpy qui permet l'écriture compact des opérations sur les lignes telles que :\n",
    "\n",
    "> ``A[k,:] += -alpha*A[j,:]``  : (Ligne k) $\\,\\leftarrow\\,$ ( Ligne k )$-\\alpha \\times \\,$ (Ligne j)\n",
    "\n",
    "> En réalité cette opération \"cache\" $n$ multiplications et $n$ additions."
   ]
  },
  {
   "cell_type": "code",
   "execution_count": 166,
   "metadata": {},
   "outputs": [],
   "source": [
    "def pivot(A,b): # on travaille sur les lignes du système donc sur A et b\n",
    "    n , m = A.shape\n",
    "    for j in range(n): # boucle sur les colonnes, leur indice varie de 0 à n-1\n",
    "        # étape 1 : trouver le pivot\n",
    "        k0 = cherchePivot(A,j) # fonction auxiliaire\n",
    "        # étape 2 : échanger la ligne k et la ligne j\n",
    "        A[[k0,j],:]=A[[j,k0],:]\n",
    "        b[k0],b[j] = b[j],b[k0]\n",
    "        Ajj = A[j,j] # pivot qui, à ce moment, est en A[j,j] et non nul\n",
    "        # étape 3 : on modifie toutes les lignes en dessous du pivot : \n",
    "        for k in range(j+1,n): # boucle sur les lignes d'indice j+1, j+2, ..., n-1\n",
    "            alpha = A[k,j]/Ajj # coef. pour éliminer le 1er terme restant \n",
    "            A[k,:] += -alpha*A[j,:]\n",
    "            b[k]   += -alpha*b[j]   # même opération sur b (ne pas oublier)\n",
    "# la fonction modifie les valeurs des matrices (mutables) donc RETURN non nécessaire\n",
    "\n",
    "def cherchePivot(A,k): # renvoie l'indice j de l'élément A[j,k] (pour j>=k)\n",
    "                       # ayant le plus grand module\n",
    "    n,m=A.shape\n",
    "    val,jRes = np.abs(A[k,k]),k # valeur initiale, indice du 1er élément\n",
    "    for j in range(k+1,n) : # boucle sur les éléments de la colonne \n",
    "                            # situés sous la diagonale\n",
    "            if np.abs(A[j,k]) > val : # le module est-il plus grand?\n",
    "                val  = np.abs(A[j,k])\n",
    "                jRes = j    # on actualise l'indice du pivot \n",
    "    return jRes"
   ]
  },
  {
   "cell_type": "code",
   "execution_count": 167,
   "metadata": {
    "scrolled": true
   },
   "outputs": [
    {
     "name": "stdout",
     "output_type": "stream",
     "text": [
      "A AVANT = \n",
      " [[ 6.00  2.00  1.00  0.00  5.00]\n",
      " [ 2.00  1.00  1.00 -2.00  1.00]\n",
      " [ 1.00  1.00  2.00 -2.00  3.00]\n",
      " [ 3.00  0.00  2.00  3.00 -1.00]\n",
      " [-1.00 -1.00 -3.00  4.00  2.00]]\n",
      "A APRES = \n",
      " [[ 6.00  2.00  1.00  0.00  5.00]\n",
      " [ 0.00 -1.00  1.50  3.00 -3.50]\n",
      " [ 0.00  0.00 -3.83  2.00  5.17]\n",
      " [ 0.00  0.00  0.00  1.48  3.65]\n",
      " [ 0.00  0.00  0.00 -0.00  0.71]]\n",
      "b APRES = \n",
      " [ 1.00  3.50  2.83  7.26  5.62]\n"
     ]
    }
   ],
   "source": [
    "A=np.array([[6.,2,1,0,5], [2,1,1,-2,1],[1,1,2,-2,3],\n",
    "            [3,0,2,3,-1],[-1,-1,-3,4, 2]],dtype=float)\n",
    "#A[2,2]=2.2 # rend A inversible\n",
    "b=np.array([1,2,3,4,5.])\n",
    "np.set_printoptions(formatter={'float': '{: 0.2f}'.format}) # affichage\n",
    "print('A AVANT = \\n',A)\n",
    "A0,b0=A.copy(),b.copy() # recopie des valeurs initiales\n",
    "pivot(A,b)\n",
    "print('A APRES = \\n',A) # après réduction\n",
    "print('b APRES = \\n',b) "
   ]
  },
  {
   "cell_type": "markdown",
   "metadata": {},
   "source": [
    "**Etape (2) : méthode de remontée**\n",
    "\n",
    "On part de la dernière ligne qui donne facilement $x_{n}$ :\n",
    "\n",
    "$$x_{n} = \\frac{b_{n}}{a_{n,n}}$$\n",
    "\n",
    "puis on remonte."
   ]
  },
  {
   "cell_type": "markdown",
   "metadata": {},
   "source": [
    "La k-ième ligne du système est :\n",
    "$$\\sum_{j=k}^{n} A_{kj} x_j = b_k$$\n",
    "\n",
    "Or, tous les $x_j$ tels que $j>k$ sont connus, on les fait donc passer dans le second membre :\n",
    "\n",
    "$$ x_k = \\frac{1}{A_{kk}} \\left( b_k - \\sum_{j=k+1}^{n} A_{kj} x_j\\right) , \\quad \\forall k=n-1, n-2, \\ldots, 2,1 $$"
   ]
  },
  {
   "cell_type": "markdown",
   "metadata": {},
   "source": [
    "Voici l'algorithme illustré avec les indices Python. \n",
    "\n",
    "Attention au **décalage d'indices** : en Python, les indices vont de $0$ à $n-1$, alors qu'en mathématiques, les indices vont de $1$ à $n$. \n",
    "\n",
    "![methodeRemontee](img/remonteeMethod2.png)"
   ]
  },
  {
   "cell_type": "code",
   "execution_count": 168,
   "metadata": {},
   "outputs": [],
   "source": [
    "def remonte(A,b) : # résoud A.x = b où A est triangulaire supérieure inversible\n",
    "    n,m = A.shape  # A doit être carrée. dans la suite on suppose que n=m\n",
    "    x = np.zeros(n)# initialisation du vecteur résultat\n",
    "    \n",
    "    # on traite d'abord le dernier élément\n",
    "    x[n-1] = b[n-1] / A[n-1, n-1] # c'est la ligne x_n = b_n / A_nn\n",
    "    \n",
    "    # puis les n-1 autres éléments en remontant de n-2 à 0 :\n",
    "    for k in range(n-2,-1,-1) : # ATTENTION, il faut bien écrire -1 pour arriver en zéro !\n",
    "        # on calcule la somme des termes a_kj . x_j  pour j allant de k+1 à n-1\n",
    "        somme=0\n",
    "        for j in range(k+1,n) : # tous les terms x[j] sont déjà calculés\n",
    "            somme += A[k,j] * x[j]\n",
    "        x[k] = (b[k] - somme) / A[k,k]\n",
    "    return x # ici on renvoie le vecteur x"
   ]
  },
  {
   "cell_type": "markdown",
   "metadata": {},
   "source": [
    "Voici donc l'étape (2) de l'exemple avec la matrice ``A`` et le second membre ``b``."
   ]
  },
  {
   "cell_type": "code",
   "execution_count": 169,
   "metadata": {},
   "outputs": [
    {
     "name": "stdout",
     "output_type": "stream",
     "text": [
      "[ 17.21 -72.17  2.29 -14.75  7.96]\n"
     ]
    }
   ],
   "source": [
    "x=remonte(A,b)\n",
    "print(x)"
   ]
  },
  {
   "cell_type": "markdown",
   "metadata": {},
   "source": [
    "Ci-dessous, la fonction permettant la résolution du système $Ax=b$ avec les deux étapes mises bout à bout."
   ]
  },
  {
   "cell_type": "code",
   "execution_count": 170,
   "metadata": {},
   "outputs": [],
   "source": [
    "def mySolve(A,b): # méthode complète\n",
    "    n,m = A.shape #\n",
    "    p, = b.shape  #  tuple d'un élément ( ou aussi p = len(b) )\n",
    "    if (n==m) and (n==p) :\n",
    "        pivot(A,b)          # étape (1)\n",
    "        return remonte(A,b) # étape (2)\n",
    "    else:\n",
    "        print('Pb de dimensions')"
   ]
  },
  {
   "cell_type": "code",
   "execution_count": 171,
   "metadata": {},
   "outputs": [
    {
     "data": {
      "text/plain": [
       "array([ 17.21, -72.17,  2.29, -14.75,  7.96])"
      ]
     },
     "execution_count": 171,
     "metadata": {},
     "output_type": "execute_result"
    }
   ],
   "source": [
    "mySolve(A0,b0) # résolution complète"
   ]
  },
  {
   "cell_type": "markdown",
   "metadata": {},
   "source": [
    "Utilisaiton de la bibliothèque *linalg*"
   ]
  },
  {
   "cell_type": "code",
   "execution_count": 172,
   "metadata": {},
   "outputs": [
    {
     "data": {
      "text/plain": [
       "array([ 17.21, -72.17,  2.29, -14.75,  7.96])"
      ]
     },
     "execution_count": 172,
     "metadata": {},
     "output_type": "execute_result"
    }
   ],
   "source": [
    "np.linalg.solve(A0,b0) # on retrouve bien le même résultat !"
   ]
  },
  {
   "cell_type": "code",
   "execution_count": 173,
   "metadata": {},
   "outputs": [
    {
     "data": {
      "text/plain": [
       "array([ 0.00,  0.00,  0.00,  0.00,  0.00])"
      ]
     },
     "execution_count": 173,
     "metadata": {},
     "output_type": "execute_result"
    }
   ],
   "source": [
    "np.matmul(A0,x)-b0 # .matmul() = produit de matrice, et numériquement A x - b ~ 0"
   ]
  },
  {
   "cell_type": "markdown",
   "metadata": {},
   "source": [
    "**Complexité :** \n",
    "\n",
    "La complexité de l'algorithme du pivot est en $\\mathcal{O}(n^3)$ car, il a une boucle :\n",
    "\n",
    "+ sur les colonnes $k$ pour les n pivots\n",
    "+ sur chacune des $(n-k)$ lignes située \"sous\" la k-ième\n",
    "+ la *transvection* $\\quad \\textrm{Ligne j} \\leftarrow \\textrm{Ligne j} -\\alpha\\times  \\textrm{Ligne k} \\quad$ nécessite $(n-k+1)$ opérations élémentaires.\n",
    "\n",
    "La complexité de l'algorithme de remontée est en $\\mathcal{O}(n^2)$ car il n'y a que deux boucles imbriquées. Ce n'est donc pas l'étape limitante du calcul.\n",
    "\n",
    "> Notons qu'il existe des **algorithmes itératifs** qui, à partir d'un vecteur $x_0$ initial, permet de construire par récurrence une suite de vecteurs $(x_k)$ qui converge vers la solution, le calcul de chaque terme de la suite étant de complexité $\\mathcal{O}(n)$. \n",
    "\n",
    "> Ainsi, lorsque la dimension du système à résoudre $n$ est très grande $( n \\sim 10^3, 10^4, 10^5)$, ces méthodes sont avantageuses car la suite converge généralement en un nombre d'itérations $p$ très inférieur à $n$. La complexité finale est donc \n",
    "$$p\\times \\mathcal{O}(n^2) \\ll \\mathcal{O}(n^3)$$"
   ]
  },
  {
   "cell_type": "markdown",
   "metadata": {},
   "source": [
    "## Systèmes dynamiques (simulation numériques)\n",
    "\n",
    "Un système dynamique différentiel est une équation différentielle dans laquelle l'inconnue est une fonction vectorielle du temps, $t$, \n",
    "$$\\vec{Y} : t \\to \\vec{Y}(t) \\in \\mathbb{R}^p $$\n",
    "qui s'écrit sous la forme\n",
    "$$\\frac{\\mathrm{d}\\vec{Y}}{\\mathrm{d} t} = f\\left(\\vec{Y}(t),t\\right)$$\n",
    "\n",
    "où $f$ est une fonction connue qui, à partir de l'état du système à l'instant $t$ (l'état étant entièrement défini par la donnée du vecteur $\\vec{Y}(t)$), permet de calculer la dérivée de $\\vec{Y}$ à l'instant $t$.\n",
    "\n",
    "> Lorsque la fonction $f$ est suffisamment régulière (cf [problème de Cauchy](https://fr.wikipedia.org/wiki/Probl%C3%A8me_de_Cauchy)), il existe une unique solution pour une condition initiale définie à la date $t_0$ par :\n",
    "\n",
    "$$ \\vec{Y}(t=t_0) = \\vec{C_0}, \\quad \\textrm{ le vecteur } \\vec{C}_0 \\, \\textrm{étant donné}$$\n"
   ]
  },
  {
   "cell_type": "markdown",
   "metadata": {},
   "source": [
    "**Méthode d'Euler (explicite):**\n",
    "\n",
    "Il s'agit d'une méthode de résolution approchée qui se base sur le développement limité à l'ordre 1 de la dérivée de la fonction $\\vec{Y}(t)$, soit :\n",
    "\n",
    "$$\\vec{Y}(t+h) = \\vec{Y}(t) + h\\times \\left.\\frac{\\mathrm{d}\\vec{Y}}{\\mathrm{d} t} \\right|_t+o(h)$$\n",
    "Soit \n",
    "$$\\vec{Y}(t+h) \\approx \\vec{Y}(t) + h\\times f\\left(\\vec{Y}(t),t) \\right)$$\n",
    "\n",
    "On peut également voir cette relation comme l'approximation \"*à gauche*\" de la dérivée, soit\n",
    "$$\\left.\\frac{\\mathrm{d}\\vec{Y}}{\\mathrm{d} t} \\right|_{t} \\approx \\frac{f(t+h)-f(t)}{h}$$\n",
    "**Principe :**\n",
    "\n",
    "> A partir de la date initiale $t_0$, On construit une grille de dates $t_n$ uniformément réparties et séparées d'un pas de temps $h$ \"petit\" :\n",
    "$$t_n = t_0 + n.h \\quad \\textrm{ \"instants d'échantillonnage\" }$$\n",
    "> Pour chaque date, on approche la valeur de $\\vec{Y}(t_n)$ par \n",
    "$$ \\vec{Y}(t_n) \\approx \\vec{Y}_n $$\n",
    "où $\\vec{Y}_n$ est le terme d'indice $n$ d'une suite définie par récurrence selon:\n",
    "\n",
    "$$\\forall n \\in \\mathbb{N},\\quad\\vec{Y}_{n+1} = \\vec{Y}_{n} + h\\times f \\left( \\vec{Y}_{n},t_n\\right) \\quad \\textrm{et} \\quad \\vec{Y}_0 =\\vec{C}_0$$ \n",
    "\n",
    "**Autre méthode : Euler implicite**\n",
    "\n",
    "La méthode d'Euler *implicite* est une variante qui offre une meilleure stabilité numérique. Elle découle l'approximation \"*à droite*\" de la dérivée selon :\n",
    "$$\\left.\\frac{\\mathrm{d}\\vec{Y}}{\\mathrm{d} t} \\right|_{t+h} \\approx \\frac{f(t+h)-f(t)}{h}$$\n",
    "\n",
    "Elle conduit à une relation de récurrence **plus difficile** à gérer :\n",
    "$$\\forall n \\in \\mathbb{N},\\quad\\vec{Y}_{n+1} = \\vec{Y}_{n} + h\\times f \\left( \\vec{Y}_{n+1},t_n\\right) \\quad \\textrm{et} \\quad \\vec{Y}_0 =\\vec{C}_0$$ \n",
    "En effet, le terme au rang suivant, $\\vec{Y}_{n+1}$, apparait simulatément dans le membre de gauche mais aussi dans le membre de droite de l'équation. En pratique, on utilise une méthode numérique pour trouver la racine de l'équation (du type résoudre $f(x)=0$).\n"
   ]
  },
  {
   "cell_type": "markdown",
   "metadata": {},
   "source": [
    "**Mise en oeuvre :**\n",
    "\n",
    "Pour mettre en oeuvre la méthode, il faut se donner :\n",
    "\n",
    "+ un problème physique, c'est à dire une fonction d'évolution $f$\n",
    "+ les conditions initiales, $t_0$ et $\\vec{C}_0$,\n",
    "+ *l'intégrateur*, c'est à dire la méthode de résolution approchée elle-même, et ses paramètres :\n",
    " + valeur du pas de temps $h$ ,\n",
    " + et la date finale de la résolution $t_f$."
   ]
  },
  {
   "cell_type": "markdown",
   "metadata": {},
   "source": [
    "Etape (1) : conception de *l'intégrateur*\n",
    "\n",
    "Principe : \n",
    "c'est une fonction Python qui reçoit comme **arguments d'entrée** : \n",
    "\n",
    "+ la fonction d'évolution ``f``, telle que ``f(y,t)`` donne la dérivé de $\\vec{Y}$ à la date $t$\n",
    "+ la condition $\\vec{C_0}$, un vecteur colonne de dimension $p$\n",
    "+ le pas d'espace $h$, la date initiale $t_0$ et la date finale $t_f$.\n",
    "\n",
    "et qui **renvoie** :\n",
    "\n",
    "+ la liste ``tList`` des $N+1$ dates $t_n=t_0, t_1, \\ldots, t_N$,\n",
    "+ l'ensemble des valeurs approchées $\\vec{Y}_n$ sous la forme d'une liste ``yList`` de ``ndarray`` de dimension $p$ :\n"
   ]
  },
  {
   "cell_type": "code",
   "execution_count": 1,
   "metadata": {},
   "outputs": [],
   "source": [
    "import matplotlib.pyplot as plt\n",
    "import numpy as np\n",
    "def integEulerExp(f, C0, h = 1e-3, t0 = 0, tf = 1.): #Euler\n",
    "    # remarque : f(Y,t) renvoie le vecteur dérivé en tant que ndarray\n",
    "    t, y = t0, C0 # date et état initial\n",
    "    tList = [t] # initialisation de la liste des dates tn\n",
    "    yList = [y] # initialisation de la liste des Yn\n",
    "    while t<tf : # condition d'arret\n",
    "        yNext = y + h * f(y,t) # équation d'évolution\n",
    "        y = yNext # on passe au terme Yn suivant\n",
    "        t = t + h # on passe à l'instant suivant\n",
    "        tList.append(t)    # ajoute la date tn dans  tList\n",
    "        yList.append(y) # ajoute le vecteur Yn dans ylist\n",
    "    return tList,yList    "
   ]
  },
  {
   "cell_type": "markdown",
   "metadata": {},
   "source": [
    "Etape (2) : choix d'un problème physique."
   ]
  },
  {
   "cell_type": "markdown",
   "metadata": {},
   "source": [
    "Exemple 1 : attraction de Lorenz\n",
    "\n",
    "Soit le système différentiel \n",
    "$$\\left\\{\\begin{array}{rcl}\n",
    "\\frac{\\textrm{d}x}{\\textrm{d}t} & = & \\sigma \\left(y(t) - x(t) \\right) \\\\\n",
    "\\frac{\\textrm{d}y}{\\textrm{d}t} & = & \\rho x(t) - y(t) -x(t) z(t) \\\\\n",
    "\\frac{\\textrm{d}z}{\\textrm{d}t} & = & x(t) y(t) - \\beta z(t) \\\\\n",
    "\\end{array} \\right.$$\n",
    "\n",
    "Pour $\\sigma = 10, \\beta = 8/3$ et  $\\rho = 28$.\n",
    "\n",
    "**Méthode :**\n",
    "\n",
    "Il faut écrire une fonction Python ``Lorenz(Y,t)`` qui reçoit le vecteur ``Y``$=\\vec{Y}$ à l'instant $t$,\n",
    "\n",
    "$$\\vec{Y}(t) = \\left\\{\\begin{array}{c}\n",
    "x(t) \\\\ y(t) \\\\ z(t) \\\\\n",
    "\\end{array} \\right.\\quad \\textrm{ soit, en Python }  \\quad\n",
    "\\textrm{Y} = \\left\\{\\begin{array}{c}\n",
    "\\textrm{x} \\\\ \\textrm{y} \\\\ \\textrm{z} \\\\\n",
    "\\end{array} \\right.$$\n",
    "\n",
    "et renvoie le vecteur dérivé ``dY``$=\\frac{\\textrm{d}\\vec{y}}{\\textrm{d}t}$ dont les coordonnées en Python sont les trois variables ``dx``, ``dy`` et ``dz`` :\n",
    "$$\\vec{Y}(t) = \\left\\{\\begin{array}{c}\n",
    "x(t) \\\\ y(t) \\\\ z(t) \\\\\n",
    "\\end{array} \\right. \\quad \\textrm{ soit, en Python }  \\quad\n",
    "\\textrm{dY} = \\left\\{\\begin{array}{c}\n",
    "\\textrm{dx} \\\\ \\textrm{dy} \\\\ \\textrm{dz} \\\\\n",
    "\\end{array} \\right.$$"
   ]
  },
  {
   "cell_type": "code",
   "execution_count": 2,
   "metadata": {},
   "outputs": [],
   "source": [
    "sigma, beta, rho = 10.,8./3,28. # flottants donnés\n",
    "def lorenz(Y,t) : # squelette imposé par l'intégrateur, \n",
    "                  # Y est de type ndarray\n",
    "    x, y, z = Y # unpack de Y :  x, y et z sont des ndarray\n",
    "    dx = sigma * (y - x)\n",
    "    dy = rho * x - y - x * z\n",
    "    dz = x * y - beta * z\n",
    "    return np.array([dx, dy, dz]) # packing pour faire un ndarray"
   ]
  },
  {
   "cell_type": "markdown",
   "metadata": {},
   "source": [
    "Lancement de la simulation ( = résolution du système différentiel )\n",
    "\n",
    "avec comme paramètres $\\vec{C}_0 = ( 1, 0 ,0 )$, ``h = 1e-3`` et ``tf = 5``,\n",
    "\n",
    "Il suffit d'appeler la fonction ``integEulerExp(f,C0,h,t0,tf)`` où l'argument ``f`` est la fonction ``lorenz`` que l'on vient de définir précédemmet.\n",
    "\n",
    "La fonction ``integEulerExp`` renvoie le *tuple* ``tList,yList`` contenant :\n",
    "\n",
    "+ la liste des dates $t_n$ ,\n",
    "+ la liste des vecteurs $Y_n$ pour chacune de ces dates."
   ]
  },
  {
   "cell_type": "code",
   "execution_count": 3,
   "metadata": {},
   "outputs": [],
   "source": [
    "C0 = np.array([1, 0 ,0]) # condition initiale = tableau Numpy de type ndarray\n",
    "tList, yList = integEulerExp(lorenz ,C0 , h = 1e-3, t0 = 0, tf = 50 )"
   ]
  },
  {
   "cell_type": "markdown",
   "metadata": {},
   "source": [
    "Affichage de la trajectoire du point $M(t)$ dont les coordonnées $(x(t), y(t), z(t))$ sont les composantes du vecteur $\\vec{Y}(t)$.\n",
    "\n",
    "Pour cela :\n",
    "\n",
    "1. on convertit les listes de vecteurs ``tList`` et ``yList`` en matrices (*ndarray*), ce qui permet d'extraire aisément les colonnes :\n",
    "Nous avons converti la liste ``yList`` renvoyées par l'intégrateur en matrice de $(N+1)$ lignes par $p=4$ colonnes.\n",
    "\n",
    "![systemeDynamique](img/systemeDynamiqueData3.png)\n",
    "\n",
    "  + La 1ère colonne donne les coordonnées $x$ aux dates $t_n$, $x(t_n)$\n",
    "  + La 2ème colonne donne les coordonnées $y$ aux dates $t_n$, $y(t_n)$\n",
    "  + La 2ème colonne donne les coordonnées $z$ aux dates $t_n$, $z(t_n)$\n",
    "  "
   ]
  },
  {
   "cell_type": "code",
   "execution_count": 4,
   "metadata": {},
   "outputs": [
    {
     "data": {
      "image/png": "[encoded data removed]",
      "text/plain": [
       "<Figure size 360x360 with 1 Axes>"
      ]
     },
     "metadata": {
      "needs_background": "light"
     },
     "output_type": "display_data"
    }
   ],
   "source": [
    "plt.rcParams[\"figure.figsize\"] = (5, 5) #\n",
    "Yi = np.array(yList) # conversion en matrice de N+1 lignes et 3 colonnes\n",
    "xi = Yi[:,0] # 1ère colonne => coordonnée x\n",
    "yi = Yi[:,1] # 2ème colonne => coordonnée y\n",
    "zi = Yi[:,2] # 3ème colonne => coordonnée z\n",
    "plt.plot(xi,zi,'r') # projectionperpendiculairement à y\n",
    "plt.show()"
   ]
  },
  {
   "cell_type": "code",
   "execution_count": 5,
   "metadata": {},
   "outputs": [
    {
     "data": {
      "text/plain": [
       "[<mpl_toolkits.mplot3d.art3d.Line3D at 0x259d9a2b108>]"
      ]
     },
     "execution_count": 5,
     "metadata": {},
     "output_type": "execute_result"
    },
    {
     "data": {
      "image/png": "[encoded data removed]",
      "text/plain": [
       "<Figure size 360x360 with 1 Axes>"
      ]
     },
     "metadata": {
      "needs_background": "light"
     },
     "output_type": "display_data"
    }
   ],
   "source": [
    "# Affichage dans un espace 3D \n",
    "from mpl_toolkits.mplot3d import Axes3D # importation de la méthode Axes3D\n",
    "fig = plt.figure()\n",
    "ax = fig.add_subplot(111, projection='3d')\n",
    "ax.plot(xi,yi,zi,'r')\n",
    "#plt.show()"
   ]
  },
  {
   "cell_type": "markdown",
   "metadata": {},
   "source": [
    "Exemple 2.\n",
    "\n",
    "Système mécanique non-linéaire à deux degrés de libertés.\n",
    "\n",
    "On considère un pendule constitué d'une masse reliée à une tige élastique de longueur au repos $L$, qui agit comme un ressort de raideur $k$. Le pendule est lâché à partir d'une position horizontale.\n",
    "\n",
    "![penduleRessortSchema](img/penduleRessortSchema2.png)\n",
    "\n",
    "Les équations du mouvement sont :\n",
    "\n",
    "$$\\left\\{\\begin{array}{rcl} \\ddot{r} -r\\dot{\\theta}^2 & = &-\\frac{k}{m}(r-L) + g \\cos \\theta \\\\\n",
    "r \\ddot{\\theta} +2\\dot{r}\\dot{\\theta} &= &-g \\sin \\theta \\end{array} \\right.$$\n",
    "\n",
    "On considère le vecteur $$\\vec{Y}(t) = \n",
    "\\left(\\begin{array}{c} r \\\\ \\dot{r} \\\\ \\theta \\\\ \\dot{\\theta} \\end{array}\\right)$$\n",
    "\n",
    "+ écrire les équations du mouvement sous la forme d'un système dynamique\n",
    "$$\\frac{\\mathrm{d}\\vec{Y}}{\\mathrm{d} t} = f\\left(\\vec{Y}(t),t\\right)$$"
   ]
  },
  {
   "cell_type": "markdown",
   "metadata": {},
   "source": [
    "**Solution :** \n",
    "\n",
    "Le but est d'obtenir les coordonnées de la dérivée de $\\vec{Y}$ en fonction des coordonnées de $\\vec{Y}$ et du temps $t$.\n",
    "\n",
    "En isolant les dérivées secondes, on obtient : $$\\left\\{\\begin{array}{rcl} \\ddot{r} & = &r\\dot{\\theta}^2 -\\frac{k}{m}(r-L) + g \\cos \\theta \\\\\n",
    "\\ddot{\\theta} &= & \\frac{1}{r} \\left(-2\\dot{r}\\dot{\\theta} -g \\sin \\theta \\right) \\end{array} \\right.$$\n",
    "\n",
    "En notant le vecteur $\\vec{Y}$ en ligne \n",
    "\n",
    "$$\\vec{Y}=(\\textrm{r},\\textrm{rp},\\textrm{theta},\\textrm{thetap})$$ et les coordonnées de sa dérivée par rapport au temps, \n",
    "\n",
    "$$d\\vec{Y} = (\\textrm{dr},\\textrm{drp},\\textrm{dtheta},\\textrm{dthetap})$$ "
   ]
  },
  {
   "cell_type": "markdown",
   "metadata": {},
   "source": [
    "On a donc :\n",
    "\n",
    "$$\\left\\{\\begin{array}{rcl} \\textrm{dr} &= &rp\\quad \\textrm{car} \\, \\dot{\\theta} = \\dot{\\theta} \\\\ \n",
    "\\textrm{drp} & = & \\textrm{r}.\\textrm{dtheta}^2 -\\frac{k}{m}(\\textrm{r}-L) + g \\cos (\\textrm{theta}) \\\\\n",
    "\\textrm{dtheta} & =& \\textrm{thetap} \\\\\n",
    "\\textrm{dthetap} &= & \\frac{1}{\\textrm{r}} \\left(-2\\textrm{rp}\\times\\textrm{thetap}-g \\sin \\textrm{theta} \\right) \n",
    "\\end{array} \\right.$$\n",
    "\n",
    "Voici la fonction correspondante pour laquelle les paramètres du système physique ($m = $ 1 kg, $L = 1$ m et $k = 6$ N.m$^-1$) sont définis en unités SI."
   ]
  },
  {
   "cell_type": "code",
   "execution_count": 6,
   "metadata": {},
   "outputs": [],
   "source": [
    "m,k,L,g = 1.,6.,1., 9.81 # en kg, N/m, m et m.s^-2\n",
    "def pendule(Y,t) : # la forme de la fonction d'évolution est imposée\n",
    "    # Y est un vecteur de type ndarray\n",
    "    r,rp,theta,thetap = Y # unpack des coordonnées\n",
    "    dr = rp\n",
    "    drp = r*thetap**2 - k/m*(r-L)+g*np.cos(theta)\n",
    "    dtheta = thetap\n",
    "    dthetap =(-2*rp*thetap-g*np.sin(theta))/r\n",
    "    return np.array([dr,drp,dtheta, dthetap]) # on retourne un ndarray"
   ]
  },
  {
   "cell_type": "code",
   "execution_count": 7,
   "metadata": {},
   "outputs": [],
   "source": [
    "# script pour le calcul\n",
    "k=4.5\n",
    "t0 = 0\n",
    "C0 = np.array([1.,0.,np.pi/2,0])\n",
    "tn,Yn=integEulerExp(pendule,C0,h=5e-3,tf=10)"
   ]
  },
  {
   "cell_type": "code",
   "execution_count": 8,
   "metadata": {},
   "outputs": [],
   "source": [
    "tn=np.array(tn) # conversion en ndarray\n",
    "Yn=np.array(Yn) # conversion en ndarray"
   ]
  },
  {
   "cell_type": "markdown",
   "metadata": {},
   "source": [
    "Nous avons converti la liste ``yList`` renvoyées par l'intégrateur en matrice de $(N+1)$ lignes par $p=4$ colonnes.\n",
    "\n",
    "![systemeDynamique](img/systemeDynamiqueData3.png)"
   ]
  },
  {
   "cell_type": "code",
   "execution_count": 9,
   "metadata": {},
   "outputs": [],
   "source": [
    "rn = Yn[:,0] # extraction de la distance r, 1ère colonne\n",
    "thetan = Yn[:,2] # extraction de l'angle theta, 3ème colonne "
   ]
  },
  {
   "cell_type": "code",
   "execution_count": 10,
   "metadata": {},
   "outputs": [
    {
     "data": {
      "text/plain": [
       "[<matplotlib.lines.Line2D at 0x259daac0988>]"
      ]
     },
     "execution_count": 10,
     "metadata": {},
     "output_type": "execute_result"
    },
    {
     "data": {
      "image/png": "[encoded data removed]",
      "text/plain": [
       "<Figure size 360x360 with 1 Axes>"
      ]
     },
     "metadata": {
      "needs_background": "light"
     },
     "output_type": "display_data"
    }
   ],
   "source": [
    "# coordonnées dans la base d'affichage x,y \n",
    "xn = rn*np.sin(thetan)\n",
    "yn = -rn*np.cos(thetan) # ne pas confondre Yn et yn !\n",
    "plt.plot(xn,yn,'-k') #  trajectoire"
   ]
  },
  {
   "cell_type": "code",
   "execution_count": 18,
   "metadata": {
    "scrolled": false
   },
   "outputs": [
    {
     "data": {
      "image/png": "[encoded data removed]",
      "text/plain": [
       "<Figure size 432x288 with 1 Axes>"
      ]
     },
     "metadata": {
      "needs_background": "light"
     },
     "output_type": "display_data"
    }
   ],
   "source": [
    "# animation\n",
    "import time\n",
    "%matplotlib inline\n",
    "fig,ax = plt.subplots(1,1)\n",
    "ax.set_xlim(-1.5,1.5)\n",
    "ax.set_ylim(-8,1)\n",
    "plt.grid(True)\n",
    "h1,=plt.plot([0,xi[0]],[0,yi[0]],'-or')\n",
    "N=len(xn)\n",
    "for n in range(0,N,5):\n",
    "    h1.set_xdata([0,xn[n]])\n",
    "    h1.set_ydata([0,yn[n]])\n",
    "    fig.canvas.draw()\n",
    "    time.sleep(0.002)        "
   ]
  },
  {
   "cell_type": "code",
   "execution_count": 12,
   "metadata": {},
   "outputs": [
    {
     "data": {
      "image/png": "[encoded data removed]",
      "text/plain": [
       "<Figure size 1080x216 with 1 Axes>"
      ]
     },
     "metadata": {
      "needs_background": "light"
     },
     "output_type": "display_data"
    }
   ],
   "source": [
    "# Energie du système à chaque instant\n",
    "vitesse2 = Yn[:,1]**2 + (Yn[:,0]*Yn[:,3])**2 # V^2=(dr/dt)^2 + (r .dtheta/dt)^2\n",
    "Ecinetique = 0.5*m*vitesse2 # Energie cinétique \n",
    "Epot = 0.5*k*(Yn[:,0]-L)**2 -m*g*Yn[:,0]*np.cos(Yn[:,2]) # potentielle élastique + pesanteur\n",
    "Epot = Epot - np.min(Epot) # normalisation pour que Epot = 0\n",
    "plt.rcParams[\"figure.figsize\"] = (15, 3) # Figure allonée\n",
    "plt.plot(tn,Ecinetique,'-r')      # Energie cinétique en rouge\n",
    "plt.plot(tn,Epot,'-b')            # Eenergie potentielle en bleu\n",
    "plt.plot(tn,Epot+Ecinetique,'-g') # Energie totale en vert\n",
    "plt.xlabel('Temps (s)')\n",
    "plt.ylabel('Energie (J)')\n",
    "plt.show()"
   ]
  },
  {
   "cell_type": "markdown",
   "metadata": {},
   "source": [
    "**Observations et conclusions :**\n",
    "\n",
    "> On constate une dérive de l'énergie bien que, pour ce système mécanique conservatif, l'énergie totale devrait rester constante.\n",
    "\n",
    "> La légère dérive énergétique est due au caractère approché de la méthode d'Euler. En augmentant le pas de temps ou en prenant une autre méthode d'intégration plus performante, on obtient des résultats plus statisfaisants."
   ]
  },
  {
   "cell_type": "code",
   "execution_count": null,
   "metadata": {},
   "outputs": [],
   "source": []
  }
 ],
 "metadata": {
  "celltoolbar": "Aucun(e)",
  "kernelspec": {
   "display_name": "Python 3",
   "language": "python",
   "name": "python3"
  },
  "language_info": {
   "codemirror_mode": {
    "name": "ipython",
    "version": 3
   },
   "file_extension": ".py",
   "mimetype": "text/x-python",
   "name": "python",
   "nbconvert_exporter": "python",
   "pygments_lexer": "ipython3",
   "version": "3.7.6"
  }
 },
 "nbformat": 4,
 "nbformat_minor": 4
}
