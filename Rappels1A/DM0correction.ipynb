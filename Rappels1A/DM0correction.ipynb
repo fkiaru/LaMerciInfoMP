{
 "cells": [
  {
   "cell_type": "markdown",
   "metadata": {},
   "source": [
    "# Exercice 1\n",
    "\n",
    "Ecrire en langage python une fonction *toBase2(n)* qui a pour argument un entier positif $n$\n",
    "et qui renvoie la liste des nombres $(a_k )_ {k=0..p}$ telle que \n",
    "$$n = \\sum_{k=0}^{p} a_k 2^k$$ avec $a_k\\in \\{0,1\\}$\n",
    "\n"
   ]
  },
  {
   "cell_type": "code",
   "execution_count": 1,
   "metadata": {},
   "outputs": [],
   "source": [
    "def base2(n):\n",
    "    res = []\n",
    "    while n > 0:\n",
    "        if n % 2 == 0:\n",
    "            res.append(0)\n",
    "        else :\n",
    "            res.append(1)\n",
    "        n //= 2\n",
    "    return res"
   ]
  },
  {
   "cell_type": "code",
   "execution_count": 2,
   "metadata": {},
   "outputs": [
    {
     "name": "stdout",
     "output_type": "stream",
     "text": [
      "[]\n",
      "[1]\n",
      "[0, 1]\n",
      "[1, 1]\n",
      "[0, 0, 1]\n",
      "[1, 0, 1]\n",
      "[0, 1, 1]\n",
      "[1, 1, 1]\n"
     ]
    }
   ],
   "source": [
    "for k in range(8):\n",
    "    print(base2(k))"
   ]
  },
  {
   "cell_type": "markdown",
   "metadata": {},
   "source": [
    "On constate que la fonction ne renvoie rien lorsque l'argument est négatif.\n",
    "On ajoute une condition initiale pour l'argument négatif ou nul en entrée"
   ]
  },
  {
   "cell_type": "code",
   "execution_count": 3,
   "metadata": {},
   "outputs": [],
   "source": [
    "def base2(n):\n",
    "    res = []\n",
    "    if n<= 0:\n",
    "        return [0]\n",
    "    while n > 0:\n",
    "        if n%2 ==0:\n",
    "            res.append(0)\n",
    "        else:\n",
    "            res.append(1)\n",
    "        n //= 2\n",
    "    return res"
   ]
  },
  {
   "cell_type": "code",
   "execution_count": 4,
   "metadata": {},
   "outputs": [
    {
     "name": "stdout",
     "output_type": "stream",
     "text": [
      "[0]\n",
      "[1]\n",
      "[0, 1]\n",
      "[1, 1]\n",
      "[0, 0, 1]\n",
      "[1, 0, 1]\n",
      "[0, 1, 1]\n",
      "[1, 1, 1]\n"
     ]
    }
   ],
   "source": [
    "for k in range(8):\n",
    "    print(base2(k))"
   ]
  },
  {
   "cell_type": "code",
   "execution_count": 5,
   "metadata": {},
   "outputs": [
    {
     "name": "stdout",
     "output_type": "stream",
     "text": [
      "1\n"
     ]
    }
   ],
   "source": [
    "l=1\n",
    "base2(l)\n",
    "print(l)"
   ]
  },
  {
   "cell_type": "markdown",
   "metadata": {},
   "source": [
    "Ecrire en langage python une fonction *toBase3(n)* qui a pour argument un entier positif $n$ et qui renvoie son écriture en base 3 sous forme d’une liste.\n",
    "Par exemple pour \n",
    "\n",
    "$$178 = 2\\times 3^4 + 0\\times3^3 + 1\\times 3^2 + 2\\times 3^1 + 1\\times 3^0$$\n",
    "\n",
    "Le programme renvoie la liste d’entiers $[1, 2, 1, 0, 2]$.\n"
   ]
  },
  {
   "cell_type": "code",
   "execution_count": 5,
   "metadata": {},
   "outputs": [],
   "source": [
    "def toBase3(n):\n",
    "    res = []\n",
    "    if n<= 0:\n",
    "        return [0]\n",
    "    while n>0 :\n",
    "        k = n%3\n",
    "        res.append(k)\n",
    "        n //= 3\n",
    "    return res"
   ]
  },
  {
   "cell_type": "code",
   "execution_count": 6,
   "metadata": {},
   "outputs": [
    {
     "data": {
      "text/plain": [
       "[1, 2, 1, 0, 2]"
      ]
     },
     "execution_count": 6,
     "metadata": {},
     "output_type": "execute_result"
    }
   ],
   "source": [
    "toBase3(178)"
   ]
  },
  {
   "cell_type": "code",
   "execution_count": 7,
   "metadata": {},
   "outputs": [
    {
     "name": "stdout",
     "output_type": "stream",
     "text": [
      "[0]\n",
      "[1]\n",
      "[2]\n",
      "[0, 1]\n",
      "[1, 1]\n",
      "[2, 1]\n",
      "[0, 2]\n",
      "[1, 2]\n",
      "[2, 2]\n"
     ]
    }
   ],
   "source": [
    "for k in range(3**2):\n",
    "    print(toBase3(k))\n",
    "    "
   ]
  },
  {
   "cell_type": "markdown",
   "metadata": {},
   "source": [
    "Ecrire en langage python une fonction *toBase(n,b)* qui convertit le nombre entier $n$ en base\n",
    "$b$ ($b$ étant un entier strictement positif)."
   ]
  },
  {
   "cell_type": "code",
   "execution_count": 28,
   "metadata": {},
   "outputs": [],
   "source": [
    "def toBase(n,b):\n",
    "    res = []\n",
    "    if n<= 0:\n",
    "        return [0]\n",
    "    while n>0:\n",
    "        k = n % b\n",
    "        #res.append(k)\n",
    "        res = [k] + res\n",
    "        n //= b\n",
    "        # res = res[::-1]\n",
    "    return res"
   ]
  },
  {
   "cell_type": "code",
   "execution_count": 29,
   "metadata": {},
   "outputs": [
    {
     "name": "stdout",
     "output_type": "stream",
     "text": [
      "[0]\n",
      "[1]\n",
      "[2]\n",
      "[3]\n",
      "[1, 0]\n",
      "[1, 1]\n",
      "[1, 2]\n",
      "[1, 3]\n",
      "[2, 0]\n",
      "[2, 1]\n",
      "[2, 2]\n",
      "[2, 3]\n",
      "[3, 0]\n",
      "[3, 1]\n",
      "[3, 2]\n",
      "[3, 3]\n"
     ]
    }
   ],
   "source": [
    "for k in range(4**2):\n",
    "    print(toBase(k,4))"
   ]
  },
  {
   "cell_type": "markdown",
   "metadata": {},
   "source": [
    "# Exercice 2 Nombres premiers jumeaux\n",
    "\n",
    "Ecrire en langage python une fonction *jumeaux* qui renvoie une liste contenant les couples de\n",
    "nombres premiers jumeaux inférieurs (strictement) à un entier positif n donné comme argument.\n",
    "\n",
    "**Définitions (rappels)**\n",
    "\n",
    "Un *nombre premier* est un entier naturel qui admet exactement deux diviseurs : $1$ et lui-même.\n",
    "Ainsi $1$ n'est pas considéré comme premier.\n",
    "\n",
    "Deux nombres premiers $p$, $q$ forment un *couple de nombres premiers jumeaux* $(p,q)$ si\n",
    "$$q=p+2$$"
   ]
  },
  {
   "cell_type": "markdown",
   "metadata": {},
   "source": [
    "<font color=red>**Solution** </font>\n",
    "Plusieurs méthodes sont envisageables :\n",
    "\n",
    "1. On peut par exemple rechercher la liste des nombres premiers inférieurs à $n$ (voire $n-2$) puis calculer les distances entre deux nombres successifs afin de détecter les nombres premiers jumeaux.\n",
    "\n",
    "2. On peut également parcourir tous les entiers $k$ inférieurs $n$ par une boucle \"FOR\" et faire un test de primalité sur chacun. Sitôt que l'un est premier, on teste la primalité de $k+2$ (ou de k-2). Si deux successifs sont premiers, on ajoute le couple à une liste \"resultats\" qui doit être renvoyée par la fonction.\n",
    "\n",
    "On choisit d'appliquer la seconde méthode qui évite de construire la liste de nombres premiers car il ne semble pas nécessaire de retenir tous les nombres premiers, mais seulement ceux qui participent à un couple de jumeaux.\n",
    "A ce stade, voici donc la *trame* de l'algorithme:\n",
    "\n",
    "```python\n",
    "  nbCouples <-0 # nombre de couples trouvés\n",
    "  listeJumeaux <-[] # liste Vide\n",
    "    \n",
    "  POUR k allant de 1 à nMax\n",
    "      SI (k est premier)\n",
    "           SI (k+2 est premier)\n",
    "                ajouter le couple [k,k+2] à listeJumeaux\n",
    "  RETOURNER listeJumeaux\n",
    "```\n",
    "Il reste à définir la valeur maximale prise par l'indice $k$ dans cette boucle.\n",
    "Sachant que les deux nombres du couple $[k,k+2]$ doivent être inférieurs strictement à $n$.\n",
    "Il faut donc\n",
    "$$ k+2<n$$\n",
    "ainsi la valeur $nMax$ vaut donc $n-3$.\n",
    "\n",
    "On constate que nous avons besoin d'une seconde fonction auxiliare pour tester la *primalité* d'un nombre entier (qui renvoie *True* si le nombre est premier et *False* sinon).\n",
    "Ensuite, il parait logique de travailler avec une liste, considérée comme variable globale que l'on soit susceptible de compléter pour y ajouter des nombres premiers."
   ]
  },
  {
   "cell_type": "markdown",
   "metadata": {},
   "source": [
    "**Etape 1 : test de primalité**\n",
    "Pour tester la primalité d'un nombre on va tester tous ses potentiels diviseurs.\n",
    "\n",
    "Exemple : pour savoir si $n=83$ est premier, on va calculer le reste de la division de $83$ par tous les entiers $k$ tels que $$k\\times k <= 83$$\n",
    "Dès que l'on trouve un reste de la division de 83 par $k$ qui est nul, on retourne *False*. Si on parcourt la boucle sans en sortir, on retourne *True*.\n",
    "\n",
    "A quelle valeur minimale pour $k$ doit-on partir? Le plus petit diviseur potentiel permettant de savoir si un nombre est premier est nombre $2$.\n",
    "Attention, si $n=2$, il sera évidemment divisible par $2$ (le nombre $2$ n'est divisible que par 1 et par lui-même, il est donc premier). Toutefois, ce cas ne sera pas testé car \"$2 \\times 2\\le 2$\" est fausse et donc l'entrée dans la boucle ne se fait pas.\n",
    "\n",
    "Attention: il faut bien vérifier que nos tests de diviseurs potentiels (l'ensemble des valeurs prises par la variable $k$) contient la racine carré de $n$. Exemple pour $n=36$, il faut que $k$ puisse atteindre $k=6$ dans la boucle d'exécution. Or, cela est le cas la condition d'entrée de boucle est bien $$k\\times k \\le n$$ et donc l'usage du test **inférieur ou égal** dans cette condition est indispensable.\n",
    "\n",
    "Enfin, les nombres 0 et 1 ne sont pas premiers et il en va de même pour les entiers négatifs. On peut donc traiter ces cas dès l'entrée de boucle en renvoyant *False* si $n<2$."
   ]
  },
  {
   "cell_type": "code",
   "execution_count": 30,
   "metadata": {},
   "outputs": [],
   "source": [
    "def isPrime(n):\n",
    "    if n < 2:\n",
    "        return False\n",
    "    k = 2\n",
    "    while k * k <= n:\n",
    "        if n % k == 0:\n",
    "            return False\n",
    "        k += 1\n",
    "    return True\n"
   ]
  },
  {
   "cell_type": "code",
   "execution_count": 31,
   "metadata": {},
   "outputs": [
    {
     "name": "stdout",
     "output_type": "stream",
     "text": [
      "2\n",
      "3\n",
      "5\n",
      "7\n",
      "11\n",
      "13\n",
      "17\n",
      "19\n",
      "23\n"
     ]
    }
   ],
   "source": [
    "# Validation en affichant les nombres premiers \n",
    "# inférieurs strictement à 25\n",
    "for k in range(25):\n",
    "    if isPrime(k):\n",
    "        print(k)"
   ]
  },
  {
   "cell_type": "markdown",
   "metadata": {},
   "source": [
    "**Etape 2 : liste des couples de jumeaux**\n",
    "On définit la fonction jumeaux qui, à partir d'un argument entier $n$, renvoie les couples de jumeaux strictement inférieurs à $n$."
   ]
  },
  {
   "cell_type": "code",
   "execution_count": 6,
   "metadata": {},
   "outputs": [],
   "source": [
    "def jumeaux(n):\n",
    "    listeJumeaux = [] #initialisation de la liste\n",
    "    for k in range(n - 2): # la valeur maximale prise par k est n-3\n",
    "                         # si bien que les deux valeurs du couple\n",
    "                         # [k,k+2] sont strictement inférieures à n\n",
    "        if isPrime(k):\n",
    "            if isPrime(k + 2):\n",
    "                listeJumeaux.append([k, k + 2])\n",
    "    return listeJumeaux"
   ]
  },
  {
   "cell_type": "code",
   "execution_count": 7,
   "metadata": {},
   "outputs": [
    {
     "data": {
      "text/plain": [
       "[[3, 5],\n",
       " [5, 7],\n",
       " [11, 13],\n",
       " [17, 19],\n",
       " [29, 31],\n",
       " [41, 43],\n",
       " [59, 61],\n",
       " [71, 73],\n",
       " [101, 103]]"
      ]
     },
     "execution_count": 7,
     "metadata": {},
     "output_type": "execute_result"
    }
   ],
   "source": [
    "# Validation avec l'exemple de l'énoncé\n",
    "jumeaux(109)"
   ]
  },
  {
   "cell_type": "markdown",
   "metadata": {},
   "source": [
    "**Critique du code proposé**\n",
    "\n",
    "Avec cet algorithme, le test de primalité est effectué deux fois par boucle. Or, tester $k$ et $k+2$ est redondant car, deux itérations suivantes, $k$ sera augmenté de $2$ et donc on testera à nouveau la primalité du même entier.\n",
    "On peut donc optimiser ce code en stockant la valeur du dernier nombre premier trouvé à chaque itération et vérifier si le suivant trouvé est égal à l'ancien augmenté de deux.\n",
    "\n",
    "Voici l'algorithme qui illustre cette idée:\n",
    "```python\n",
    "nbCouples <-0 # nombre de couples trouvés\n",
    "listeJumeaux <-[] # liste Vide\n",
    "kOld = 2 # c'est le premier nombre premier    \n",
    "POUR k allant de 1 à nMax\n",
    "      SI (k est premier)\n",
    "           SI (k= kOld+2)\n",
    "                Ajouter [kOld,k] à listeJumeaux\n",
    "           kOld=k # mise à jour à nombre premier trouvé\n",
    "  RETOURNER listeJumeaux\n",
    "```\n",
    "Il reste à définir la valeur maximale prise par l'indice $k$ dans cette boucle.\n",
    "Sachant que les deux nombres du couple $[kOld,k]$ doivent être inférieures strictement à $n$.\n",
    "Il faut donc\n",
    "$$ k<n$$\n",
    "ainsi la valeur $nMax$ vaut donc $n-1$."
   ]
  },
  {
   "cell_type": "code",
   "execution_count": 15,
   "metadata": {},
   "outputs": [],
   "source": [
    "#Voici le code python de cet algorithme\n",
    "def jumeauxBis(n):\n",
    "    listeJumeaux = [] #initialisation de la liste\n",
    "    kOld = 2\n",
    "    for k in range(n): # la valeur maximale prise par k est n-1\n",
    "                       # si bien que les deux valeurs du couple\n",
    "                       # [kold, k] sont strictement inférieures à n\n",
    "        if isPrime(k) :\n",
    "            if (k == kOld + 2):\n",
    "                listeJumeaux.append([kOld, k])\n",
    "            kOld = k # mis à jour à chaque nb premier trouvé\n",
    "                   # ATTENTION : à l'indentation de cette instruction\n",
    "    return listeJumeaux"
   ]
  },
  {
   "cell_type": "code",
   "execution_count": 16,
   "metadata": {},
   "outputs": [
    {
     "data": {
      "text/plain": [
       "[[3, 5],\n",
       " [5, 7],\n",
       " [11, 13],\n",
       " [17, 19],\n",
       " [29, 31],\n",
       " [41, 43],\n",
       " [59, 61],\n",
       " [71, 73],\n",
       " [101, 103]]"
      ]
     },
     "execution_count": 16,
     "metadata": {},
     "output_type": "execute_result"
    }
   ],
   "source": [
    "#Validation\n",
    "jumeauxBis(109)"
   ]
  },
  {
   "cell_type": "markdown",
   "metadata": {},
   "source": [
    "# Exercice 2bis Nombres premiers jumeaux\n",
    "Ecrire en langage python une fonction *premierJumeaux* qui, à partir d'un entier positif donné comme argument, renvoie une liste contenant les $n$ *premiers couples* de nombres premiers jumeaux.\n",
    "\n",
    "**Définitions (rappels)**\n",
    "\n",
    "Un *nombre premier* est un entier naturel qui admet exactement deux diviseurs : $1$ et lui-même.\n",
    "Ainsi $1$ n'est pas considéré comme premier.\n",
    "\n",
    "Deux nombres premiers $p$,$q$ forment un *couple de nombres premiers jumeaux* $(p,q)$ si\n",
    "$$q=p+2$$\n",
    "\n",
    "\n"
   ]
  },
  {
   "cell_type": "markdown",
   "metadata": {},
   "source": [
    "<font color=red>**Solution** </font>\n",
    "Plusieurs méthodes sont envisageables :\n",
    "\n",
    "1. On peut par exemple rechercher la liste des *k* plus petits *nombres premiers* puis calculer les distances successives entre eux. Par contre, on ne sait pas combien de nombres premiers il faut considérer car notre objectif n'est pas de trouver des entiers mais des nombres premiers jumeaux.\n",
    "\n",
    "2. On peut également parcourir tous les entiers et faire des tests de primalité sur chacun. Si tôt que l'un est premier, on teste la primalité de n+2. (ou de n-2). On arrête le parcours de tous les entiers dès que l'on a trouvé $n$ couples de jumeaux.\n",
    "\n",
    "Conclusion : rechercher la liste des plus petits nombres premiers requiert a priori de parcourir tous les nombres pour tester leur primalité. Ainsi, autant chercher directement la liste de tous les nombres premiers successivement par ordre croissant. A mesure que l'on remplit cette liste, on vérifie si le nouveau nombre premier trouvé est séparé du dernier de deux unités seulement. Dans ce cas, on incrémente un compteur de couples de nombres jumeaux obtenus. La sortie de boucle se ferait donc lorsque l'on a obtenu suffisamment de couples de jumeaux.\n",
    "\n",
    "A ce stade, voici la *trame* de l'algorithme:\n",
    "\n",
    "```python\n",
    "  nbCouples <-0 # nombre de couples trouvés\n",
    "  listeJumeaux <-[] # liste Vide\n",
    "    \n",
    "  k=2 # nombre premier initial\n",
    "  TANT QUE nbCouples < n                    \n",
    "      knext <- premierSuivant(k)                     \n",
    "      SI (knext==k+2)                        \n",
    "          AJOUTER (k,knext) à listejumeaux          \n",
    "          nbCouples <-nbCouples+1\n",
    "      k <-knext #faire pointer k sur le suivant\n",
    "  RETOURNER listeJumeaux\n",
    "```\n",
    "\n",
    "Nous avons naturellement introduit une fonction renvoyant le nombre premier suivant un entier donné.\n",
    "Il s'agit d'une fonction qui reçoit en argument un entier et propose le nombre premier immédiatement supérieur à cet entier. Pour cela, il semble possible de parcourir tous les entiers à partir de ce point de départ et de s'arrêter dès que l'on trouve un nombre premier que l'on renvoi alors comme résultat de la fonction.\n",
    "\n",
    "Voici la trame algorithmique de cette fonction auxiliaire:\n",
    "\n",
    "\n",
    "```python\n",
    "FONCTION premierSuivant(n)\n",
    "    k=n+1 # on teste à partir de n+1 pour\n",
    "          # renvoyer le suivant\n",
    "    TANT QUE (k n'est pas premier)\n",
    "              k <- k+1\n",
    "    RETOURNER k\n",
    "```\n",
    "\n",
    "\n",
    "On constate que nous avons besoin d'une seconde fonction auxiliare pour tester la *primalité* d'un nombre entier (qui renvoie *True* si le nombre est premier et *False* sinon).\n",
    "Ensuite, il parait logique de travailler avec une liste, considérée comme variable globale que l'on soit susceptible de compléter pour y ajouter des nombres premiers."
   ]
  },
  {
   "cell_type": "markdown",
   "metadata": {},
   "source": [
    "**Etape 1 : test de primalité**\n",
    "Pour tester la primalité d'un nombre on va tester tout ses potentiels diviseurs.\n",
    "\n",
    "Exemple : pour savoir si $n=83$ est premier, on va calculer le reste de la division de $83$ par tous les entiers $k$ tels que $$k\\times k < 83$$\n",
    "Dès que l'on trouve un reste de la division de 83 par $k$ qui est nul, on retourne *False*. Si on parcourt la boucle sans en sortir, on retourne *True*.\n",
    "\n",
    "A quelle valeur minimale pour $k$ doit-on partir? Le plus petit diviseur potentiel permettant de savoir si un nombre est premier est nombre $2$.\n",
    "Attention, si $n=2$, il sera évidemment divisible par $2$ (le nombre $2$ n'est divisible que par 1 et par lui-même, il est donc premier). Toutefois, ce cas ne sera pas testé car \"$2 \\times 2\\le 2$\" est fausse et donc l'entrée dans la boucle ne se fait pas.\n",
    "\n",
    "Attention: il faut bien vérifier que nos tests de diviseurs potentiels (l'ensemble des valeurs prises par la variable $k$) contient la racine carré de $n$. Exemple pour $n=36$, il faut que $k$ puisse atteindre $k=6$ dans la boucle d'exécution. Or, cela est le cas la condition d'entrée de boucle est bien $$k\\times k \\le n$$ et donc l'usage du test **inférieur ou égal** dans cette condition est indispensable.\n",
    "\n",
    "Enfin, les nombres 0 et 1 ne sont pas premiers et il en va de même pour les entiers négatifs. On peut donc traiter ces cas dès l'entrée de boucle en renvoyant *False* si $n<2$."
   ]
  },
  {
   "cell_type": "code",
   "execution_count": 17,
   "metadata": {},
   "outputs": [],
   "source": [
    "def isPrime(n):\n",
    "    if n < 2:\n",
    "        return False\n",
    "    k = 2\n",
    "    while k * k <= n:\n",
    "        if n % k == 0:\n",
    "            return False\n",
    "        k += 1\n",
    "    return True\n"
   ]
  },
  {
   "cell_type": "code",
   "execution_count": 18,
   "metadata": {},
   "outputs": [
    {
     "name": "stdout",
     "output_type": "stream",
     "text": [
      "2\n",
      "3\n",
      "5\n",
      "7\n",
      "11\n",
      "13\n",
      "17\n",
      "19\n",
      "23\n"
     ]
    }
   ],
   "source": [
    "# Validation en affichant les nb premiers \n",
    "# inférieurs strictement à 25\n",
    "for k in range(25):\n",
    "    if isPrime(k):\n",
    "        print(k)"
   ]
  },
  {
   "cell_type": "markdown",
   "metadata": {},
   "source": [
    "**Etape 2 : renvoyer le premier suivant**\n",
    "On rédige le code python d'une fonction qui reçoit en argument un entier et qui retourne le nombre premier immédiatement supérieur à n"
   ]
  },
  {
   "cell_type": "code",
   "execution_count": 19,
   "metadata": {},
   "outputs": [],
   "source": [
    "def premierSuivant (n):\n",
    "    k = n + 1\n",
    "    while not isPrime(k):\n",
    "        k += 1\n",
    "    return k"
   ]
  },
  {
   "cell_type": "code",
   "execution_count": 20,
   "metadata": {},
   "outputs": [
    {
     "name": "stdout",
     "output_type": "stream",
     "text": [
      "2\n",
      "3\n",
      "5\n",
      "7\n",
      "11\n",
      "13\n",
      "17\n",
      "19\n",
      "23\n",
      "29\n"
     ]
    }
   ],
   "source": [
    "# Validation : affichage des 10 premiers nombres premiers\n",
    "n = 0\n",
    "for k in range(10):\n",
    "    n = premierSuivant(n)\n",
    "    print(n)"
   ]
  },
  {
   "cell_type": "code",
   "execution_count": 21,
   "metadata": {},
   "outputs": [
    {
     "name": "stdout",
     "output_type": "stream",
     "text": [
      "0 -> 2\n",
      "1 -> 2\n",
      "2 -> 3\n",
      "3 -> 5\n",
      "4 -> 5\n",
      "5 -> 7\n",
      "6 -> 7\n",
      "7 -> 11\n",
      "8 -> 11\n",
      "9 -> 11\n",
      "10 -> 11\n",
      "11 -> 13\n"
     ]
    }
   ],
   "source": [
    "# On vérifie également pour une liste de valeurs\n",
    "for k in range(12):\n",
    "    print(k,'->',premierSuivant(k))"
   ]
  },
  {
   "cell_type": "markdown",
   "metadata": {},
   "source": [
    "**Etape 3 : renvoyer la liste de nombre jumeaux**\n",
    "On rédige le code python d'une fonction *jumeaux* qui, à partir d'un argument entier $n$ renvoie les $n$ premiers couples de nombres jumeaux."
   ]
  },
  {
   "cell_type": "code",
   "execution_count": 22,
   "metadata": {},
   "outputs": [],
   "source": [
    "def premierJumeaux(n):\n",
    "    nbCouples = 0\n",
    "    listeJumeaux = []\n",
    "    k = 2 #nombre initial\n",
    "    while (nbCouples < n):\n",
    "        knext = premierSuivant(k)\n",
    "        if (knext == k + 2):\n",
    "            listeJumeaux.append([k,knext])\n",
    "            nbCouples += 1\n",
    "        k=knext\n",
    "    return listeJumeaux"
   ]
  },
  {
   "cell_type": "code",
   "execution_count": 23,
   "metadata": {},
   "outputs": [
    {
     "data": {
      "text/plain": [
       "[[3, 5],\n",
       " [5, 7],\n",
       " [11, 13],\n",
       " [17, 19],\n",
       " [29, 31],\n",
       " [41, 43],\n",
       " [59, 61],\n",
       " [71, 73],\n",
       " [101, 103],\n",
       " [107, 109]]"
      ]
     },
     "execution_count": 23,
     "metadata": {},
     "output_type": "execute_result"
    }
   ],
   "source": [
    "# La liste des n=10 premiers couples \n",
    "# de nombres de jumeaux\n",
    "premierJumeaux(10)"
   ]
  },
  {
   "cell_type": "markdown",
   "metadata": {},
   "source": [
    "# Correction sujet IPT  Mines 2019 \n",
    "\n",
    "Questions Q1 à Q10"
   ]
  },
  {
   "cell_type": "markdown",
   "metadata": {},
   "source": [
    "## Q1 \n",
    "Dans un programme Python on souhaite pouvoir faire appel aux fonctions log, sqrt, floor et ceil du module math (round est disponible par défaut). Ecrire des instructions permettant d’avoir accès à ces fonctions et d’afficher le logarithme népérien de 0.5."
   ]
  },
  {
   "cell_type": "markdown",
   "metadata": {},
   "source": [
    "Deux possibilités ``import *`` ou `` import as``"
   ]
  },
  {
   "cell_type": "code",
   "execution_count": 24,
   "metadata": {},
   "outputs": [
    {
     "name": "stdout",
     "output_type": "stream",
     "text": [
      "-0.6931471805599453\n"
     ]
    }
   ],
   "source": [
    "from math import *\n",
    "print(log(0.5)) # logarithme népérien"
   ]
  },
  {
   "cell_type": "code",
   "execution_count": 32,
   "metadata": {},
   "outputs": [
    {
     "name": "stdout",
     "output_type": "stream",
     "text": [
      "-0.6931471805599453\n"
     ]
    }
   ],
   "source": [
    "import math as mth\n",
    "print(mth.log(0.5)) # les fonctions sont précédés\n",
    "                    # de l'alias mth"
   ]
  },
  {
   "cell_type": "code",
   "execution_count": 35,
   "metadata": {},
   "outputs": [
    {
     "data": {
      "text/plain": [
       "1.0"
      ]
     },
     "execution_count": 35,
     "metadata": {},
     "output_type": "execute_result"
    }
   ],
   "source": [
    "mth.log10(10)"
   ]
  },
  {
   "cell_type": "markdown",
   "metadata": {},
   "source": [
    "## Q2 Fonction ``sont_proches(x, y )``"
   ]
  },
  {
   "cell_type": "code",
   "execution_count": 26,
   "metadata": {},
   "outputs": [],
   "source": [
    "def sont_proches(x, y) :\n",
    "    atol = 1e-5\n",
    "    rtol = 1e-8\n",
    "    return abs(x-y)<= atol + abs(y) * rtol    "
   ]
  },
  {
   "cell_type": "code",
   "execution_count": 37,
   "metadata": {},
   "outputs": [
    {
     "data": {
      "text/plain": [
       "False"
      ]
     },
     "execution_count": 37,
     "metadata": {},
     "output_type": "execute_result"
    }
   ],
   "source": [
    "3<2"
   ]
  },
  {
   "cell_type": "markdown",
   "metadata": {},
   "source": [
    "## Q3 fonction ``mystere(x, b)``"
   ]
  },
  {
   "cell_type": "markdown",
   "metadata": {},
   "source": [
    "Pour déterminer ce que renvoit ``mystere(1001,10)``, on exécute mentalement l'algorithme en Python.\n",
    "\n",
    "- au premier appel, x = 1001 et b = 10 donc ``x < b`` est FAUX. Ainsi, la fonction renvoie 1 +`` ``mystere(1001/10,10)``\n",
    "- au second appel, x = 1001/10 et b = 10. Ainsi, on a toujours ``x < b`` qui est FAUX. On ajoute encore 1 au résultat.\n",
    "- au 3ème appel, x = 1001/100 et b = 10. Ainsi, on a encore ``x >= b `` donc on ajoute encore 1 au résultat.\n",
    "- au 4ème appel, x = 1001/1000 et b = 10. Cette fois ``x < b`` devient VRAI. La fonction renvoie zéro. \n",
    " Au final, la fonction ``mystere`` est ainsi appelée 4 fois et **elle renvoie la valeur 3**.\n"
   ]
  },
  {
   "cell_type": "markdown",
   "metadata": {},
   "source": [
    "## Q4\n",
    "En généralisant ce qui précéde, on peut dire que :\n",
    "lors du *k-ième appel* de la fonction ``mystere``, il y a eu *k-1* additions du terme 1. L'argument initial $x$ a été divisé *k-1* fois par b. Donc, la valeur de l'argument ``x`` pour le *k-ième* appel est :\n",
    "$$x_k=x/b^{k-1}$$\n",
    "L'appel à cette fonction s'arrête dès que $x_k< b$ soit lorsque\n",
    "$$  x/b^{k-1} < b$$\n",
    "Où encore $x < b^{k}$\n",
    "\n",
    "Soit, $\\ln(x) < k \\ln(b),$ c'est-à-dire pour l'itération *k* telle que  \n",
    "$$k > \\frac{\\ln(x)}{\\ln(b)}$$\n",
    "Le plus petit entier $k$ vérifiant cette condition est la *partie entière inférieure* additionnée de un (prendre par exemple les cas \"k>3,4\" et \"k>3\" pour s'en persuader):\n",
    "$$k_0=\\left\\lfloor\\frac{\\ln(x)}{\\ln(b)} \\right\\rfloor +1$$\n",
    "Or, à cette *k-ième* itération, la fonction additionne avec zéro. Ainsi, elle renvoie $k_0-1$. In fine, la fonction ``mystere``  renverra la valeur \n",
    "$$\\left\\lfloor\\frac{\\ln(x)}{\\ln(b)} \\right\\rfloor$$\n",
    "et sera appelée $\\left\\lfloor\\frac{\\ln(x)}{\\ln(b)} \\right\\rfloor+1$ fois.\n",
    "Note: cette valeur renvoyée s'écrit également en Python par : ``floor(log(x)/log(b))``.\n"
   ]
  },
  {
   "cell_type": "markdown",
   "metadata": {},
   "source": [
    "## Q5 \n",
    "- La variable ``x1`` est égale à $i+1$ multiplié par le pas. A la fin des 100000 itérations, elle est le résultat de 2 opérations (une addition puis une multiplication). Sa valeur numérique telle qu'elle est représentée en machine est ainsi, a priori, très proche de sa valeur exacte ($100000 \\times 10^{-5}$).\n",
    "\n",
    "- La variable ``x2`` quant à elle est, à chaque itération, calculée en additionnant le contenu de la variable ``pas``. Compte-tenu de **la précision limitée du codage des nombres en machine**, les additions successives de la variable ``x2`` se font potentiellement avec de légères erreurs d'arrondis. Ainsi, au bout de 100000 itérations, les additions successives *donnent un résultat différent* de celui que l'on obtient directement par la multiplication.\n",
    "\n",
    "On note que le résultat obtenu est x2=0.9999999999980838, il possède 11 chiffres corrects. L'erreur relative est donc de $10^{-11}$. Sachant que la précision de codage d'un nombre flottant en Python et de $10^{-15} $ à  $10^{-16} $, on retrouve bien que l'accumulation des $100000 = 10^5$ petites erreurs de l'ordre de $10^{-16}$ donne une erreur relative de:\n",
    "$$10^{-16} \\times 10^{5} = 10^{-11}$$\n",
    "Il est donc logique d'avoir environ 11 chiffres significatifs dans la valeur de la variable ``x2``."
   ]
  },
  {
   "cell_type": "code",
   "execution_count": 27,
   "metadata": {},
   "outputs": [
    {
     "name": "stdout",
     "output_type": "stream",
     "text": [
      "x1 :  1.0\n",
      "x2 :  1.0000000022898672\n"
     ]
    }
   ],
   "source": [
    "pas = 1e-8 # pas encore plus petit\n",
    "x2 = 0\n",
    "for i in range (100000000): # 10^8 itérations\n",
    "    x1 = ( i + 1)  * pas\n",
    "    x2 = x2 + pas\n",
    "print ( 'x1 : ' , x1 )\n",
    "print ( 'x2 : ' , x2 )\n"
   ]
  },
  {
   "cell_type": "markdown",
   "metadata": {},
   "source": [
    "On note que 1.0000000022898672 possède 8 chiffres corrects seulement."
   ]
  },
  {
   "cell_type": "markdown",
   "metadata": {},
   "source": [
    "## Q6\n",
    "\n",
    "Une liste de $N$ booléens aura sa taille qui augmente de 32 bits soit de 4 octets (rappel 1 octet = 8 bits) avec chaque nouveau booléen stocké dans cette liste.\n",
    "\n",
    "Ainsi, avec 4 Go (giga octets) $= 4 \\times 10^9$ octets de mémoire vive, on peut stocker\n",
    "$$ N=4\\times 10 ^9 / 4 = 10^9$$\n",
    "valeurs booléennes."
   ]
  },
  {
   "cell_type": "markdown",
   "metadata": {},
   "source": [
    "## Q7\n",
    "Le plus petit espace mémoire pour stocker un booléen est le bit (information binaire à deux états, tout comme un booléen True ou False). On peut ainsi **gagner un facteur 32**."
   ]
  },
  {
   "cell_type": "markdown",
   "metadata": {},
   "source": [
    "## Q8 Fonction ``erato_iter(N)``\n",
    "\n",
    "Attention : cette question est plus difficile qu'elle peut sembler au premier abord. Il importe de bien vérifier *les effets de bords*, c'est-à-dire:\n",
    " - vérifier le nombre d'itérations dans les boucles,\n",
    " - l'indice des éléments minimum et maximum,\n",
    " - comprendre le lien entre le *k-ième* élément de ``liste_bool``, le nombre dont il stocke la primalité et l'indice de cet élément.\n",
    " - attention à employer rigoureusement l'instruction ``range``.\n",
    " \n",
    " Important, l'énnoncé nous aide en donnant un exemple: pour $N=4$, la fonction renvoie une liste de 4 éléments [False, True,True,False] correspondant à la primalité des nombres 1,2,3,4.\n",
    " Ainsi, le premier élément de la liste contient la primalité du nombre 1. \n",
    " \n",
    " Donc\n",
    " **le k-ième élément de la liste, ``liste_bool[k-1]`` contient la primalité du nombre k.**\n",
    "\n",
    "Voici les principales difficultés :\n",
    "Comment initialiser une liste avec N booléens à ``True``?"
   ]
  },
  {
   "cell_type": "code",
   "execution_count": null,
   "metadata": {},
   "outputs": [],
   "source": [
    "liste_bool = [True] * N # N concaténations de liste\n",
    "# ou bien\n",
    "liste_bool = [ True for k in range(N)]"
   ]
  },
  {
   "cell_type": "markdown",
   "metadata": {},
   "source": [
    "Comment faire varier $i$ de 2 à $\\left \\lfloor \\sqrt{n}\\right \\rfloor$ ?"
   ]
  },
  {
   "cell_type": "code",
   "execution_count": null,
   "metadata": {},
   "outputs": [],
   "source": [
    "for i in range(2,floor(sqrt(N))+1): # CORRECT !\n",
    "\n",
    "for i in range(2,floor(sqrt(N))): # FAUX ! "
   ]
  },
  {
   "cell_type": "markdown",
   "metadata": {},
   "source": [
    "attention il faut bien le \" +1 \", sinon la valeur finale n'est pas atteinte"
   ]
  },
  {
   "cell_type": "markdown",
   "metadata": {},
   "source": [
    "Comment \"marquer faux tous les multiples de $i$ différents de $i$ dans list_bool? \n",
    "\n",
    "On pourrait être tenté d'utiliser un sciling de liste mais cela est un peu technique car l'affectation du genre:\n",
    "\n",
    "``L[a:b:step] = False``\n",
    "est impossible car le membre de gauche de l'affectation est une liste et le membre de droite est un booléen. Ce type d'affectation n'est pas légitime pour des listes en Python (Notons qu'elle le serait toutefois pour des tableaux Numpy).\n",
    "\n",
    "On pourrait contourner cette difficulté grâce à l'astuce suivante :"
   ]
  },
  {
   "cell_type": "code",
   "execution_count": null,
   "metadata": {},
   "outputs": [],
   "source": [
    "L[a:b:step] = [False] * len(L[a:b:step])"
   ]
  },
  {
   "cell_type": "markdown",
   "metadata": {},
   "source": [
    "qui permet de générer dans le membre de droite une liste initialisée à ``False`` comportant exactement le même nombre de termes que ceux devant être initialisés."
   ]
  },
  {
   "cell_type": "markdown",
   "metadata": {},
   "source": [
    "Une méthode plus *\"classique\"* (et plus sûre en concours) et d'utiliser une boucle ``for`` qui parcourt les éléments depuis le premier multiple de $i$, qui n'est pas $i$ (on doit partir de $2i$) jusqu'au dernier de la liste (donc le $N$-ième doit être atteint !) en incrémentant de $i$ à chaque itération.\n",
    "\n",
    "Rappel ``for k in range(a,b,step):``\n",
    "les valeurs prises par *k* sont *a*, *a+step*, *a+2step*, ... mais la valeur *b* **n'est pas atteinte**."
   ]
  },
  {
   "cell_type": "code",
   "execution_count": null,
   "metadata": {},
   "outputs": [],
   "source": [
    "for k in range(2*i,N+1,i): # attention N doit être atteint\n",
    "                liste_bool[k-1] = False"
   ]
  },
  {
   "cell_type": "markdown",
   "metadata": {},
   "source": [
    "Attention : ``liste_bool[k-1]`` désigne bien **le *k-ième* élément** de la liste, c'est celui qui code la primalité du nombre *k*.\n",
    "\n",
    "Voici une implémentation possible de la fonction demandée:"
   ]
  },
  {
   "cell_type": "code",
   "execution_count": 2,
   "metadata": {},
   "outputs": [],
   "source": [
    "def erato_iter(N):\n",
    "    if N < 1 :\n",
    "        print('N doit être >=1 ')\n",
    "        return\n",
    "    liste_bool = [True] * N # N concaténations de liste\n",
    "    liste_bool[0] = False # c'est le nombre 1\n",
    "    for i in range(2,floor(sqrt(N))+1):\n",
    "        if liste_bool[i-1] : # attention à l'indice\n",
    "            for k in range(2*i,N+1,i):\n",
    "                liste_bool[k-1] = False\n",
    "    return liste_bool\n"
   ]
  },
  {
   "cell_type": "markdown",
   "metadata": {},
   "source": [
    "Validation de la fonction sur un exemple ci-dessous."
   ]
  },
  {
   "cell_type": "code",
   "execution_count": null,
   "metadata": {},
   "outputs": [],
   "source": [
    "# affiche les nombres premiers inférieurs ou égaux à 25\n",
    "LL=erato_iter(25) \n",
    "for k in range(len(LL)):\n",
    "    if LL[k]: # LL[k] ==  primalité de k+1\n",
    "        print(k+1)"
   ]
  },
  {
   "cell_type": "markdown",
   "metadata": {},
   "source": [
    "## Q9\n",
    "\n",
    "Dans la question, la complexité doit être calculée *en ordre de grandeur*, il n'est pas nécessaire de compter **à l'opération près**. On peut considérer comme **opération élémentaire** le fait de \n",
    "*marquer comme Faux une valeur de la liste ``liste_bool``*.\n",
    "\n",
    "Pour évaluer la complexité algorithmique du crible d'Eratosthène, notons qu'il comporte une boucle qui s'effectue sur $\\left \\lfloor \\sqrt{n}\\right \\rfloor$ premières valeurs du tableau itérations.\n",
    "\n",
    "Deux cas sont possibles :\n",
    "\n",
    "- ou bien la valeur est déjà marquée comme Faux (le nombre n'est pas premier), dans ce cas, il est ignoré.\n",
    "- ou bien la valeur n'est pas marquée comme Faux (le nombre est considéré comme premier), dans ce cas on entre dans la seconde boucle.\n",
    "\n",
    "La seconde boucle s'effectue pour chaque nombre premier $p$ inférieur à $N$. Elle constite à marquer tous ses multiples (à l'exception de lui-même) : 2p, 3p, 4p, ..., kp jusqu'à dernier inférieur ou égal à $N$: \n",
    "**il y a donc de l'ordre de $N/p$ marquages** dans le tableau pour chaque itération de cette boucle.\n",
    "\n",
    "Ainsi, le nombre total de marquages est donc de \n",
    "$$ \\sum_{p<N,\\textrm{ $p$ premier}} \\frac{N}{p} \\approx N \\ln(\\ln(N))$$\n",
    "La complexité algorithmique du crible est donc\n",
    "$$C(n) \\sim  N \\ln(\\ln(N))$$\n",
    "Remarque : on vérifie évidemment qu'elle est supérieure à la complexité des $\\left \\lfloor \\sqrt{n}\\right \\rfloor$ termes de la première boucle:\n",
    "$$\\lim_{n\\to\\infty} \\sqrt{n}/C(n) =0$$."
   ]
  },
  {
   "cell_type": "markdown",
   "metadata": {},
   "source": [
    "## Q10 Complexité en fonction de la base\n",
    "\n",
    "- En base 10, le nombre 1000 = $10^3$ s'écrit avec 4 chifres.\n",
    "\n",
    "- En base 10, le nombre $10^k$, c'est écrit avec $k+1$ chiffres.\n",
    "\n",
    "Ainsi, un $N=b^n$ s'écrit en base $b$ avec $n+1$ chiffres. Son nombre de chiffres en base $b$ est donné en écrivant\n",
    "$$\\ln(N)=n \\ln(b)$$\n",
    "soit $$n=\\frac{\\ln(N)}{\\ln(b)}$$\n",
    "Ainsi, en base $b$, le nombre $N$ s'écrit avec un nombre de chiffres de l'ordre de $\\frac{\\ln(N)}{\\ln(b)}$.\n",
    "\n",
    "En base $b$, la complexité algorithmique du crible est donc:\n",
    "$$C(n)\\sim N \\ln(\\ln(N)) \\sim b^n \\ln(n\\ln(b)) $$\n",
    "La complexité, exprimée en fonction du nombre de chiffres $n$  en base 10, est donc\n",
    "$$C_{\\textrm{b=10}}(n) \\sim 10^n \\ln(n\\ln(10)) $$\n"
   ]
  }
 ],
 "metadata": {
  "kernelspec": {
   "display_name": "Python 3",
   "language": "python",
   "name": "python3"
  },
  "language_info": {
   "codemirror_mode": {
    "name": "ipython",
    "version": 3
   },
   "file_extension": ".py",
   "mimetype": "text/x-python",
   "name": "python",
   "nbconvert_exporter": "python",
   "pygments_lexer": "ipython3",
   "version": "3.7.6"
  }
 },
 "nbformat": 4,
 "nbformat_minor": 4
}
