{
 "cells": [
  {
   "cell_type": "raw",
   "metadata": {},
   "source": [
    "# Exercices des recursivité"
   ]
  },
  {
   "cell_type": "markdown",
   "metadata": {},
   "source": [
    "## Exercice 1 : Fonction factorielle\n",
    "\n",
    "### En utilisant les propriétés suivantes,\n",
    "\n",
    "- $0!=1$\n",
    "- $(n+1)!=(n+1) \\times n!$\n",
    "\n",
    "écrire en Python une fonction ``fac(n)`` qui renvoie le factoriel d'un nombre entier positif $n$ passé en paramètre. On donnera un algorithme récursif."
   ]
  },
  {
   "cell_type": "code",
   "execution_count": null,
   "metadata": {},
   "outputs": [],
   "source": [
    "def fac(n) : # version récursive"
   ]
  },
  {
   "cell_type": "code",
   "execution_count": 2,
   "metadata": {},
   "outputs": [
    {
     "name": "stdout",
     "output_type": "stream",
     "text": [
      "120\n"
     ]
    }
   ],
   "source": [
    "# Validation 5! = 120 ?\n",
    "print(fac(5))"
   ]
  },
  {
   "cell_type": "markdown",
   "metadata": {},
   "source": [
    "### Version iterative\n",
    "\n",
    "Proposer une version itérative de la fonction factorielle, ``facIter(n)``."
   ]
  },
  {
   "cell_type": "code",
   "execution_count": null,
   "metadata": {},
   "outputs": [],
   "source": [
    "def facIter(n) :  # version itérative de factorielle"
   ]
  },
  {
   "cell_type": "code",
   "execution_count": 4,
   "metadata": {
    "scrolled": true
   },
   "outputs": [
    {
     "name": "stdout",
     "output_type": "stream",
     "text": [
      "120\n"
     ]
    }
   ],
   "source": [
    "print(facIter(5))"
   ]
  },
  {
   "cell_type": "markdown",
   "metadata": {},
   "source": [
    "### Complexités temps et espace\n",
    "Comparer les complexités en temps et en espace de ces algorithmes.\n"
   ]
  },
  {
   "cell_type": "markdown",
   "metadata": {},
   "source": [
    "### Récursivité terminale\n",
    "Proposer une version en **récursivité terminale** de la fonction factorielle sur le modèle `` factTerm(n,res = 1)``.\n",
    "\n",
    "Rappel : une fonction récursive est dite *en récursivité terminale* si ** il n'y a aucun traitement entre l'appel récursif et le retour de la fonction**.\n",
    "Ainsi, l'appel récursif doit coïncider exactement à l'instruction ``return``.\n",
    "\n",
    "Par exemple : l'instruction ``return n*f(n-1)`` nécessite de conserver la valeur de la variable $n$ en attendant que le resultat de la fonction $f(n-1)$ soit retournée. Ainsi, un algorithme contenant cette instruction n'est donc pas un algorithme en récursivité terminale.\n",
    "\n",
    "L'idée est d'utiliser un second argument dans l'appel de la fonction qui sert à stocker le résultat des calculs intermédiaires. Un peu comme dans la version itérative, ce second argument, ici noté $res$, est multiplié progressivement de manière à construire la valeur finale qui sera renvoyée par la fonction au niveau de l'appel de terminaison."
   ]
  },
  {
   "cell_type": "code",
   "execution_count": null,
   "metadata": {},
   "outputs": [],
   "source": [
    "def factTerm(n, res = 1) # version en récursivité terminale de la factorielle"
   ]
  },
  {
   "cell_type": "code",
   "execution_count": 6,
   "metadata": {},
   "outputs": [
    {
     "data": {
      "text/plain": [
       "120"
      ]
     },
     "execution_count": 6,
     "metadata": {},
     "output_type": "execute_result"
    }
   ],
   "source": [
    "facTerm(5)"
   ]
  },
  {
   "cell_type": "markdown",
   "metadata": {},
   "source": [
    "## Exercice 2 : récursivité mutuelle\n",
    "\n",
    "On considère les deux suites $(u_n)$ et $(v_n)$ définies par $u_0=1$ et $v_0=-1$ et  $$ \\forall n\\in \\mathbb{N} \\quad \\left\\{ \\begin{array}{ccc} u_{n+1} & = & 3 u_n-\\frac{1}{2}v_n-2 \\\\\n",
    "v_{n+1} & = & - \\frac{2}{3} u_n+3v_n\\\\ \\end{array} \\right.$$\n",
    "\n",
    "Ecrire deux fonctions en langage Python ``suiteU(n)`` et ``suiteV(n)`` qui traduisent la définition par récurrence des suites $(u_n)$ et $(v_n)$ donnée ci-dessus.\n",
    "\n",
    "**Tester** votre algorithme en affichant les 8 premiers termes de la suite $(u_n)$."
   ]
  },
  {
   "cell_type": "code",
   "execution_count": null,
   "metadata": {},
   "outputs": [],
   "source": [
    "# Recursivité mutuelle\n",
    "def suiteU(n):\n",
    "\n",
    "def suiteV(n):\n"
   ]
  },
  {
   "cell_type": "code",
   "execution_count": 8,
   "metadata": {},
   "outputs": [
    {
     "name": "stdout",
     "output_type": "stream",
     "text": [
      "u (  0  ) =  1\n",
      "u (  1  ) =  1.5\n",
      "u (  2  ) =  4.333333333333333\n",
      "u (  3  ) =  17.0\n",
      "u (  4  ) =  68.44444444444444\n",
      "u (  5  ) =  267.3333333333333\n",
      "u (  6  ) =  1014.8148148148148\n",
      "u (  7  ) =  3776.0\n"
     ]
    }
   ],
   "source": [
    "# Validation\n",
    "for k in range (8): # k varie de zéro à 7 soit 8 valeurs\n",
    "    print('u ( ',k,' ) = ',suiteU(k))"
   ]
  },
  {
   "cell_type": "markdown",
   "metadata": {},
   "source": [
    "## Exercice 3 : suite de Fibonacci\n",
    "\n",
    "On considère la suite de Fibonacci $\\mathcal{F}_n$définie par:\n",
    "\n",
    "$\\mathcal{F}_0=0$, $\\mathcal{F}_1=1$, et $\\forall n>1, \\mathcal{F}_n=\\mathcal{F}_{n-1}+\\mathcal{F}_{n-2}$\n",
    "\n",
    "### Fibonacci récursive\n",
    "Ecrire une fonction Pyhton ``fibo(n)`` qui calcule le nième de la suite à partir de l'entier $n$ passé en argument en utilisant un algorithme récursif. Calculer la valeur $\\mathcal{F}_{15}$"
   ]
  },
  {
   "cell_type": "code",
   "execution_count": null,
   "metadata": {},
   "outputs": [],
   "source": [
    "def fibo(n): # version récursive"
   ]
  },
  {
   "cell_type": "code",
   "execution_count": null,
   "metadata": {},
   "outputs": [],
   "source": [
    "for k in range(16):\n",
    "    print(k,fibo(k))"
   ]
  },
  {
   "cell_type": "markdown",
   "metadata": {},
   "source": [
    "### Fibonacci : comptage du nombre d'additions.\n",
    "Modifier le code précédent de manière à afficher le nombre total d'additions exécutées, noté $C(n)$, correspondant à la complexité en temps. Faire afficher $C(15)$. Indication : on utilisera une variable global nommée ``nbAdd``."
   ]
  },
  {
   "cell_type": "code",
   "execution_count": 6,
   "metadata": {},
   "outputs": [
    {
     "name": "stdout",
     "output_type": "stream",
     "text": [
      "986\n"
     ]
    }
   ],
   "source": [
    "nbAdd = 0\n",
    "fibo(15)\n",
    "print(nbAdd)"
   ]
  },
  {
   "cell_type": "markdown",
   "metadata": {},
   "source": [
    "### Expression théorique de la complexité*\n",
    "Démontrer que la complexité en nombre d'additions est donné par :\n",
    "$$\\forall n\\in \\mathbb{N}, \\quad C(n)=\\frac{\\varphi^{n+1}}{\\sqrt{5}}-\\frac{(-\\varphi)^{-(n+1)}}{\\sqrt{5}}-1$$\n",
    "\n",
    "où $\\varphi=\\frac{1+\\sqrt{5}}{2}$ (aussi appelé \"nombre d'or\").\n",
    "\n",
    "Vérifier numériquement la validité de cette expression pour $n=6$.\n",
    "On définira une fonction ``C(n)`` qui renvoie la valeur numérique de la complexité pour un argument ``n`` entier."
   ]
  },
  {
   "cell_type": "code",
   "execution_count": 8,
   "metadata": {},
   "outputs": [],
   "source": [
    "import numpy as np # fonctions mathématiques\n",
    "phi = (1 + np.sqrt(5))/2\n",
    "def C(n):\n",
    "    return # A COMPLETER"
   ]
  },
  {
   "cell_type": "code",
   "execution_count": 9,
   "metadata": {},
   "outputs": [
    {
     "data": {
      "text/plain": [
       "986.0000000000005"
      ]
     },
     "execution_count": 9,
     "metadata": {},
     "output_type": "execute_result"
    }
   ],
   "source": [
    "# Validation numérique de l'expression donnée pour n=15\n",
    "C(15)"
   ]
  },
  {
   "cell_type": "markdown",
   "metadata": {},
   "source": [
    "Visualisation graphique de l'algorithme récursif.\n",
    "Avec la bibliothèque Python ``turtle``."
   ]
  },
  {
   "cell_type": "markdown",
   "metadata": {},
   "source": [
    "![Graph Fibonacci(5)](img/graphFibonacci.png)"
   ]
  },
  {
   "cell_type": "markdown",
   "metadata": {},
   "source": [
    "### Fibonacci itératif\n",
    "Proposer une **version non récursive** d'une fonction calculant le n-ième terme de la suite de Fibonacci, ``fiboIter(n)``."
   ]
  },
  {
   "cell_type": "markdown",
   "metadata": {},
   "source": [
    "L'idée est d'utiliser deux variables pour mémoriser les valeurs précédentes. Les variables sont initialisées à $\\mathcal{F}_0$, et $\\mathcal{F}_1$.\n",
    "\n",
    "Pour $n>1$, on effectue $n-1$ itérations de manière à recalculer la valeur de $\\mathcal{F}_n$ et à stocker la valeur $\\mathcal{F}_{n-1}$ qui servira pour le calcul suivant.\n",
    "\n",
    "*Attention* à ne pas se tromper sur le nombre d'itérations à effectuer : calculer $\\mathcal{F}_2$ demande d'effectuer une seule somme, c'est-à-dire d'appliquer une seule fois la relation de récurrence."
   ]
  },
  {
   "cell_type": "code",
   "execution_count": null,
   "metadata": {},
   "outputs": [],
   "source": [
    "def fiboIter(n) : # version itérative"
   ]
  },
  {
   "cell_type": "code",
   "execution_count": 17,
   "metadata": {},
   "outputs": [
    {
     "name": "stdout",
     "output_type": "stream",
     "text": [
      "0 0\n",
      "1 1\n",
      "2 1\n",
      "3 2\n",
      "4 3\n",
      "5 5\n",
      "6 8\n",
      "7 13\n",
      "8 21\n",
      "9 34\n",
      "10 55\n",
      "11 89\n",
      "12 144\n",
      "13 233\n",
      "14 377\n",
      "15 610\n"
     ]
    }
   ],
   "source": [
    "for k in range(16):\n",
    "    print(k,fiboIter(k))"
   ]
  },
  {
   "cell_type": "markdown",
   "metadata": {},
   "source": [
    "## Exercice 3 : le flocon de Koch\n",
    "\n",
    "Il s'agit d'une structure fractale construite \"*autour d'un triangle équilatéral*\"."
   ]
  },
  {
   "cell_type": "markdown",
   "metadata": {},
   "source": [
    "Etape (1)\n",
    "![Koch 1](img/koch1.png)"
   ]
  },
  {
   "cell_type": "markdown",
   "metadata": {},
   "source": [
    "Etape (2)\n",
    "![Koch 2](img/koch2.png)"
   ]
  },
  {
   "cell_type": "markdown",
   "metadata": {},
   "source": [
    "Etape (3)\n",
    "![Koch 3](img/koch3.png)\n"
   ]
  },
  {
   "cell_type": "markdown",
   "metadata": {},
   "source": [
    "A l'aide du module ``turtle``, on crée un objet Python qui permet de tracer des lignes brisées. On déplace ainsi la *tortue* en appelant des méthodes sur l'objet ``t=turtle.Turtle()`` qui sont les suivantes:\n",
    "- ``t.forward(d)`` : avance d'une longueur $d$,\n",
    "- ``t.right(angle)`` : tourne à droite de l'angle $angle$ (rotation horaire), l'angle étant exprimé en degrés.\n",
    "- ``t.left(angle)`` : tourne à gauche l'angle $angle$ (rotation dans le sens trigonométrique), l'angle étant exprimé en degrés.\n",
    "\n",
    "Commpléter le code ci-dessous de manière à générer le flocon de Koch."
   ]
  },
  {
   "cell_type": "code",
   "execution_count": 18,
   "metadata": {},
   "outputs": [],
   "source": [
    "# CODE à compléter\n",
    "import turtle # module turtle\n",
    "def koch(a, n):\n",
    "    if n == 0: # condition d'arret\n",
    "        t.forward(a)\n",
    "        return\n",
    "    # à compléter\n",
    "    #\n",
    "    #\n",
    "    \n",
    "# SCRIPT D'APPEL A LA FONCTION\n",
    "turtle.TurtleScreen._RUNNING = True\n",
    "w = turtle.Screen()\n",
    "\n",
    "w.setup(1400, 700) # taille de la zone de tracée (PIXELS_X, PIXELS_Y)\n",
    "w.clear()\n",
    "w.visible = True\n",
    "t = turtle.Turtle()\n",
    "t.speed(\"fastest\") # ou bien nombre entier entre 1 (lent) et 10 (rapide), zéro.\n",
    "t.up()\n",
    "t.setpos(-600, -200) # position initiale de la tortue\n",
    "t.down()\n",
    "koch(1200,1) # APPEL A LA FONCTION KOCH\n",
    "w.exitonclick()"
   ]
  },
  {
   "cell_type": "markdown",
   "metadata": {},
   "source": [
    "Réponse : il faut effectuer 4 appels récursifs à l'ordre $n-1$ et pour une longueur de segment divisée par 3."
   ]
  },
  {
   "cell_type": "markdown",
   "metadata": {},
   "source": [
    "## Exercice 4 : recherche d'un élément dans une liste triée\n",
    "On considère une liste triée par ordre croissant. On souhaite savoir si l'élément *x* est dans la liste.\n",
    "\n",
    "On souhaite savoir si un élément $x$ appartient à la liste en utilisant un algorithme récursif basé sur la principe de recherche par dichotomie.\n",
    "\n",
    "### Fonction qui renvoie un booléen\n",
    "Ecrire une telle fonction Python ``dansListe(L,x)`` qui, à partir d'une liste ``L`` que l'on suppose triée par ordre croissant, renvoie *True* si l'élément est dans la liste.\n",
    "\n",
    "Tester votre fonction sur la liste ``L0`` définie par:\n",
    "\n",
    "``L0 = [ 2*k+1 for k in range(int(2e4)) if k %17 ==0 or k %3 ==0]``\n",
    "(Rappel : une telle liste est dite \"définie *en compréhension*\")\n",
    "en y recherchant les éléments $x$ suivants: 561, 12409, 17477, 22501."
   ]
  },
  {
   "cell_type": "code",
   "execution_count": null,
   "metadata": {},
   "outputs": [],
   "source": [
    "def dansListe(L, x) : # recherche dichotomique dans une liste triée à compléter\n",
    "    n = len(L)\n",
    "    if n == 0 :\n",
    "        # à compléter\n",
    "    m = # \"milieu\" de la liste\n",
    "   \n",
    "    if  # élémet trouvé à l'indice m\n",
    "        return True\n",
    "    elif # condition de dichotomie    \n",
    "         # recherche dans la sous-liste de drotie\n",
    "        return dansListe(L[## ], x) #slicing\n",
    "    else : # sous liste de 'gauche'\n",
    "        return dansListe(L[##], x) #slicing"
   ]
  },
  {
   "cell_type": "markdown",
   "metadata": {},
   "source": [
    "### Comptage du nombre d'appels\n",
    "Modifier le programme proposé de manière à compter le nombre d'appels à la fonction pour chacun des cas recherchés. Afficher le cardinal de la liste *L0*. Commenter."
   ]
  },
  {
   "cell_type": "code",
   "execution_count": 21,
   "metadata": {},
   "outputs": [
    {
     "name": "stdout",
     "output_type": "stream",
     "text": [
      "len(L0) =  7451\n",
      "False 14\n",
      "True 11\n",
      "False 14\n",
      "True 4\n",
      "True 12\n"
     ]
    }
   ],
   "source": [
    "# CODE DE VALIDATION\n",
    "L0 = [ 2*k+1 for k in range(int(2e4)) if k %17 == 0 or k %3 == 0]\n",
    "xListe = [561, 12409, 17471, 22501, 39997]\n",
    "print('len(L0) = ',len(L0))\n",
    "for x in xListe:\n",
    "    nbAppel=0\n",
    "    dans = dansListe(L0,x)\n",
    "    print(dans, nbAppel)"
   ]
  },
  {
   "cell_type": "markdown",
   "metadata": {},
   "source": [
    "## Exercice 5 : Triangle de Pascal et ensemble des parties d'un ensemble\n",
    "\n",
    "On note $\\begin{pmatrix} n \\\\ k \\\\ \\end{pmatrix}$ le nombre de parties d'un ensemble à $n$ éléments qui contiennent $k$ éléments.\n",
    "\n",
    "### Construction récursive du triangle de Pascal\n",
    "\n",
    "Construire de manière récursive le triangle de Pascal en utilisant les propriétés suivantes: \n",
    "\n",
    "$$\\begin{pmatrix} n \\\\ k  \\end{pmatrix}=\n",
    "\\begin{pmatrix} n-1 \\\\ k  \\end{pmatrix} + \\begin{pmatrix} n-1 \\\\ k-1  \\end{pmatrix}\n",
    "$$\n",
    "Et pour un ensemble à $n=1$ élément, il n'y a qu'une seule partie qui contienne un nombre nombre $k$ d'éléments ($k=0$ ou $k=1$).\n",
    "Compléter le code ci-dessous."
   ]
  },
  {
   "cell_type": "code",
   "execution_count": null,
   "metadata": {},
   "outputs": [],
   "source": [
    "def C(k,n):\n",
    "    if (k < 0) or (k > n): # k doit être compris entre 0 et n au sens large\n",
    "        # A COMPLETER\n",
    "        return ...\n",
    "    if (n == 1): # pour un ensemble à 1 élément, il n'y a une manière \n",
    "                #unique de construire les parties (à zéro ou 1 élément)\n",
    "        return ...\n",
    "    return ..."
   ]
  },
  {
   "cell_type": "code",
   "execution_count": 17,
   "metadata": {},
   "outputs": [
    {
     "name": "stdout",
     "output_type": "stream",
     "text": [
      "462\n",
      "462.0\n"
     ]
    }
   ],
   "source": [
    "# COMPARAISON AVEC L'EXPRESSION N!/((N-k)!k!)\n",
    "print(C(5,11))\n",
    "print(fac(11)/((fac(5)*fac(11-5))))"
   ]
  },
  {
   "cell_type": "markdown",
   "metadata": {},
   "source": [
    "###  Ensemble des parties d'un ensemble à $k$ éléments*\n",
    "Proposer l'algorithme d'une *fonction récursive*  ``parties(L,k)`` qui donne toutes les parties à $k$ éléments de l'ensemble $L$ à $n$ éléments passé comme argument.\n",
    "\n",
    "Attention: cette fonction renvoie une **liste de parties**, chaque *partie* étant elle-même un sous-ensemble ( = une sous-liste) de la liste initiale. Le résultat de la fonction est donc une **liste de listes**.\n",
    "\n",
    "Indications :\n",
    "\n",
    "- lorsque $k=0$, il n'y a qu'une seule partie possible - c'est *l'ensemble vide*. La fonction renverra donc la liste ``[[]]``, c'est-à-dire une liste ne contenant que la liste vide.\n",
    "\n",
    "- lorsque $k=n$, il n'y a encore qu'une seule partie possible. C'est la liste $L$ au complet. La fonction renverra donc une liste ne contenant que cette partie.\n",
    "\n",
    "- dans les autres cas, on utilise le fait que l'on peut obtenir l'ensemble des parties contenant $k$ éléments à partir de :\n",
    "    - l'ensemble des parties contenant $k$ éléments de la sous-liste $L[0:-1]$ \n",
    "    - l'ensemble des parties contenant $k-1$ éléments de la sous-listes $L[0:-1]$ en ajoutant à chacune de ces parties le dernier élément de la liste $L$.\n",
    "\n",
    "Pour ajouter un élément à chaque partie, on pourra parcourir la liste des parties ``parties`` à l'aide d'une boucle de la forme :\n",
    "\n",
    "`` for p in parties :\n",
    "        p.append(...) ``"
   ]
  },
  {
   "cell_type": "code",
   "execution_count": null,
   "metadata": {},
   "outputs": [],
   "source": [
    "def parties(L,k): # ensemble des parties à k éléments\n",
    "    "
   ]
  },
  {
   "cell_type": "code",
   "execution_count": 22,
   "metadata": {},
   "outputs": [
    {
     "name": "stdout",
     "output_type": "stream",
     "text": [
      "k= 0  nb =  1 1\n",
      "[[]]\n",
      "k= 1  nb =  4 4\n",
      "[[0], [1], [2], [3]]\n",
      "k= 2  nb =  6 6\n",
      "[[0, 1], [0, 2], [1, 2], [0, 3], [1, 3], [2, 3]]\n",
      "k= 3  nb =  4 4\n",
      "[[0, 1, 2], [0, 1, 3], [0, 2, 3], [1, 2, 3]]\n",
      "k= 4  nb =  1 1\n",
      "[[0, 1, 2, 3]]\n"
     ]
    }
   ],
   "source": [
    "# VALIDATION\n",
    "N = 4 # ensemble à 4 éléments\n",
    "L0 = [j for j in range(N)]\n",
    "for k in range(N + 1):\n",
    "    ensParties = parties(L0,k)\n",
    "    print('k=', k,' nb = ', len(ensParties), C(k,N))\n",
    "    print(ensParties)"
   ]
  },
  {
   "cell_type": "markdown",
   "metadata": {},
   "source": [
    "### Ensemble des parties d'un ensemble\n",
    "Proposer une fonction ``ensPartieTotal(L)`` qui renvoie l'ensemble des parties d'un ensemble à *n=len(L)* éléments à partir d'une liste *L* fournie en argument. On utilisera un algorithme récursif ne faisant pas appel à la fonction ``parties(L,k)`` précédemment définie mais se basant sur des propriétés suivantes :\n",
    "\n",
    "1) L'ensemble des parties d'un ensemble à zéro élement est l'ensemble vide.\n",
    "\n",
    "2) L'ensemble des parties d'un ensemble à $n>0$ éléments est la réunion de :\n",
    "\n",
    "- l'ensemble P des parties de cet ensemble lorsqu'il est privé de son dernier élément, ``L[-1]``;\n",
    "- l'ensemble des éléments de P auxquels on ajoute l'élément ``L[-1]``.\n",
    "\n",
    "\n",
    "Tester votre fonction à l'aide du script de test qui permet d'afficher l'ensemble des parties de la liste \n",
    "`` L0=['a','b','c','d']``\n",
    "\n",
    "Vérifier également que le nombre de parties de cet ensemble à $n$ élément est égal à $2^n$."
   ]
  },
  {
   "cell_type": "code",
   "execution_count": null,
   "metadata": {},
   "outputs": [],
   "source": [
    "def ensPartieTotal(L): # ensemble des parties de l'ensemble L (récursivité)\n",
    "    if # condition d'arrêt\n",
    "        return ## ensemble ne contenant que l'ensemble vide...\n",
    "    res = # appel récursif pour déterminer P\n",
    "    if len(res)>0 : # ajout du dernier élément à P\n",
    "        for el in res :\n",
    "            ## à compléter\n",
    "    return ## à compléter"
   ]
  },
  {
   "cell_type": "code",
   "execution_count": 27,
   "metadata": {},
   "outputs": [],
   "source": [
    "L0 = ['a','b','c','d']"
   ]
  },
  {
   "cell_type": "code",
   "execution_count": 28,
   "metadata": {},
   "outputs": [
    {
     "name": "stdout",
     "output_type": "stream",
     "text": [
      "[[], ['a'], ['b'], ['a', 'b'], ['c'], ['a', 'c'], ['b', 'c'], ['a', 'b', 'c'], ['d'], ['a', 'd'], ['b', 'd'], ['a', 'b', 'd'], ['c', 'd'], ['a', 'c', 'd'], ['b', 'c', 'd'], ['a', 'b', 'c', 'd']]\n",
      "Card(Ensemble des Parties) =  16\n"
     ]
    }
   ],
   "source": [
    "rr=ensPartieTotal(L0)\n",
    "#print(rr)\n",
    "print(rr)\n",
    "print('Card(Ensemble des Parties) = ',len(rr))"
   ]
  },
  {
   "cell_type": "markdown",
   "metadata": {},
   "source": [
    "## Exercice 6 : Ensemble des permutations\n",
    "Ecrire une fonction python ``perm(L)`` qui renvoie l'ensemble des permutations d'un ensemble à $n$ éléments fourni en argument. Utiliser un algorithme récursif.\n",
    "\n",
    "Par exemple, pour ``L=['a','b','c']``, la fonction renvoie la liste suivante :\n",
    "\n",
    "``[['c', 'b', 'a'], ['c', 'a', 'b'], ['b', 'c', 'a'], ['a', 'c', 'b'], ['b', 'a', 'c'], ['a', 'b', 'c']]``\n",
    "\n",
    "Indication. Utiliser la propriété suivante :\n",
    "les permutations d'un ensemble à $n$ éléments s'obtiennent à partir des permutations $p_k$ de l'ensemble à $n-1$ éléments obtenu en retirant le dernier élément $L[-1]$ de cet ensemble et en insérant cet élément $L[-1]$ dans **l'une quelconque des $n$ positions possibles** pour chaque permutations $p_k$ contenant $n-1$ éléments:\n",
    "\n",
    " - AVANT le premier élément\n",
    " - entre l'élément 1 et l'élément 2, ...\n",
    " - entre l'élément $k$ et l'élément $k+1$,  ...\n",
    " - APRES le dernier élément.\n",
    " \n",
    " Note:\n",
    " \n",
    " - on pourra utiliser l'instruction ``L.insert(k,toAdd)`` qui insère l'élément ``toAdd`` en $k$-ième position dans la liste ``L``.\n",
    " - on prendra garde au caractère *mutable* de l'objet liste Python qui interdit notamment d'effectuer successivement plusieurs insersions du même type dans la liste ``L`` sous peine d'accroître sa taille au délà..."
   ]
  },
  {
   "cell_type": "code",
   "execution_count": 30,
   "metadata": {},
   "outputs": [
    {
     "name": "stdout",
     "output_type": "stream",
     "text": [
      "[['c', 'b', 'a'], ['c', 'a', 'b'], ['b', 'c', 'a'], ['a', 'c', 'b'], ['b', 'a', 'c'], ['a', 'b', 'c']]\n",
      "6 12\n",
      "2.0\n"
     ]
    }
   ],
   "source": [
    "# Pour un ensemble à 3 éléments\n",
    "L0=['a','b','c']\n",
    "nbCall=0\n",
    "res=perm1(L0)\n",
    "print(res)\n",
    "print(len(res),nbCall)\n",
    "print(nbCall/len(res))"
   ]
  },
  {
   "cell_type": "markdown",
   "metadata": {},
   "source": [
    "## Exercice 7 : combinaisons d'entiers\n",
    "\n",
    "Soit $n$ un entier naturel non nul, une **combinaison** de l'entier $n$ est une liste $(n_1,...,n_p)$ d'entiers supérieurs ou égaux à 1 dont la somme fait $n$, *i.e.* la décomposition $3=2+1$ diffère de la combinaison $(1,2)$, *i.e.* $3=1+2$.\n",
    "\n",
    "Le but de cet exercice est de générer toutes les combinaisons d'un entier $n$.\n",
    "\n",
    "Une combinaison sera représentée sous forme de liste et donc l'ensemble des combinaisons sous forme de liste de listes.\n",
    "\n",
    "Pour $n=1$, la seule combinaison est $(1)$, l'ensemble des combinaisons est donc $\\left\\{(1)\\right\\}$, ce qui s'écrit en Pyhon ``[[1]]``.\n",
    "\n",
    "Pour $n=2$, les combinaisons sont $(2)$ et $(1,1)$, ce qui s'écrit $\\left\\{(2),(2,1)\\right\\}$ ou en Python:\n",
    "\n",
    "``[[2],[1,1]]``\n",
    "\n",
    "On peut générer l'ensemble des combinaisons de $n$ de la manière suivante :\n",
    "- Si $n=1$, la seule combinaison est ``[[1]]``\n",
    "- Si $n>1$, l'une des combinaisons est simplement $(n)$, et les autres sont obtenues à partir d'un entier $i\\in [\\![ 1,n-1]\\!]$ : on génère toutes les combinaisons de $i$ et on ajoute $n-1$ à la fin pour obtenir une combinaison de $n$.\n",
    "\n",
    "On obtient ainsi toutes les combinaisons de $n$ à l'aide d'un algorithme récursif.\n",
    "\n",
    "Mettre en oeuvre cet algorithme en créant une fonction ``getCombinaisons(n)`` qui renvoie les combinaisons de l'entier *n* passé en argument.\n",
    "\n",
    "Afficher les combinaisons pour les 5 entiers naturels positifs afin de tester votre programme.\n"
   ]
  },
  {
   "cell_type": "code",
   "execution_count": null,
   "metadata": {},
   "outputs": [],
   "source": [
    "def getCombinaisons(n): # version récursive\n",
    "    "
   ]
  },
  {
   "cell_type": "code",
   "execution_count": 37,
   "metadata": {},
   "outputs": [
    {
     "name": "stdout",
     "output_type": "stream",
     "text": [
      "1 [[1]]\n",
      "2 [[2], [1, 1]]\n",
      "3 [[3], [1, 2], [2, 1], [1, 1, 1]]\n",
      "4 [[4], [1, 3], [2, 2], [1, 1, 2], [3, 1], [1, 2, 1], [2, 1, 1], [1, 1, 1, 1]]\n"
     ]
    }
   ],
   "source": [
    "# Validation du programme\n",
    "for k in range(1,5):\n",
    "    res = getCombinaisons(k)\n",
    "    print(k,res)"
   ]
  },
  {
   "cell_type": "markdown",
   "metadata": {},
   "source": [
    "## Exercice 8 : Tri récursif par insertion\n",
    "\n",
    "### Insertion récursive\n",
    "Ecrire en langage Python une fonction ``triRecInsert(L)`` qui renvoie une liste triée à partir de la liste d'éléments de la liste *L* passé en argument selon la relation d'ordre totale *<* sur les éléments de *L*. On utilisera les propriétés suivantes :\n",
    "\n",
    "- si la liste contient **moins de deux éléments** ($n=len(L)\\leq1$), elle est considérée comme triée\n",
    "- si la liste convient au moins deux éléments, on isole le premier élément que l'on insère en parcourant linéairement la sous-liste des $n-1$ derniers éléments de $L$.\n",
    "\n",
    "Note: faire attention au caractère *mutable de l'objet liste* en Python dans la conception de votre algorithme.\n",
    "\n",
    "**Tester** la fonction ainsi créée sur la liste de nombres entiers:\n",
    "\n",
    "``L0=[1,-3,2,91,4,5,8,-12,102,43,28,32,-1000,4,5,18]``"
   ]
  },
  {
   "cell_type": "code",
   "execution_count": null,
   "metadata": {},
   "outputs": [],
   "source": [
    "def triRecInsert(L): # tri récursif par insertion\n",
    "    n = len(L)\n",
    "    if # condition d'arrêt\n",
    "        return L\n",
    "    Lsub = # sous-liste triée des n-1 éléments restants\n",
    "    for k in range(n-1): # recherche d'une position d'insertion\n",
    "        if L[0] < Lsub[k]: # condition d'insertion\n",
    "            return # insertion à l'emplacement k par concaténation\n",
    "    return  #cas où l'élément est inséré en fin de liste"
   ]
  },
  {
   "cell_type": "code",
   "execution_count": 39,
   "metadata": {},
   "outputs": [
    {
     "name": "stdout",
     "output_type": "stream",
     "text": [
      "[-1000, -12, -3, 1, 2, 4, 4, 5, 5, 8, 18, 28, 32, 43, 91, 102]\n"
     ]
    }
   ],
   "source": [
    "L0 = [1,-3,2,91,4,5,8,-12,102,43,28,32,-1000,4,5,18]\n",
    "res = triRecInsert(L0)\n",
    "print(res)"
   ]
  },
  {
   "cell_type": "markdown",
   "metadata": {},
   "source": [
    "### Application pour une matrice aléatoire\n",
    "\n",
    "**Application au tri des lignes d'une matrice aléatoire**\n",
    "\n",
    "Importer la bibliothèque *numpy* avec l'alias *np*. Utiliser sa méthode ``random.rand(n,m)`` qui crée une matrice ( = objet Python $\\verb|numpy.ndarray|$) possédant $n$ lignes et $m$ colonnes pour tester le fonctionnement de la fonction ``triRecInsert(L)`` sur les $m$ lignes de cette matrice.\n",
    "\n",
    "Pour cela, on utisera :\n",
    "1. La méthode ``np.shape(M)`` qui renvoie *tuple* contenant la structure de l'objet.\n",
    "\n",
    "Exemple, avec ``nx,ny=np.shape(M)`` *nx* est la taille de la dimension relative au premier indice de *M* et *ny* est la taille de la dimension relative au second indice de *M*.\n",
    "\n",
    "2. La méthode ``X.tolist()`` qui renvoie un *numpy array* converti en liste (ou en liste de listes pour les matrices).\n",
    "\n",
    "3. La comparaison entre deux listes : \n",
    "\n",
    "``La==Lb`` est vraie si et seulement si\n",
    "- les deux listes ont le même nombre $n$ d'éléments \n",
    "- et $$\\forall k =0\\ldots n-1, \\quad \\verb|La[k]|=\\verb|Lb[k]| $$.\n",
    "\n",
    "\n",
    "4. Le *slicing*  sur les objets de type *numpy array*. \n",
    "\n",
    "Exemple si\n",
    "\n",
    "``M=np.array([[i+j*4 for i in range(4)] for j in range(5)])``\n",
    "\n",
    "soit \n",
    "``array([[ 0,  1,  2,  3],\n",
    "       [ 4,  5,  6,  7],\n",
    "       [ 8,  9, 10, 11],\n",
    "       [12, 13, 14, 15],\n",
    "       [16, 17, 18, 19]])``\n",
    "\n",
    "``M[1,:]`` renvoie la sous-matrice de la deuxième ligne (d'indice python i=1):\n",
    "\n",
    "``array([4, 5, 6, 7])``\n",
    "\n",
    "``M[:,2:4]`` renvoie la sous-matrice correspondant aux troisième et quatrième colonnes (d'indices python 2 et 3):\n",
    "\n",
    "``array([[ 2,  3],\n",
    "       [ 6,  7],\n",
    "       [10, 11],\n",
    "       [14, 15],\n",
    "       [18, 19]])``\n"
   ]
  },
  {
   "cell_type": "code",
   "execution_count": 40,
   "metadata": {},
   "outputs": [
    {
     "name": "stdout",
     "output_type": "stream",
     "text": [
      "ok\n",
      "ok\n",
      "ok\n",
      "ok\n",
      "ok\n",
      "ok\n",
      "ok\n",
      "ok\n",
      "ok\n",
      "ok\n"
     ]
    }
   ],
   "source": [
    "import numpy as np\n",
    "M=np.random.rand(5,10)\n",
    "n,m=np.shape(M)\n",
    "for k in range(m):\n",
    "    L0=M[:,k]\n",
    "    L0=L0.tolist()\n",
    "    La=L0.copy()\n",
    "    La.sort()\n",
    "    if La==triRecInsert(L0):\n",
    "        print('ok')\n",
    "    else:\n",
    "        print('!')"
   ]
  },
  {
   "cell_type": "markdown",
   "metadata": {},
   "source": [
    "## Exercice 9 : Exponentiation et exponentiation rapide\n",
    "\n",
    "On considère la fonction suivante écrite en Python:\n",
    "\n"
   ]
  },
  {
   "cell_type": "code",
   "execution_count": 41,
   "metadata": {},
   "outputs": [],
   "source": [
    "def puissance1(a,n):\n",
    "    \"\"\"Fonction récursive qui calcule a^n:\n",
    "    entrées : a, nombre réel, n nombre entier naturel\n",
    "    sorties : a^n    \"\"\"\n",
    "    if n==0 :\n",
    "        return 1\n",
    "    return a*puissance1(a,n-1)"
   ]
  },
  {
   "cell_type": "markdown",
   "metadata": {},
   "source": [
    "### Théorie de l'exponentiation\n",
    "Décrire l'algorithme présenté : est-il récursif ? S'agit-il de récursivité simple, multiple, mutuelle?\n",
    "\n",
    "Prouver:\n",
    "- la **terminaison** de l'algorithme\n",
    "- sa **correction** (= montrer qu'il renvoie effectivement $a^n$)\n",
    "\n",
    "Calculer sa complexité en temps, $C(n)$, en terme de nombre d'appels récursifs."
   ]
  },
  {
   "cell_type": "markdown",
   "metadata": {},
   "source": [
    "### Version terminale\n",
    "\n",
    "Reformuler l'algorithme précédent en version **terminale** sur le modèle ``puissanceTerm(a,n,res=1)``.\n",
    "\n",
    "Le tester pour $a=2$ et $n=5$, puis pour $a=3$ et $n=0$.\n",
    "\n",
    "Avec un script utilisant cette fonction calculer la somme $S_n(a)$ des $n$ premières puissances de $a$, et $a^0$ étant considéré comme le premier terme :\n",
    "$$S_n=a^0 + a^1 + a^2 + \\ldots + a^{(n-1)}$$\n",
    "Donner la valeur numérique $n=10$ et $a=3$."
   ]
  },
  {
   "cell_type": "code",
   "execution_count": null,
   "metadata": {},
   "outputs": [],
   "source": [
    "def puissanceTerm(a, n, res = 1): # version récursivité terminale\n",
    "    if : # condition d'arrêt\n",
    "        return #\n",
    "    return # à compléter"
   ]
  },
  {
   "cell_type": "code",
   "execution_count": 43,
   "metadata": {},
   "outputs": [
    {
     "name": "stdout",
     "output_type": "stream",
     "text": [
      "32\n",
      "1\n",
      "29524\n"
     ]
    }
   ],
   "source": [
    "print(puissanceTerm(2,5))\n",
    "print(puissanceTerm(3,0))\n",
    "somme=0\n",
    "for k in range(10):\n",
    "    somme += puissanceTerm(3,k)\n",
    "print(somme)    "
   ]
  },
  {
   "cell_type": "markdown",
   "metadata": {},
   "source": [
    "Remarque : on vérifie bien l'égalité $$S_n(a)=\\sum_{k=0}^{n-1} a^k=\\frac{1-a^n}{1-a}$$"
   ]
  },
  {
   "cell_type": "code",
   "execution_count": 44,
   "metadata": {},
   "outputs": [
    {
     "data": {
      "text/plain": [
       "29524.0"
      ]
     },
     "execution_count": 44,
     "metadata": {},
     "output_type": "execute_result"
    }
   ],
   "source": [
    "(1-3**10)/(1-3) # pour a=3 et n=10"
   ]
  },
  {
   "cell_type": "markdown",
   "metadata": {},
   "source": [
    "### Exponentiation rapide récursive.\n",
    "\n",
    "L'algorithme d'exponentiation rapide (en anglais *square-and-multiply*) est basée la propriété suivante :\n",
    "$$ a^n= \\quad \\left\\{ \\begin{array}{ccl} \n",
    "1  & \\textrm{si } \\, n & =0  \\\\\n",
    "a^{n/2}\\times a^{n/2} & \\textrm{si } \\, n & \\textrm{est pair} \\\\\n",
    "a\\times a^{(n-1)/2}\\times a^{(n-1)/2} &\\textrm{si } \\, n & \\textrm{est impair}\n",
    "\\end{array} \\right.$$\n",
    "\n",
    "Ecrire en langage Python la fonction ``puissanceRapide(a,n)`` qui utilise cette propriété de manière récursive.\n",
    "\n",
    "**La tester** pour calculer $3^{128}$.\n"
   ]
  },
  {
   "cell_type": "code",
   "execution_count": null,
   "metadata": {},
   "outputs": [],
   "source": [
    "def puissanceRapide(a,n):\n",
    "    "
   ]
  },
  {
   "cell_type": "code",
   "execution_count": 46,
   "metadata": {},
   "outputs": [
    {
     "name": "stdout",
     "output_type": "stream",
     "text": [
      "11790184577738583171520872861412518665678211592275841109096961\n",
      "11790184577738583171520872861412518665678211592275841109096961\n"
     ]
    }
   ],
   "source": [
    "print(puissanceRapide(3,128))\n",
    "print(3**128)"
   ]
  },
  {
   "cell_type": "markdown",
   "metadata": {},
   "source": [
    "**Calculer la complexité en temps** de cet algorithme (on supposera que $n$ s'ecrit sous la forme $2^p$), et comptera le nombre d'appels à la fonction."
   ]
  },
  {
   "cell_type": "markdown",
   "metadata": {},
   "source": [
    "Comme $n$ est une puissance de $2$, la fonction ``puissanceRapide`` est appelée lors des récurrences successives avec un argument $n$ qui est pair.\n",
    "\n",
    "Ainsi, au premier appel, l'argument est la valeur initiale de $n$, notée $n_0$.\n",
    "\n",
    "Au second appel, $n$ est divisée par $2$ et vaut $2^{p-1}=n_0/2$, au troisième appel, $n$ est encore divisée et vaut $2^{p-2}=n_0/2^2$, etc ... Lorsque $n$ vaut $1$, c'est-à-dire au bout de $p$ divisions par $2$, et donc de $p+1$ appels, la fonction est appelée une dernière fois avec l'argument $n//2$ qui vaut donc zéro. Cela constitue la condition d'arrêt de la fonction récursive qui renvoie 1 dans ce cas.\n",
    "\n",
    "*In fine*, pour $n=2^p$, il y a $(p+2)$ appels à la fonction.\n",
    "\n",
    "Or, de $n=2^p$, on tire $p=\\log(n)/\\log(2)$, d'où la complexité:\n",
    "$$C(n)=\\frac{\\log(n)}{\\log(2)} +2=\\log_2(n)+2$$\n",
    "\n",
    "L'algorithme possède donc une complexité logarithmique.\n",
    "\n",
    "*Remarque* : une autre manière d'évaluer la complexité est de considérer que les appels à fonction vont se faire avec les arguments suivants: $n=0$, $n=1$, $n=2$, $n=2^2$, $n=2^3$, ..., $n=2^p$. On voit bien que la liste comprend $(p+2)$ valeurs.\n"
   ]
  },
  {
   "cell_type": "markdown",
   "metadata": {},
   "source": [
    "**Modifier le programme** en ajoutant une variable globale de manière à compter le nombre d'appels à la fonction ``puissanceRapide(a,n)`` lors du calcul de $3^{128}$."
   ]
  },
  {
   "cell_type": "markdown",
   "metadata": {},
   "source": [
    "###  Critique d'un code existant\n",
    "\n",
    "Un élève propose l'algorithme suivant. Est-il correct? En faire la critique. Calculer la complexité $C(n)$ en nombre d'appels à la fonction pour un argument $n$ de la forme $n=2^p$, $p$ étant un entier naturel."
   ]
  },
  {
   "cell_type": "code",
   "execution_count": 48,
   "metadata": {},
   "outputs": [],
   "source": [
    "def puissance2(a,n):\n",
    "    global nbAppels\n",
    "    nbAppels+=1\n",
    "    if n==0:\n",
    "        return 1\n",
    "    if (n%2==0): \n",
    "        return puissance2(a,n//2)*puissance2(a,n//2) \n",
    "    else:\n",
    "        return a*puissance2(a,n//2)*puissance2(a,n//2)"
   ]
  },
  {
   "cell_type": "code",
   "execution_count": 49,
   "metadata": {},
   "outputs": [
    {
     "name": "stdout",
     "output_type": "stream",
     "text": [
      "11790184577738583171520872861412518665678211592275841109096961\n",
      "11790184577738583171520872861412518665678211592275841109096961\n",
      "511\n"
     ]
    }
   ],
   "source": [
    "nbAppels = 0\n",
    "print(puissance2(3,128))\n",
    "print(3**128)\n",
    "print(nbAppels)"
   ]
  },
  {
   "cell_type": "code",
   "execution_count": 50,
   "metadata": {},
   "outputs": [
    {
     "data": {
      "text/plain": [
       "511"
      ]
     },
     "execution_count": 50,
     "metadata": {},
     "output_type": "execute_result"
    }
   ],
   "source": [
    "4*128-1"
   ]
  },
  {
   "cell_type": "markdown",
   "metadata": {},
   "source": [
    "### Exponentiation rapide en récursivité terminale\n",
    "\n",
    "Proposer une version en **récursivité terminale** de l'algorithme d'exponentiation rapide sur le modèle de fonction ``puissanceRapideTerm(a,n,res=1)``.\n",
    "\n",
    "Utiliser pour cela la définition par récurrence de la puissance $n$ième d'un réel $a$ par:\n",
    "$$ \\textrm{puissance}(a,n)= \\quad \\left\\{ \\begin{array}{ccl} \n",
    "1  & \\textrm{si } \\, n & =0  \\\\\n",
    "a  & \\textrm{si } \\, n & =1  \\\\\n",
    "\\textrm{puissance}(a^2,n/2) & \\textrm{si } \\, n & \\textrm{est pair} \\\\\n",
    "\\textrm{puissance}(a^2,(n-1)/2)\\times a &\\textrm{si } \\, n & \\textrm{est impair}\n",
    "\\end{array} \\right.$$"
   ]
  },
  {
   "cell_type": "markdown",
   "metadata": {},
   "source": [
    "*Indications* : \n",
    "\n",
    "- Commencer par proposer un algorithme terminal récursif valable dans le cas où $n$ est une puissance de $2$, $n=2^p$.\n",
    "\n",
    "\n",
    "- L'idée est d'utiliser l'argument auxiliaire $res$ tout comme pour l'algorithme de récursivité terminale ($\\verb|puissanceTerm|(a,n)$) . Avec cet argument on mémorise, les multiplications sucessives par l'argument $a$ qui n'entrent pas dans le schéma de récurrence simple où ($\\verb|puissanceTerm|(a*a,n/2)$) lorsque $n$ est une puissance de 2.\n",
    "\n",
    "\n",
    "- Considérer le schéma ci-dessous :\n",
    "\n",
    " * $3^{11}$ = ? On pose $11=2\\times p+1$, avec $p=5$, soit $3^{11} = (3^5)^2 \\times 3$\n",
    "\n",
    " * $3^5$ = ? On pose  $5=2\\times p+1$, avec $p=2$ soit $3^{5} = (3^2)^2 \\times 3$\n",
    "\n",
    " * $3^2$ = ? On pose $2=2\\times p$, avec $p=1$ soit $3^{2}=(3^1)^2$\n",
    "\n",
    " * $3^1$ = ? Ici, l'exposant vaut 1 donc on utilise le fait que $a^1=a$"
   ]
  },
  {
   "cell_type": "code",
   "execution_count": null,
   "metadata": {},
   "outputs": [],
   "source": [
    "def puissanceRapideTermAux(a,n): # n doit être une puissance de 2\n",
    "    "
   ]
  },
  {
   "cell_type": "code",
   "execution_count": 26,
   "metadata": {},
   "outputs": [
    {
     "name": "stdout",
     "output_type": "stream",
     "text": [
      "1 1\n",
      "3 3\n",
      "9 9\n",
      "27 27\n",
      "81 81\n",
      "243 243\n",
      "729 729\n",
      "2187 2187\n"
     ]
    }
   ],
   "source": [
    "for k in range(8): # VALIDATION\n",
    "    print(3**k,puissanceRapideTerm(3,k))"
   ]
  },
  {
   "cell_type": "code",
   "execution_count": null,
   "metadata": {},
   "outputs": [],
   "source": [
    "def puissanceRapideTerm(a,n,res=1): # exponentiation rapide en récursivité terminale\n",
    "    if n ==0 : # condition d'arrêt N°1\n",
    "        \n",
    "    if n ==1 : # condition d'arrêt N°2\n",
    "        \n",
    "        return a* res # la variable res est prise en compte à la fin\n",
    "    if (n % 2 == 0): # parité?\n",
    "        return  # n pair\n",
    "    else:\n",
    "        return # n impair"
   ]
  },
  {
   "cell_type": "markdown",
   "metadata": {},
   "source": [
    "### Dérécursivation\n",
    "**Dérécursivation** de l'algorithme d'exponentiation rapide.\n",
    "\n",
    "Proposition une version itérative ``puissanceIterRapide(a,n)`` de l'algorithme d'exponentiation rapide.\n",
    "\n",
    "\n",
    "Indication : pour calculer $3^{23}$, considérer l'écriture en binaire de $n=23$.\n",
    "\n",
    "$n=16+4+2+1$, ainsi le nombre $3^{23}$ peut s'écrire comme un produit de puissances de 3 dont les exposants sont des puissances de 2 : $3^{2^k}$.\n",
    "$$3^{23}=3^{16} \\times 3^4 \\times 3^2 \\times 3^1$$\n",
    "L'idée est donc d'utiliser une boucle sur les puissances $3^{2^k}$ et de multiplier une variable auxiliaire par ces puissances lorsque les termes interviennent dans la décomposition."
   ]
  },
  {
   "cell_type": "code",
   "execution_count": null,
   "metadata": {},
   "outputs": [],
   "source": [
    "def puissanceIterRapide(a,n): # exponentiation rapide dérécursivée\n",
    "    "
   ]
  },
  {
   "cell_type": "code",
   "execution_count": null,
   "metadata": {
    "scrolled": true
   },
   "outputs": [],
   "source": [
    "for k in range(12):\n",
    "    print('3 ^( ',k,' ) = ',3**k,'  ', puissanceIterRapide(3,k))"
   ]
  },
  {
   "cell_type": "markdown",
   "metadata": {},
   "source": [
    "**Prouver** la terminaison, la correction de cet algorithme et calculer la complexité $C(n)$ en terme de multiplications dans les cas:\n",
    "- $n=2^p $, $\\quad p$ entier naturel.\n",
    "- $n=2^p-1$, $p$ entier naturel."
   ]
  },
  {
   "cell_type": "markdown",
   "metadata": {},
   "source": [
    "## Exercice 10* : les tours de Hanoï\n",
    "\n",
    "Le matériel de ce casse-tête classique est constitué de trois piquets, notés A, B, C et de $n$ rondelles de diamètres diﬀérents percées en leur centre de sorte qu’elles peuvent être enﬁlées sur les piquets.\n",
    "\n",
    "Dans la position initiale, les rondelles sont enﬁlées par ordre de diamètre décroissant sur le piquet 1 ; le but du jeu est de les transférer vers le piquet 3 en respectant la règle suivante : “déplacer une seule rondelle à la fois, de sorte qu’à aucun moment il n’y ait une rondelle posée sur une autre de diamètre inférieur”. \n",
    "\n",
    "Écrire une fonction récursive  **aﬃchant une succession de déplacements** permettant de résoudre ce problème sous la forme $[ i \\to j ]$, où les indices $i,j$ $\\big( (i,j) \\in [\\![ 1 , 3 ]\\! ]\\times[\\![ 1 , 3 ]\\! ] \\big)$ représentent les piquets.\n",
    "\n",
    "La fonction créée possèdera la syntaxe : ``deplacer(n,i,f)`` (n : nombre de rondelles empilées, i: position initiale, f: position finale).\n",
    "\n",
    "Déterminer par le calcul le nombre de déplacements $C(n)$ eﬀectués en fonction de n. Vérifier la relation obtenue pour $C(n)$ à l'aide de la fonction Python que vous modifierez en conséquence.\n",
    "\n",
    "Afficher les valeurs de $C(n)$ pour $n$ allant de 1 à 10.\n"
   ]
  },
  {
   "cell_type": "markdown",
   "metadata": {},
   "source": [
    "![Tour de Hanoï](img/hanoiTower.png)"
   ]
  },
  {
   "cell_type": "code",
   "execution_count": null,
   "metadata": {},
   "outputs": [],
   "source": [
    "# ON POURRA S'AIDER DE LA TRAME A COMPLETER\n",
    "def deplacer(n,i,f):\n",
    "    if ... :\n",
    "        inter = ...\n",
    "        deplacer(..., ..., ...)\n",
    "        print( .. ,' --> ',...)\n",
    "        deplacer(...,...,...)"
   ]
  }
 ],
 "metadata": {
  "kernelspec": {
   "display_name": "Python 3",
   "language": "python",
   "name": "python3"
  },
  "language_info": {
   "codemirror_mode": {
    "name": "ipython",
    "version": 3
   },
   "file_extension": ".py",
   "mimetype": "text/x-python",
   "name": "python",
   "nbconvert_exporter": "python",
   "pygments_lexer": "ipython3",
   "version": "3.7.6"
  }
 },
 "nbformat": 4,
 "nbformat_minor": 4
}
